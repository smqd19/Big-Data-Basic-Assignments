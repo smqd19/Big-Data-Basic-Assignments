{
 "metadata": {
  "language_info": {
   "codemirror_mode": {
    "name": "ipython",
    "version": 3
   },
   "file_extension": ".py",
   "mimetype": "text/x-python",
   "name": "python",
   "nbconvert_exporter": "python",
   "pygments_lexer": "ipython3",
   "version": "3.8.5"
  },
  "orig_nbformat": 2,
  "kernelspec": {
   "name": "python385jvsc74a57bd0b3ba2566441a7c06988d0923437866b63cedc61552a5af99d1f4fb67d367b25f",
   "display_name": "Python 3.8.5 64-bit ('base': conda)"
  }
 },
 "nbformat": 4,
 "nbformat_minor": 2,
 "cells": [
  {
   "cell_type": "code",
   "execution_count": 1,
   "metadata": {},
   "outputs": [],
   "source": [
    "import findspark\n",
    "findspark.init()\n",
    "import pyspark\n",
    "\n",
    "from pyspark import SparkContext, SparkConf\n",
    "from pyspark.sql import SparkSession\n",
    "from operator import add\n",
    "import time"
   ]
  },
  {
   "cell_type": "code",
   "execution_count": 5,
   "metadata": {
    "tags": []
   },
   "outputs": [],
   "source": [
    "# Read file\n",
    "spark=SparkSession.builder.appName('Assignment_6_and_7').getOrCreate()\n",
    "data=(spark.read.option('header','true').csv('Dataset.csv', sep=\",\" , inferSchema=True)).persist()"
   ]
  },
  {
   "cell_type": "code",
   "execution_count": 6,
   "metadata": {},
   "outputs": [
    {
     "output_type": "stream",
     "name": "stdout",
     "text": [
      "root\n |-- age: string (nullable = true)\n |-- workclass: string (nullable = true)\n |-- education: string (nullable = true)\n |-- Education_numOfYears: integer (nullable = true)\n |-- marital_status: string (nullable = true)\n |-- occupation: string (nullable = true)\n |-- relationship: string (nullable = true)\n |-- race: string (nullable = true)\n |-- sex: string (nullable = true)\n |-- hous_per_week: string (nullable = true)\n |-- native_country: string (nullable = true)\n |-- fifty_bool: string (nullable = true)\n\n"
     ]
    }
   ],
   "source": [
    "data.printSchema()"
   ]
  },
  {
   "cell_type": "code",
   "execution_count": 2,
   "metadata": {
    "tags": [
     "outputPrepend"
    ]
   },
   "outputs": [
    {
     "output_type": "stream",
     "name": "stdout",
     "text": [
      "14,Married,Technical-Working-Class, Husband, White, Male,Normal-Hours, United-States, >50K.', 'Young-Age,Private,HS-Graduates,10,Never-married,Other-Service, Own-child, White, Female,Relaxed-Time-Hours, United-States, <=50K.', 'Old-Age,Goverment,HS-Graduates,9,Divorced,Exec-managerial, Unmarried, Amer-Indian-Eskimo, Male,Relaxed-Time-Hours, United-States, <=50K.', 'Middle-Age,Private,Associates,11,Divorced,Technical-Working-Class, Unmarried, White, Female,Part-Time-Hours, United-States, <=50K.', 'Young-Age,Private,Bachelors,13,Never-married,Technical-Working-Class, Own-child, White, Male,Part-Time-Hours, United-States, <=50K.', 'Middle-Age,Private,Associates,11,Divorced,Other-Service, Not-in-family, White, Female,Part-Time-Hours, United-States, <=50K.', 'Middle-Age,Private,HS-Graduates,9,Married,Lowwer-Working-Class, Husband, White, Male,Over-Time-Hours, United-States, <=50K.', 'Young-Age,Private,HS-Graduates,9,Married,Lowwer-Working-Class, Husband, White, Male,Over-Time-Hours, United-States, <=50K.', 'Middle-Age,Private,Bachelors,13,Divorced,Technical-Working-Class, Not-in-family, White, Female,Part-Time-Hours, United-States, <=50K.', 'Young-Age,Self-Employed,Bachelors,13,Married,Other-Service, Husband, White, Male,Part-Time-Hours, Germany, <=50K.', 'Young-Age,Private,HS-Graduates,9,Never-married,Exec-managerial, Not-in-family, White, Male,Normal-Hours, United-States, <=50K.', 'Young-Age,Private,Incomplete-Education,7,Never-married,Lowwer-Working-Class, Own-child, White, Male,Relaxed-Time-Hours, United-States, <=50K.', 'Middle-Age,Private,HS-Graduates,10,Never-married,Exec-managerial, Not-in-family, White, Female,Part-Time-Hours, United-States, <=50K.', 'Old-Age,Goverment,Masters,14,Married,Technical-Working-Class, Husband, White, Male,Normal-Hours, United-States, >50K.', 'Young-Age,Private,HS-Graduates,9,Never-married,Other-Service, Not-in-family, Black, Male,Part-Time-Hours, United-States, <=50K.', 'Young-Age,Private,HS-Graduates,10,Never-married,Other-Service, Unmarried, Black, Female,Part-Time-Hours, Trinadad&Tobago, <=50K.', 'Middle-Age,Goverment,HS-Graduates,9,Married,Lowwer-Working-Class, Other-relative, White, Male,Part-Time-Hours, United-States, <=50K.', 'Young-Age,Self-Employed,HS-Graduates,9,Married,Lowwer-Working-Class, Husband, White, Male,Normal-Hours, United-States, <=50K.', 'Middle-Age,Private,HS-Graduates,9,Married,Other-Service, Husband, White, Male,Over-Time-Hours, United-States, <=50K.', 'Young-Age,Private,Associates,12,Married,Lowwer-Working-Class, Husband, White, Male,Part-Time-Hours, United-States, >50K.', 'Old-Age,Goverment,Incomplete-Education,6,NO-Spouse,Other-Service, Not-in-family, White, Female,Part-Time-Hours, United-States, <=50K.', 'Middle-Age,Goverment,Masters,14,Married,Other-Service, Husband, Black, Male,Part-Time-Hours, Trinadad&Tobago, <=50K.', 'Middle-Age,Private,HS-Graduates,10,Divorced,Exec-managerial, Not-in-family, White, Female,Part-Time-Hours, United-States, <=50K.', 'Young-Age,Private,Incomplete-Education,8,Married,Lowwer-Working-Class, Husband, White, Male,Part-Time-Hours, United-States, <=50K.', 'Young-Age,Private,HS-Graduates,9,Married,Technical-Working-Class, Wife, White, Female,Part-Time-Hours, United-States, <=50K.', 'Young-Age,Goverment,Bachelors,13,Never-married,Technical-Working-Class, Own-child, White, Female,Part-Time-Hours, United-States, <=50K.', 'Old-Age,Private,Associates,11,Married,Technical-Working-Class, Husband, White, Male,Part-Time-Hours, United-States, <=50K.', 'Old-Age,Goverment,HS-Graduates,9,Married,Other-Service, Husband, White, Male,Relaxed-Time-Hours, United-States, <=50K.', 'Middle-Age,Private,HS-Graduates,9,Married,Lowwer-Working-Class, Husband, White, Male,Part-Time-Hours, United-States, <=50K.', 'Old-Age,Private,HS-Graduates,9,Married,Technical-Working-Class, Wife, White, Female,Part-Time-Hours, United-States, <=50K.', 'Middle-Age,Private,HS-Graduates,9,Never-married,Other-Service, Not-in-family, White, Male,Part-Time-Hours, United-States, <=50K.', 'Middle-Age,Goverment,HS-Graduates,9,Married,Exec-managerial, Husband, White, Male,Part-Time-Hours, United-States, <=50K.', 'Middle-Age,Private,Bachelors,13,Married,Exec-managerial, Husband, White, Male,Normal-Hours, United-States, >50K.', 'Middle-Age,Private,Associates,11,Married,Technical-Working-Class, Husband, White, Male,Part-Time-Hours, United-States, <=50K.', 'Old-Age,Private,Bachelors,13,Divorced,Exec-managerial, Unmarried, White, Male,Normal-Hours, United-States, >50K.', 'Middle-Age,Private,HS-Graduates,10,Married,Technical-Working-Class, Wife, White, Female,Part-Time-Hours, United-States, >50K.', 'Middle-Age,Private,HS-Graduates,9,Married,Lowwer-Working-Class, Husband, White, Male,Normal-Hours, United-States, >50K.', 'Middle-Age,Private,HS-Graduates,10,Married,Exec-managerial, Husband, White, Male,Normal-Hours, United-States, >50K.', 'Middle-Age,Self-Employed,Bachelors,13,Married,Exec-managerial, Husband, White, Male,Over-Time-Hours, United-States, <=50K.', 'Young-Age,Private,HS-Graduates,9,Never-married,Other-Service, Other-relative, White, Female,Part-Time-Hours, United-States, <=50K.', 'Middle-Age,Private,HS-Graduates,9,Married,Lowwer-Working-Class, Husband, White, Male,Part-Time-Hours, United-States, >50K.', 'Middle-Age,Private,Bachelors,13,Married,Other-Service, Husband, White, Male,Normal-Hours, United-States, >50K.', 'Old-Age,Self-Employed,Associates,11,Married,Exec-managerial, Husband, White, Male,Normal-Hours, United-States, <=50K.', 'Young-Age,Private,HS-Graduates,10,Married,Technical-Working-Class, Husband, White, Male,Part-Time-Hours, United-States, <=50K.', 'Old-Age,Private,Bachelors,13,Married,Exec-managerial, Husband, White, Male,Over-Time-Hours, United-States, >50K.', 'Young-Age,Private,HS-Graduates,9,Divorced,Technical-Working-Class, Not-in-family, White, Female,Part-Time-Hours, United-States, <=50K.', 'Young-Age,Private,HS-Graduates,9,Divorced,Lowwer-Working-Class, Not-in-family, White, Male,Normal-Hours, United-States, <=50K.', 'Young-Age,Private,HS-Graduates,9,Married,Other-Service, Husband, White, Male,Part-Time-Hours, United-States, <=50K.', 'Young-Age,Private,Bachelors,13,Never-married,Exec-managerial, Other-relative, White, Female,Part-Time-Hours, United-States, <=50K.', 'Middle-Age,Private,Incomplete-Education,8,NO-Spouse,Lowwer-Working-Class, Not-in-family, Asian-Pac-Islander, Male,Part-Time-Hours, Guatemala, <=50K.', 'Middle-Age,Private,Bachelors,13,Never-married,Exec-managerial, Not-in-family, White, Female,Part-Time-Hours, United-States, <=50K.', 'Young-Age,Private,Bachelors,13,Married,Other-Service, Wife, White, Female,Normal-Hours, United-States, <=50K.', 'Young-Age,Private,Bachelors,13,Never-married,Other-Service, Not-in-family, White, Female,Part-Time-Hours, United-States, <=50K.', 'Old-Age,Goverment,Doctorate,16,Married,Other-Service, Husband, White, Male,Normal-Hours, United-States, >50K.', 'Old-Age,Goverment,Incomplete-Education,15,Married,Technical-Working-Class, Husband, White, Male,Part-Time-Hours, United-States, >50K.', 'Middle-Age,Private,Incomplete-Education,6,Divorced,Other-Service, Unmarried, White, Female,Part-Time-Hours, United-States, <=50K.', 'Young-Age,Private,HS-Graduates,10,Never-married,Technical-Working-Class, Not-in-family, White, Male,Relaxed-Time-Hours, United-States, <=50K.', 'Young-Age,Private,HS-Graduates,9,Married,Lowwer-Working-Class, Husband, White, Male,Normal-Hours, United-States, <=50K.', 'Middle-Age,Private,Masters,14,Never-married,Exec-managerial, Own-child, White, Male,Part-Time-Hours, United-States, >50K.', 'Young-Age,Private,Masters,14,Married,Other-Service, Wife, White, Female,Relaxed-Time-Hours, United-States, >50K.', 'Young-Age,Private,Associates,12,Married,Exec-managerial, Husband, White, Male,Normal-Hours, United-States, >50K.', 'Young-Age,Private,HS-Graduates,9,Married,Other-Service, Husband, White, Male,Normal-Hours, Japan, <=50K.', 'Middle-Age,Private,HS-Graduates,9,Married,Other-Service, Own-child, White, Female,Relaxed-Time-Hours, United-States, <=50K.', 'Old-Age,Goverment,Bachelors,13,Married,Technical-Working-Class, Husband, White, Male,Part-Time-Hours, United-States, >50K.', 'Young-Age,Private,Bachelors,13,Married,Other-Service, Husband, White, Male,Normal-Hours, United-States, >50K.', 'Young-Age,Private,HS-Graduates,9,Divorced,Lowwer-Working-Class, Not-in-family, White, Male,Part-Time-Hours, United-States, <=50K.', 'Old-Age,Private,Incomplete-Education,6,Divorced,Other-Service, Unmarried, White, Female,Over-Time-Hours, United-States, <=50K.', 'Middle-Age,Private,Bachelors,13,Never-married,Technical-Working-Class, Not-in-family, White, Female,Normal-Hours, United-States, <=50K.', 'Young-Age,Private,HS-Graduates,10,Never-married,Other-Service, Not-in-family, White, Male,Part-Time-Hours, United-States, <=50K.', 'Middle-Age,Private,Incomplete-Education,15,Married,Technical-Working-Class, Husband, Asian-Pac-Islander, Male,Part-Time-Hours, India, <=50K.', 'Young-Age,Private,HS-Graduates,9,Married,Other-Service, Husband, White, Male,Part-Time-Hours, United-States, <=50K.', 'Young-Age,Private,Bachelors,13,Never-married,Technical-Working-Class, Own-child, Black, Male,Part-Time-Hours, United-States, <=50K.', 'Young-Age,Private,HS-Graduates,9,Divorced,Other-Service, Unmarried, White, Female,Part-Time-Hours, United-States, <=50K.', 'Young-Age,Private,HS-Graduates,9,Married,Technical-Working-Class, Husband, White, Male,Part-Time-Hours, United-States, >50K.', 'Young-Age,Private,HS-Graduates,9,Married,Technical-Working-Class, Husband, White, Male,Part-Time-Hours, United-States, <=50K.', 'Young-Age,Self-Employed,HS-Graduates,10,Married,Lowwer-Working-Class, Husband, White, Male,Part-Time-Hours, United-States, <=50K.', 'Young-Age,Private,HS-Graduates,10,Never-married,Other-Service, Not-in-family, White, Male,Part-Time-Hours, United-States, <=50K.', 'Old-Age,Self-Employed,HS-Graduates,9,Married,Lowwer-Working-Class, Husband, White, Male,Part-Time-Hours, United-States, <=50K.', 'Young-Age,Private,HS-Graduates,9,Never-married,Other-Service, Not-in-family, White, Female,Part-Time-Hours, United-States, <=50K.', 'Old-Age,Self-Employed,HS-Graduates,10,Married,Lowwer-Working-Class, Husband, White, Male,Relaxed-Time-Hours, United-States, <=50K.', 'Middle-Age,Self-Employed,Masters,14,Married,Other-Service, Husband, White, Male,Normal-Hours, United-States, <=50K.', 'Young-Age,Private,Bachelors,13,Never-married,Other-Service, Not-in-family, White, Male,Normal-Hours, United-States, <=50K.', 'Young-Age,Goverment,Associates,12,Divorced,Exec-managerial, Not-in-family, Asian-Pac-Islander, Female,Part-Time-Hours, Vietnam, <=50K.', 'Old-Age,Private,Associates,11,Divorced,Other-Service, Other-relative, Asian-Pac-Islander, Female,Part-Time-Hours, Outlying-US(Guam-USVI-etc), <=50K.', 'Old-Age,Private,Incomplete-Education,4,Married,Lowwer-Working-Class, Husband, White, Male,Part-Time-Hours, United-States, >50K.', 'Middle-Age,Goverment,HS-Graduates,9,Married,Other-Service, Husband, Amer-Indian-Eskimo, Male,Part-Time-Hours, United-States, <=50K.', 'Young-Age,Private,HS-Graduates,10,Never-married,Other-Service, Other-relative, White, Female,Part-Time-Hours, United-States, <=50K.', 'Young-Age,Private,HS-Graduates,9,Married,Technical-Working-Class, Wife, Asian-Pac-Islander, Female,Normal-Hours, United-States, >50K.', 'Young-Age,Private,HS-Graduates,9,Never-married,Other-Service, Unmarried, Black, Female,Part-Time-Hours, United-States, <=50K.', 'Middle-Age,Goverment,Bachelors,13,Divorced,Technical-Working-Class, Unmarried, White, Female,Normal-Hours, United-States, <=50K.', 'Young-Age,Private,HS-Graduates,10,Divorced,Other-Service, Other-relative, White, Female,Relaxed-Time-Hours, United-States, <=50K.', 'Middle-Age,Private,HS-Graduates,9,Never-married,Lowwer-Working-Class, Own-child, Black, Male,Part-Time-Hours, United-States, <=50K.', 'Old-Age,Private,HS-Graduates,9,Divorced,Lowwer-Working-Class, Unmarried, White, Female,Part-Time-Hours, United-States, <=50K.', 'Middle-Age,Private,HS-Graduates,10,Married,Exec-managerial, Husband, White, Male,Normal-Hours, United-States, >50K.', 'Young-Age,Private,HS-Graduates,9,Never-married,Exec-managerial, Own-child, Asian-Pac-Islander, Female,Relaxed-Time-Hours, United-States, <=50K.', 'Young-Age,Private,Incomplete-Education,7,Married,Lowwer-Working-Class, Husband, White, Male,Normal-Hours, United-States, <=50K.', 'Young-Age,Self-Employed,HS-Graduates,9,Divorced,Other-Service, Unmarried, White, Male,Normal-Hours, United-States, >50K.', 'Young-Age,Private,Bachelors,13,Never-married,Lowwer-Working-Class, Not-in-family, White, Male,Part-Time-Hours, United-States, <=50K.', 'Old-Age,Self-Employed,HS-Graduates,9,Married,Other-Service, Husband, White, Male,Relaxed-Time-Hours, United-States, <=50K.', 'Old-Age,Private,Incomplete-Education,4,Married,Lowwer-Working-Class, Husband, White, Male,Normal-Hours, United-States, <=50K.', 'Young-Age,Private,HS-Graduates,9,Never-married,Other-Service, Own-child, White, Female,Relaxed-Time-Hours, United-States, <=50K.', 'Young-Age,Private,HS-Graduates,9,Divorced,Other-Service, Not-in-family, White, Female,Part-Time-Hours, United-States, <=50K.', 'Middle-Age,Self-Employed,Bachelors,13,Divorced,Lowwer-Working-Class, Not-in-family, White, Male,Relaxed-Time-Hours, United-States, >50K.', 'Old-Age,Private,HS-Graduates,9,Married,Technical-Working-Class, Wife, White, Female,Part-Time-Hours, Peru, >50K.', 'Old-Age,Self-Employed,Incomplete-Education,15,Married,Technical-Working-Class, Husband, White, Male,Relaxed-Time-Hours, United-States, <=50K.', 'Young-Age,Private,HS-Graduates,9,Never-married,Lowwer-Working-Class, Not-in-family, White, Male,Part-Time-Hours, United-States, <=50K.', 'Young-Age,Goverment,HS-Graduates,10,Married,Lowwer-Working-Class, Husband, Black, Male,Part-Time-Hours, United-States, >50K.', 'Young-Age,Private,HS-Graduates,9,Married,Lowwer-Working-Class, Husband, White, Male,Normal-Hours, United-States, <=50K.', 'Middle-Age,Private,Incomplete-Education,4,Married,Lowwer-Working-Class, Husband, White, Male,Part-Time-Hours, United-States, <=50K.', 'Young-Age,Goverment,HS-Graduates,9,Married,Lowwer-Working-Class, Wife, White, Female,Part-Time-Hours, United-States, >50K.', 'Middle-Age,Private,HS-Graduates,9,Married,Lowwer-Working-Class, Husband, Black, Male,Normal-Hours, United-States, <=50K.', 'Young-Age,Goverment,HS-Graduates,9,Married,Other-Service, Husband, Black, Male,Part-Time-Hours, United-States, <=50K.', 'Young-Age,Private,HS-Graduates,10,Divorced,Other-Service, Not-in-family, White, Female,Part-Time-Hours, United-States, <=50K.', 'Young-Age,Private,Bachelors,13,Never-married,Technical-Working-Class, Not-in-family, Asian-Pac-Islander, Male,Normal-Hours, Philippines, <=50K.', 'Old-Age,Private,Incomplete-Education,8,Married,Lowwer-Working-Class, Husband, White, Male,Part-Time-Hours, United-States, <=50K.', 'Young-Age,Private,Incomplete-Education,15,Married,Technical-Working-Class, Husband, White, Male,Over-Time-Hours, United-States, >50K.', 'Young-Age,Private,HS-Graduates,9,Never-married,Lowwer-Working-Class, Own-child, White, Female,Part-Time-Hours, United-States, <=50K.', 'Old-Age,Private,HS-Graduates,10,Married,Technical-Working-Class, Husband, White, Male,Normal-Hours, United-States, >50K.', 'Old-Age,Private,Bachelors,13,Divorced,Technical-Working-Class, Not-in-family, White, Male,Part-Time-Hours, United-States, <=50K.', 'Middle-Age,Goverment,Masters,14,Never-married,Other-Service, Not-in-family, White, Male,Part-Time-Hours, United-States, <=50K.', 'Middle-Age,Private,Associates,11,Married,Other-Service, Husband, White, Male,Normal-Hours, United-States, <=50K.', 'Young-Age,Private,Associates,11,Married,Other-Service, Husband, White, Male,Normal-Hours, United-States, >50K.', 'Old-Age,Self-Employed,Bachelors,13,Married,Other-Service, Husband, White, Male,Part-Time-Hours, United-States, >50K.', 'Young-Age,Private,Incomplete-Education,5,Never-married,Lowwer-Working-Class, Own-child, White, Male,Relaxed-Time-Hours, United-States, <=50K.', 'Young-Age,Private,Incomplete-Education,7,Divorced,Lowwer-Working-Class, Not-in-family, White, Male,Part-Time-Hours, Mexico, <=50K.', 'Young-Age,Private,HS-Graduates,9,Divorced,Technical-Working-Class, Not-in-family, Black, Male,Part-Time-Hours, United-States, <=50K.', 'Young-Age,Private,HS-Graduates,9,Never-married,Technical-Working-Class, Not-in-family, White, Male,Part-Time-Hours, United-States, <=50K.', 'Middle-Age,Self-Employed,HS-Graduates,9,Married,Exec-managerial, Husband, White, Male,Part-Time-Hours, Canada, >50K.', 'Old-Age,Private,Associates,11,Married,Technical-Working-Class, Husband, White, Male,Part-Time-Hours, United-States, >50K.', 'Middle-Age,Private,Bachelors,13,Never-married,Technical-Working-Class, Not-in-family, White, Female,Part-Time-Hours, United-States, <=50K.', 'Middle-Age,Private,Masters,14,Married,Technical-Working-Class, Husband, White, Male,Normal-Hours, United-States, >50K.', 'Middle-Age,Goverment,Masters,14,Married,Exec-managerial, Husband, White, Male,Normal-Hours, United-States, >50K.', 'Young-Age,Private,HS-Graduates,9,Never-married,Technical-Working-Class, Own-child, White, Male,Part-Time-Hours, United-States, <=50K.', 'Old-Age,Self-Employed,HS-Graduates,10,Divorced,Exec-managerial, Not-in-family, White, Female,Part-Time-Hours, United-States, <=50K.', 'Young-Age,Private,HS-Graduates,10,Married,Other-Service, Husband, White, Male,Part-Time-Hours, United-States, <=50K.', 'Old-Age,Private,HS-Graduates,9,NO-Spouse,Other-Service, Other-relative, White, Female,Relaxed-Time-Hours, United-States, <=50K.', 'Young-Age,Private,HS-Graduates,10,Never-married,Other-Service, Not-in-family, White, Female,Normal-Hours, United-States, <=50K.', 'Middle-Age,Private,Incomplete-Education,15,Married,Technical-Working-Class, Husband, White, Male,Normal-Hours, United-States, >50K.', 'Old-Age,Private,HS-Graduates,9,Married,Lowwer-Working-Class, Husband, White, Male,Part-Time-Hours, United-States, <=50K.', 'Young-Age,Private,HS-Graduates,10,Never-married,Lowwer-Working-Class, Own-child, White, Male,Part-Time-Hours, United-States, <=50K.', 'Old-Age,Self-Employed,HS-Graduates,9,NO-Spouse,Lowwer-Working-Class, Not-in-family, White, Male,Part-Time-Hours, United-States, <=50K.', 'Old-Age,Private,HS-Graduates,9,Divorced,Lowwer-Working-Class, Not-in-family, White, Female,Part-Time-Hours, United-States, <=50K.', 'Middle-Age,Private,Associates,11,Never-married,Other-Service, Unmarried, Black, Female,Part-Time-Hours, United-States, <=50K.', 'Old-Age,Private,Associates,12,Divorced,Technical-Working-Class, Not-in-family, White, Male,Part-Time-Hours, United-States, <=50K.', 'Young-Age,Private,HS-Graduates,9,Married,Lowwer-Working-Class, Husband, White, Male,Part-Time-Hours, United-States, <=50K.', 'Middle-Age,Private,HS-Graduates,9,Married,Other-Service, Husband, White, Male,Part-Time-Hours, United-States, <=50K.', 'Old-Age,Private,HS-Graduates,9,Married,Other-Service, Husband, White, Male,Normal-Hours, United-States, <=50K.', 'Young-Age,Private,HS-Graduates,9,Married,Lowwer-Working-Class, Husband, White, Male,Part-Time-Hours, United-States, <=50K.', 'Young-Age,Private,HS-Graduates,9,Never-married,Other-Service, Own-child, White, Female,Part-Time-Hours, United-States, <=50K.', 'Middle-Age,Goverment,Masters,14,Divorced,Other-Service, Not-in-family, White, Male,Part-Time-Hours, United-States, <=50K.', 'Young-Age,Private,Bachelors,13,Never-married,Technical-Working-Class, Own-child, White, Male,Part-Time-Hours, United-States, <=50K.', 'Middle-Age,Private,Bachelors,13,Divorced,Technical-Working-Class, Not-in-family, White, Female,Part-Time-Hours, United-States, <=50K.', 'Middle-Age,Private,Bachelors,13,Married,Technical-Working-Class, Husband, White, Male,Normal-Hours, United-States, <=50K.', 'Middle-Age,Private,Bachelors,13,Divorced,Other-Service, Own-child, Asian-Pac-Islander, Male,Part-Time-Hours, United-States, <=50K.', 'Young-Age,Self-Employed,Bachelors,13,Married,Exec-managerial, Husband, White, Male,Normal-Hours, United-States, >50K.']\n"
     ]
    }
   ],
   "source": [
    "# Read file\n",
    "sc = SparkContext(\"local\" , \"Apriori\")\n",
    "file =  sc.textFile(\"Dataset.csv\")\n",
    "\n",
    "print(file.collect())"
   ]
  },
  {
   "cell_type": "code",
   "execution_count": 3,
   "metadata": {
    "tags": [
     "outputPrepend"
    ]
   },
   "outputs": [
    {
     "output_type": "stream",
     "name": "stdout",
     "text": [
      "ciates', '11', 'Married', 'Technical-Working-Class', ' Husband', ' White', ' Male', 'Part-Time-Hours', ' United-States', ' <=50K.'], ['Old-Age', 'Private', 'Bachelors', '13', 'Divorced', 'Exec-managerial', ' Unmarried', ' White', ' Male', 'Normal-Hours', ' United-States', ' >50K.'], ['Middle-Age', 'Private', 'HS-Graduates', '10', 'Married', 'Technical-Working-Class', ' Wife', ' White', ' Female', 'Part-Time-Hours', ' United-States', ' >50K.'], ['Middle-Age', 'Private', 'HS-Graduates', '9', 'Married', 'Lowwer-Working-Class', ' Husband', ' White', ' Male', 'Normal-Hours', ' United-States', ' >50K.'], ['Middle-Age', 'Private', 'HS-Graduates', '10', 'Married', 'Exec-managerial', ' Husband', ' White', ' Male', 'Normal-Hours', ' United-States', ' >50K.'], ['Middle-Age', 'Self-Employed', 'Bachelors', '13', 'Married', 'Exec-managerial', ' Husband', ' White', ' Male', 'Over-Time-Hours', ' United-States', ' <=50K.'], ['Young-Age', 'Private', 'HS-Graduates', '9', 'Never-married', 'Other-Service', ' Other-relative', ' White', ' Female', 'Part-Time-Hours', ' United-States', ' <=50K.'], ['Middle-Age', 'Private', 'HS-Graduates', '9', 'Married', 'Lowwer-Working-Class', ' Husband', ' White', ' Male', 'Part-Time-Hours', ' United-States', ' >50K.'], ['Middle-Age', 'Private', 'Bachelors', '13', 'Married', 'Other-Service', ' Husband', ' White', ' Male', 'Normal-Hours', ' United-States', ' >50K.'], ['Old-Age', 'Self-Employed', 'Associates', '11', 'Married', 'Exec-managerial', ' Husband', ' White', ' Male', 'Normal-Hours', ' United-States', ' <=50K.'], ['Young-Age', 'Private', 'HS-Graduates', '10', 'Married', 'Technical-Working-Class', ' Husband', ' White', ' Male', 'Part-Time-Hours', ' United-States', ' <=50K.'], ['Old-Age', 'Private', 'Bachelors', '13', 'Married', 'Exec-managerial', ' Husband', ' White', ' Male', 'Over-Time-Hours', ' United-States', ' >50K.'], ['Young-Age', 'Private', 'HS-Graduates', '9', 'Divorced', 'Technical-Working-Class', ' Not-in-family', ' White', ' Female', 'Part-Time-Hours', ' United-States', ' <=50K.'], ['Young-Age', 'Private', 'HS-Graduates', '9', 'Divorced', 'Lowwer-Working-Class', ' Not-in-family', ' White', ' Male', 'Normal-Hours', ' United-States', ' <=50K.'], ['Young-Age', 'Private', 'HS-Graduates', '9', 'Married', 'Other-Service', ' Husband', ' White', ' Male', 'Part-Time-Hours', ' United-States', ' <=50K.'], ['Young-Age', 'Private', 'Bachelors', '13', 'Never-married', 'Exec-managerial', ' Other-relative', ' White', ' Female', 'Part-Time-Hours', ' United-States', ' <=50K.'], ['Middle-Age', 'Private', 'Incomplete-Education', '8', 'NO-Spouse', 'Lowwer-Working-Class', ' Not-in-family', ' Asian-Pac-Islander', ' Male', 'Part-Time-Hours', ' Guatemala', ' <=50K.'], ['Middle-Age', 'Private', 'Bachelors', '13', 'Never-married', 'Exec-managerial', ' Not-in-family', ' White', ' Female', 'Part-Time-Hours', ' United-States', ' <=50K.'], ['Young-Age', 'Private', 'Bachelors', '13', 'Married', 'Other-Service', ' Wife', ' White', ' Female', 'Normal-Hours', ' United-States', ' <=50K.'], ['Young-Age', 'Private', 'Bachelors', '13', 'Never-married', 'Other-Service', ' Not-in-family', ' White', ' Female', 'Part-Time-Hours', ' United-States', ' <=50K.'], ['Old-Age', 'Goverment', 'Doctorate', '16', 'Married', 'Other-Service', ' Husband', ' White', ' Male', 'Normal-Hours', ' United-States', ' >50K.'], ['Old-Age', 'Goverment', 'Incomplete-Education', '15', 'Married', 'Technical-Working-Class', ' Husband', ' White', ' Male', 'Part-Time-Hours', ' United-States', ' >50K.'], ['Middle-Age', 'Private', 'Incomplete-Education', '6', 'Divorced', 'Other-Service', ' Unmarried', ' White', ' Female', 'Part-Time-Hours', ' United-States', ' <=50K.'], ['Young-Age', 'Private', 'HS-Graduates', '10', 'Never-married', 'Technical-Working-Class', ' Not-in-family', ' White', ' Male', 'Relaxed-Time-Hours', ' United-States', ' <=50K.'], ['Young-Age', 'Private', 'HS-Graduates', '9', 'Married', 'Lowwer-Working-Class', ' Husband', ' White', ' Male', 'Normal-Hours', ' United-States', ' <=50K.'], ['Middle-Age', 'Private', 'Masters', '14', 'Never-married', 'Exec-managerial', ' Own-child', ' White', ' Male', 'Part-Time-Hours', ' United-States', ' >50K.'], ['Young-Age', 'Private', 'Masters', '14', 'Married', 'Other-Service', ' Wife', ' White', ' Female', 'Relaxed-Time-Hours', ' United-States', ' >50K.'], ['Young-Age', 'Private', 'Associates', '12', 'Married', 'Exec-managerial', ' Husband', ' White', ' Male', 'Normal-Hours', ' United-States', ' >50K.'], ['Young-Age', 'Private', 'HS-Graduates', '9', 'Married', 'Other-Service', ' Husband', ' White', ' Male', 'Normal-Hours', ' Japan', ' <=50K.'], ['Middle-Age', 'Private', 'HS-Graduates', '9', 'Married', 'Other-Service', ' Own-child', ' White', ' Female', 'Relaxed-Time-Hours', ' United-States', ' <=50K.'], ['Old-Age', 'Goverment', 'Bachelors', '13', 'Married', 'Technical-Working-Class', ' Husband', ' White', ' Male', 'Part-Time-Hours', ' United-States', ' >50K.'], ['Young-Age', 'Private', 'Bachelors', '13', 'Married', 'Other-Service', ' Husband', ' White', ' Male', 'Normal-Hours', ' United-States', ' >50K.'], ['Young-Age', 'Private', 'HS-Graduates', '9', 'Divorced', 'Lowwer-Working-Class', ' Not-in-family', ' White', ' Male', 'Part-Time-Hours', ' United-States', ' <=50K.'], ['Old-Age', 'Private', 'Incomplete-Education', '6', 'Divorced', 'Other-Service', ' Unmarried', ' White', ' Female', 'Over-Time-Hours', ' United-States', ' <=50K.'], ['Middle-Age', 'Private', 'Bachelors', '13', 'Never-married', 'Technical-Working-Class', ' Not-in-family', ' White', ' Female', 'Normal-Hours', ' United-States', ' <=50K.'], ['Young-Age', 'Private', 'HS-Graduates', '10', 'Never-married', 'Other-Service', ' Not-in-family', ' White', ' Male', 'Part-Time-Hours', ' United-States', ' <=50K.'], ['Middle-Age', 'Private', 'Incomplete-Education', '15', 'Married', 'Technical-Working-Class', ' Husband', ' Asian-Pac-Islander', ' Male', 'Part-Time-Hours', ' India', ' <=50K.'], ['Young-Age', 'Private', 'HS-Graduates', '9', 'Married', 'Other-Service', ' Husband', ' White', ' Male', 'Part-Time-Hours', ' United-States', ' <=50K.'], ['Young-Age', 'Private', 'Bachelors', '13', 'Never-married', 'Technical-Working-Class', ' Own-child', ' Black', ' Male', 'Part-Time-Hours', ' United-States', ' <=50K.'], ['Young-Age', 'Private', 'HS-Graduates', '9', 'Divorced', 'Other-Service', ' Unmarried', ' White', ' Female', 'Part-Time-Hours', ' United-States', ' <=50K.'], ['Young-Age', 'Private', 'HS-Graduates', '9', 'Married', 'Technical-Working-Class', ' Husband', ' White', ' Male', 'Part-Time-Hours', ' United-States', ' >50K.'], ['Young-Age', 'Private', 'HS-Graduates', '9', 'Married', 'Technical-Working-Class', ' Husband', ' White', ' Male', 'Part-Time-Hours', ' United-States', ' <=50K.'], ['Young-Age', 'Self-Employed', 'HS-Graduates', '10', 'Married', 'Lowwer-Working-Class', ' Husband', ' White', ' Male', 'Part-Time-Hours', ' United-States', ' <=50K.'], ['Young-Age', 'Private', 'HS-Graduates', '10', 'Never-married', 'Other-Service', ' Not-in-family', ' White', ' Male', 'Part-Time-Hours', ' United-States', ' <=50K.'], ['Old-Age', 'Self-Employed', 'HS-Graduates', '9', 'Married', 'Lowwer-Working-Class', ' Husband', ' White', ' Male', 'Part-Time-Hours', ' United-States', ' <=50K.'], ['Young-Age', 'Private', 'HS-Graduates', '9', 'Never-married', 'Other-Service', ' Not-in-family', ' White', ' Female', 'Part-Time-Hours', ' United-States', ' <=50K.'], ['Old-Age', 'Self-Employed', 'HS-Graduates', '10', 'Married', 'Lowwer-Working-Class', ' Husband', ' White', ' Male', 'Relaxed-Time-Hours', ' United-States', ' <=50K.'], ['Middle-Age', 'Self-Employed', 'Masters', '14', 'Married', 'Other-Service', ' Husband', ' White', ' Male', 'Normal-Hours', ' United-States', ' <=50K.'], ['Young-Age', 'Private', 'Bachelors', '13', 'Never-married', 'Other-Service', ' Not-in-family', ' White', ' Male', 'Normal-Hours', ' United-States', ' <=50K.'], ['Young-Age', 'Goverment', 'Associates', '12', 'Divorced', 'Exec-managerial', ' Not-in-family', ' Asian-Pac-Islander', ' Female', 'Part-Time-Hours', ' Vietnam', ' <=50K.'], ['Old-Age', 'Private', 'Associates', '11', 'Divorced', 'Other-Service', ' Other-relative', ' Asian-Pac-Islander', ' Female', 'Part-Time-Hours', ' Outlying-US(Guam-USVI-etc)', ' <=50K.'], ['Old-Age', 'Private', 'Incomplete-Education', '4', 'Married', 'Lowwer-Working-Class', ' Husband', ' White', ' Male', 'Part-Time-Hours', ' United-States', ' >50K.'], ['Middle-Age', 'Goverment', 'HS-Graduates', '9', 'Married', 'Other-Service', ' Husband', ' Amer-Indian-Eskimo', ' Male', 'Part-Time-Hours', ' United-States', ' <=50K.'], ['Young-Age', 'Private', 'HS-Graduates', '10', 'Never-married', 'Other-Service', ' Other-relative', ' White', ' Female', 'Part-Time-Hours', ' United-States', ' <=50K.'], ['Young-Age', 'Private', 'HS-Graduates', '9', 'Married', 'Technical-Working-Class', ' Wife', ' Asian-Pac-Islander', ' Female', 'Normal-Hours', ' United-States', ' >50K.'], ['Young-Age', 'Private', 'HS-Graduates', '9', 'Never-married', 'Other-Service', ' Unmarried', ' Black', ' Female', 'Part-Time-Hours', ' United-States', ' <=50K.'], ['Middle-Age', 'Goverment', 'Bachelors', '13', 'Divorced', 'Technical-Working-Class', ' Unmarried', ' White', ' Female', 'Normal-Hours', ' United-States', ' <=50K.'], ['Young-Age', 'Private', 'HS-Graduates', '10', 'Divorced', 'Other-Service', ' Other-relative', ' White', ' Female', 'Relaxed-Time-Hours', ' United-States', ' <=50K.'], ['Middle-Age', 'Private', 'HS-Graduates', '9', 'Never-married', 'Lowwer-Working-Class', ' Own-child', ' Black', ' Male', 'Part-Time-Hours', ' United-States', ' <=50K.'], ['Old-Age', 'Private', 'HS-Graduates', '9', 'Divorced', 'Lowwer-Working-Class', ' Unmarried', ' White', ' Female', 'Part-Time-Hours', ' United-States', ' <=50K.'], ['Middle-Age', 'Private', 'HS-Graduates', '10', 'Married', 'Exec-managerial', ' Husband', ' White', ' Male', 'Normal-Hours', ' United-States', ' >50K.'], ['Young-Age', 'Private', 'HS-Graduates', '9', 'Never-married', 'Exec-managerial', ' Own-child', ' Asian-Pac-Islander', ' Female', 'Relaxed-Time-Hours', ' United-States', ' <=50K.'], ['Young-Age', 'Private', 'Incomplete-Education', '7', 'Married', 'Lowwer-Working-Class', ' Husband', ' White', ' Male', 'Normal-Hours', ' United-States', ' <=50K.'], ['Young-Age', 'Self-Employed', 'HS-Graduates', '9', 'Divorced', 'Other-Service', ' Unmarried', ' White', ' Male', 'Normal-Hours', ' United-States', ' >50K.'], ['Young-Age', 'Private', 'Bachelors', '13', 'Never-married', 'Lowwer-Working-Class', ' Not-in-family', ' White', ' Male', 'Part-Time-Hours', ' United-States', ' <=50K.'], ['Old-Age', 'Self-Employed', 'HS-Graduates', '9', 'Married', 'Other-Service', ' Husband', ' White', ' Male', 'Relaxed-Time-Hours', ' United-States', ' <=50K.'], ['Old-Age', 'Private', 'Incomplete-Education', '4', 'Married', 'Lowwer-Working-Class', ' Husband', ' White', ' Male', 'Normal-Hours', ' United-States', ' <=50K.'], ['Young-Age', 'Private', 'HS-Graduates', '9', 'Never-married', 'Other-Service', ' Own-child', ' White', ' Female', 'Relaxed-Time-Hours', ' United-States', ' <=50K.'], ['Young-Age', 'Private', 'HS-Graduates', '9', 'Divorced', 'Other-Service', ' Not-in-family', ' White', ' Female', 'Part-Time-Hours', ' United-States', ' <=50K.'], ['Middle-Age', 'Self-Employed', 'Bachelors', '13', 'Divorced', 'Lowwer-Working-Class', ' Not-in-family', ' White', ' Male', 'Relaxed-Time-Hours', ' United-States', ' >50K.'], ['Old-Age', 'Private', 'HS-Graduates', '9', 'Married', 'Technical-Working-Class', ' Wife', ' White', ' Female', 'Part-Time-Hours', ' Peru', ' >50K.'], ['Old-Age', 'Self-Employed', 'Incomplete-Education', '15', 'Married', 'Technical-Working-Class', ' Husband', ' White', ' Male', 'Relaxed-Time-Hours', ' United-States', ' <=50K.'], ['Young-Age', 'Private', 'HS-Graduates', '9', 'Never-married', 'Lowwer-Working-Class', ' Not-in-family', ' White', ' Male', 'Part-Time-Hours', ' United-States', ' <=50K.'], ['Young-Age', 'Goverment', 'HS-Graduates', '10', 'Married', 'Lowwer-Working-Class', ' Husband', ' Black', ' Male', 'Part-Time-Hours', ' United-States', ' >50K.'], ['Young-Age', 'Private', 'HS-Graduates', '9', 'Married', 'Lowwer-Working-Class', ' Husband', ' White', ' Male', 'Normal-Hours', ' United-States', ' <=50K.'], ['Middle-Age', 'Private', 'Incomplete-Education', '4', 'Married', 'Lowwer-Working-Class', ' Husband', ' White', ' Male', 'Part-Time-Hours', ' United-States', ' <=50K.'], ['Young-Age', 'Goverment', 'HS-Graduates', '9', 'Married', 'Lowwer-Working-Class', ' Wife', ' White', ' Female', 'Part-Time-Hours', ' United-States', ' >50K.'], ['Middle-Age', 'Private', 'HS-Graduates', '9', 'Married', 'Lowwer-Working-Class', ' Husband', ' Black', ' Male', 'Normal-Hours', ' United-States', ' <=50K.'], ['Young-Age', 'Goverment', 'HS-Graduates', '9', 'Married', 'Other-Service', ' Husband', ' Black', ' Male', 'Part-Time-Hours', ' United-States', ' <=50K.'], ['Young-Age', 'Private', 'HS-Graduates', '10', 'Divorced', 'Other-Service', ' Not-in-family', ' White', ' Female', 'Part-Time-Hours', ' United-States', ' <=50K.'], ['Young-Age', 'Private', 'Bachelors', '13', 'Never-married', 'Technical-Working-Class', ' Not-in-family', ' Asian-Pac-Islander', ' Male', 'Normal-Hours', ' Philippines', ' <=50K.'], ['Old-Age', 'Private', 'Incomplete-Education', '8', 'Married', 'Lowwer-Working-Class', ' Husband', ' White', ' Male', 'Part-Time-Hours', ' United-States', ' <=50K.'], ['Young-Age', 'Private', 'Incomplete-Education', '15', 'Married', 'Technical-Working-Class', ' Husband', ' White', ' Male', 'Over-Time-Hours', ' United-States', ' >50K.'], ['Young-Age', 'Private', 'HS-Graduates', '9', 'Never-married', 'Lowwer-Working-Class', ' Own-child', ' White', ' Female', 'Part-Time-Hours', ' United-States', ' <=50K.'], ['Old-Age', 'Private', 'HS-Graduates', '10', 'Married', 'Technical-Working-Class', ' Husband', ' White', ' Male', 'Normal-Hours', ' United-States', ' >50K.'], ['Old-Age', 'Private', 'Bachelors', '13', 'Divorced', 'Technical-Working-Class', ' Not-in-family', ' White', ' Male', 'Part-Time-Hours', ' United-States', ' <=50K.'], ['Middle-Age', 'Goverment', 'Masters', '14', 'Never-married', 'Other-Service', ' Not-in-family', ' White', ' Male', 'Part-Time-Hours', ' United-States', ' <=50K.'], ['Middle-Age', 'Private', 'Associates', '11', 'Married', 'Other-Service', ' Husband', ' White', ' Male', 'Normal-Hours', ' United-States', ' <=50K.'], ['Young-Age', 'Private', 'Associates', '11', 'Married', 'Other-Service', ' Husband', ' White', ' Male', 'Normal-Hours', ' United-States', ' >50K.'], ['Old-Age', 'Self-Employed', 'Bachelors', '13', 'Married', 'Other-Service', ' Husband', ' White', ' Male', 'Part-Time-Hours', ' United-States', ' >50K.'], ['Young-Age', 'Private', 'Incomplete-Education', '5', 'Never-married', 'Lowwer-Working-Class', ' Own-child', ' White', ' Male', 'Relaxed-Time-Hours', ' United-States', ' <=50K.'], ['Young-Age', 'Private', 'Incomplete-Education', '7', 'Divorced', 'Lowwer-Working-Class', ' Not-in-family', ' White', ' Male', 'Part-Time-Hours', ' Mexico', ' <=50K.'], ['Young-Age', 'Private', 'HS-Graduates', '9', 'Divorced', 'Technical-Working-Class', ' Not-in-family', ' Black', ' Male', 'Part-Time-Hours', ' United-States', ' <=50K.'], ['Young-Age', 'Private', 'HS-Graduates', '9', 'Never-married', 'Technical-Working-Class', ' Not-in-family', ' White', ' Male', 'Part-Time-Hours', ' United-States', ' <=50K.'], ['Middle-Age', 'Self-Employed', 'HS-Graduates', '9', 'Married', 'Exec-managerial', ' Husband', ' White', ' Male', 'Part-Time-Hours', ' Canada', ' >50K.'], ['Old-Age', 'Private', 'Associates', '11', 'Married', 'Technical-Working-Class', ' Husband', ' White', ' Male', 'Part-Time-Hours', ' United-States', ' >50K.'], ['Middle-Age', 'Private', 'Bachelors', '13', 'Never-married', 'Technical-Working-Class', ' Not-in-family', ' White', ' Female', 'Part-Time-Hours', ' United-States', ' <=50K.'], ['Middle-Age', 'Private', 'Masters', '14', 'Married', 'Technical-Working-Class', ' Husband', ' White', ' Male', 'Normal-Hours', ' United-States', ' >50K.'], ['Middle-Age', 'Goverment', 'Masters', '14', 'Married', 'Exec-managerial', ' Husband', ' White', ' Male', 'Normal-Hours', ' United-States', ' >50K.'], ['Young-Age', 'Private', 'HS-Graduates', '9', 'Never-married', 'Technical-Working-Class', ' Own-child', ' White', ' Male', 'Part-Time-Hours', ' United-States', ' <=50K.'], ['Old-Age', 'Self-Employed', 'HS-Graduates', '10', 'Divorced', 'Exec-managerial', ' Not-in-family', ' White', ' Female', 'Part-Time-Hours', ' United-States', ' <=50K.'], ['Young-Age', 'Private', 'HS-Graduates', '10', 'Married', 'Other-Service', ' Husband', ' White', ' Male', 'Part-Time-Hours', ' United-States', ' <=50K.'], ['Old-Age', 'Private', 'HS-Graduates', '9', 'NO-Spouse', 'Other-Service', ' Other-relative', ' White', ' Female', 'Relaxed-Time-Hours', ' United-States', ' <=50K.'], ['Young-Age', 'Private', 'HS-Graduates', '10', 'Never-married', 'Other-Service', ' Not-in-family', ' White', ' Female', 'Normal-Hours', ' United-States', ' <=50K.'], ['Middle-Age', 'Private', 'Incomplete-Education', '15', 'Married', 'Technical-Working-Class', ' Husband', ' White', ' Male', 'Normal-Hours', ' United-States', ' >50K.'], ['Old-Age', 'Private', 'HS-Graduates', '9', 'Married', 'Lowwer-Working-Class', ' Husband', ' White', ' Male', 'Part-Time-Hours', ' United-States', ' <=50K.'], ['Young-Age', 'Private', 'HS-Graduates', '10', 'Never-married', 'Lowwer-Working-Class', ' Own-child', ' White', ' Male', 'Part-Time-Hours', ' United-States', ' <=50K.'], ['Old-Age', 'Self-Employed', 'HS-Graduates', '9', 'NO-Spouse', 'Lowwer-Working-Class', ' Not-in-family', ' White', ' Male', 'Part-Time-Hours', ' United-States', ' <=50K.'], ['Old-Age', 'Private', 'HS-Graduates', '9', 'Divorced', 'Lowwer-Working-Class', ' Not-in-family', ' White', ' Female', 'Part-Time-Hours', ' United-States', ' <=50K.'], ['Middle-Age', 'Private', 'Associates', '11', 'Never-married', 'Other-Service', ' Unmarried', ' Black', ' Female', 'Part-Time-Hours', ' United-States', ' <=50K.'], ['Old-Age', 'Private', 'Associates', '12', 'Divorced', 'Technical-Working-Class', ' Not-in-family', ' White', ' Male', 'Part-Time-Hours', ' United-States', ' <=50K.'], ['Young-Age', 'Private', 'HS-Graduates', '9', 'Married', 'Lowwer-Working-Class', ' Husband', ' White', ' Male', 'Part-Time-Hours', ' United-States', ' <=50K.'], ['Middle-Age', 'Private', 'HS-Graduates', '9', 'Married', 'Other-Service', ' Husband', ' White', ' Male', 'Part-Time-Hours', ' United-States', ' <=50K.'], ['Old-Age', 'Private', 'HS-Graduates', '9', 'Married', 'Other-Service', ' Husband', ' White', ' Male', 'Normal-Hours', ' United-States', ' <=50K.'], ['Young-Age', 'Private', 'HS-Graduates', '9', 'Married', 'Lowwer-Working-Class', ' Husband', ' White', ' Male', 'Part-Time-Hours', ' United-States', ' <=50K.'], ['Young-Age', 'Private', 'HS-Graduates', '9', 'Never-married', 'Other-Service', ' Own-child', ' White', ' Female', 'Part-Time-Hours', ' United-States', ' <=50K.'], ['Middle-Age', 'Goverment', 'Masters', '14', 'Divorced', 'Other-Service', ' Not-in-family', ' White', ' Male', 'Part-Time-Hours', ' United-States', ' <=50K.'], ['Young-Age', 'Private', 'Bachelors', '13', 'Never-married', 'Technical-Working-Class', ' Own-child', ' White', ' Male', 'Part-Time-Hours', ' United-States', ' <=50K.'], ['Middle-Age', 'Private', 'Bachelors', '13', 'Divorced', 'Technical-Working-Class', ' Not-in-family', ' White', ' Female', 'Part-Time-Hours', ' United-States', ' <=50K.'], ['Middle-Age', 'Private', 'Bachelors', '13', 'Married', 'Technical-Working-Class', ' Husband', ' White', ' Male', 'Normal-Hours', ' United-States', ' <=50K.'], ['Middle-Age', 'Private', 'Bachelors', '13', 'Divorced', 'Other-Service', ' Own-child', ' Asian-Pac-Islander', ' Male', 'Part-Time-Hours', ' United-States', ' <=50K.'], ['Young-Age', 'Self-Employed', 'Bachelors', '13', 'Married', 'Exec-managerial', ' Husband', ' White', ' Male', 'Normal-Hours', ' United-States', ' >50K.']]\n"
     ]
    }
   ],
   "source": [
    "## Splited items  \n",
    "lblitems = file.map(lambda line: line.split(','))\n",
    "\n",
    "print(lblitems.collect())"
   ]
  },
  {
   "source": [
    "# Now, you can clearly see that every line in the transaction data-set is separated by a comma. And every array in our RDD represents the item lists those are customers’ transactions. We successfully red the file and converted it to a Spark RDD object by considering each transaction that belongs to customers."
   ],
   "cell_type": "markdown",
   "metadata": {}
  },
  {
   "source": [
    "##### Apriori algorithm depends on the frequencies of items. Because of that first, we need to obtain frequencies for every single item. These frequencies will be our first support values in table one (as mentioned in the previous section). In order to that, we need to extract every item in RDDs to whole items of the array. We can do that by using the “flatMap” method."
   ],
   "cell_type": "markdown",
   "metadata": {}
  },
  {
   "cell_type": "code",
   "execution_count": 4,
   "metadata": {
    "tags": [
     "outputPrepend"
    ]
   },
   "outputs": [
    {
     "output_type": "stream",
     "name": "stdout",
     "text": [
      "hite', ' Male', 'Part-Time-Hours', ' United-States', ' <=50K.', 'Middle-Age', 'Private', 'Bachelors', '13', 'Married', 'Exec-managerial', ' Husband', ' White', ' Male', 'Normal-Hours', ' United-States', ' >50K.', 'Middle-Age', 'Private', 'Associates', '11', 'Married', 'Technical-Working-Class', ' Husband', ' White', ' Male', 'Part-Time-Hours', ' United-States', ' <=50K.', 'Old-Age', 'Private', 'Bachelors', '13', 'Divorced', 'Exec-managerial', ' Unmarried', ' White', ' Male', 'Normal-Hours', ' United-States', ' >50K.', 'Middle-Age', 'Private', 'HS-Graduates', '10', 'Married', 'Technical-Working-Class', ' Wife', ' White', ' Female', 'Part-Time-Hours', ' United-States', ' >50K.', 'Middle-Age', 'Private', 'HS-Graduates', '9', 'Married', 'Lowwer-Working-Class', ' Husband', ' White', ' Male', 'Normal-Hours', ' United-States', ' >50K.', 'Middle-Age', 'Private', 'HS-Graduates', '10', 'Married', 'Exec-managerial', ' Husband', ' White', ' Male', 'Normal-Hours', ' United-States', ' >50K.', 'Middle-Age', 'Self-Employed', 'Bachelors', '13', 'Married', 'Exec-managerial', ' Husband', ' White', ' Male', 'Over-Time-Hours', ' United-States', ' <=50K.', 'Young-Age', 'Private', 'HS-Graduates', '9', 'Never-married', 'Other-Service', ' Other-relative', ' White', ' Female', 'Part-Time-Hours', ' United-States', ' <=50K.', 'Middle-Age', 'Private', 'HS-Graduates', '9', 'Married', 'Lowwer-Working-Class', ' Husband', ' White', ' Male', 'Part-Time-Hours', ' United-States', ' >50K.', 'Middle-Age', 'Private', 'Bachelors', '13', 'Married', 'Other-Service', ' Husband', ' White', ' Male', 'Normal-Hours', ' United-States', ' >50K.', 'Old-Age', 'Self-Employed', 'Associates', '11', 'Married', 'Exec-managerial', ' Husband', ' White', ' Male', 'Normal-Hours', ' United-States', ' <=50K.', 'Young-Age', 'Private', 'HS-Graduates', '10', 'Married', 'Technical-Working-Class', ' Husband', ' White', ' Male', 'Part-Time-Hours', ' United-States', ' <=50K.', 'Old-Age', 'Private', 'Bachelors', '13', 'Married', 'Exec-managerial', ' Husband', ' White', ' Male', 'Over-Time-Hours', ' United-States', ' >50K.', 'Young-Age', 'Private', 'HS-Graduates', '9', 'Divorced', 'Technical-Working-Class', ' Not-in-family', ' White', ' Female', 'Part-Time-Hours', ' United-States', ' <=50K.', 'Young-Age', 'Private', 'HS-Graduates', '9', 'Divorced', 'Lowwer-Working-Class', ' Not-in-family', ' White', ' Male', 'Normal-Hours', ' United-States', ' <=50K.', 'Young-Age', 'Private', 'HS-Graduates', '9', 'Married', 'Other-Service', ' Husband', ' White', ' Male', 'Part-Time-Hours', ' United-States', ' <=50K.', 'Young-Age', 'Private', 'Bachelors', '13', 'Never-married', 'Exec-managerial', ' Other-relative', ' White', ' Female', 'Part-Time-Hours', ' United-States', ' <=50K.', 'Middle-Age', 'Private', 'Incomplete-Education', '8', 'NO-Spouse', 'Lowwer-Working-Class', ' Not-in-family', ' Asian-Pac-Islander', ' Male', 'Part-Time-Hours', ' Guatemala', ' <=50K.', 'Middle-Age', 'Private', 'Bachelors', '13', 'Never-married', 'Exec-managerial', ' Not-in-family', ' White', ' Female', 'Part-Time-Hours', ' United-States', ' <=50K.', 'Young-Age', 'Private', 'Bachelors', '13', 'Married', 'Other-Service', ' Wife', ' White', ' Female', 'Normal-Hours', ' United-States', ' <=50K.', 'Young-Age', 'Private', 'Bachelors', '13', 'Never-married', 'Other-Service', ' Not-in-family', ' White', ' Female', 'Part-Time-Hours', ' United-States', ' <=50K.', 'Old-Age', 'Goverment', 'Doctorate', '16', 'Married', 'Other-Service', ' Husband', ' White', ' Male', 'Normal-Hours', ' United-States', ' >50K.', 'Old-Age', 'Goverment', 'Incomplete-Education', '15', 'Married', 'Technical-Working-Class', ' Husband', ' White', ' Male', 'Part-Time-Hours', ' United-States', ' >50K.', 'Middle-Age', 'Private', 'Incomplete-Education', '6', 'Divorced', 'Other-Service', ' Unmarried', ' White', ' Female', 'Part-Time-Hours', ' United-States', ' <=50K.', 'Young-Age', 'Private', 'HS-Graduates', '10', 'Never-married', 'Technical-Working-Class', ' Not-in-family', ' White', ' Male', 'Relaxed-Time-Hours', ' United-States', ' <=50K.', 'Young-Age', 'Private', 'HS-Graduates', '9', 'Married', 'Lowwer-Working-Class', ' Husband', ' White', ' Male', 'Normal-Hours', ' United-States', ' <=50K.', 'Middle-Age', 'Private', 'Masters', '14', 'Never-married', 'Exec-managerial', ' Own-child', ' White', ' Male', 'Part-Time-Hours', ' United-States', ' >50K.', 'Young-Age', 'Private', 'Masters', '14', 'Married', 'Other-Service', ' Wife', ' White', ' Female', 'Relaxed-Time-Hours', ' United-States', ' >50K.', 'Young-Age', 'Private', 'Associates', '12', 'Married', 'Exec-managerial', ' Husband', ' White', ' Male', 'Normal-Hours', ' United-States', ' >50K.', 'Young-Age', 'Private', 'HS-Graduates', '9', 'Married', 'Other-Service', ' Husband', ' White', ' Male', 'Normal-Hours', ' Japan', ' <=50K.', 'Middle-Age', 'Private', 'HS-Graduates', '9', 'Married', 'Other-Service', ' Own-child', ' White', ' Female', 'Relaxed-Time-Hours', ' United-States', ' <=50K.', 'Old-Age', 'Goverment', 'Bachelors', '13', 'Married', 'Technical-Working-Class', ' Husband', ' White', ' Male', 'Part-Time-Hours', ' United-States', ' >50K.', 'Young-Age', 'Private', 'Bachelors', '13', 'Married', 'Other-Service', ' Husband', ' White', ' Male', 'Normal-Hours', ' United-States', ' >50K.', 'Young-Age', 'Private', 'HS-Graduates', '9', 'Divorced', 'Lowwer-Working-Class', ' Not-in-family', ' White', ' Male', 'Part-Time-Hours', ' United-States', ' <=50K.', 'Old-Age', 'Private', 'Incomplete-Education', '6', 'Divorced', 'Other-Service', ' Unmarried', ' White', ' Female', 'Over-Time-Hours', ' United-States', ' <=50K.', 'Middle-Age', 'Private', 'Bachelors', '13', 'Never-married', 'Technical-Working-Class', ' Not-in-family', ' White', ' Female', 'Normal-Hours', ' United-States', ' <=50K.', 'Young-Age', 'Private', 'HS-Graduates', '10', 'Never-married', 'Other-Service', ' Not-in-family', ' White', ' Male', 'Part-Time-Hours', ' United-States', ' <=50K.', 'Middle-Age', 'Private', 'Incomplete-Education', '15', 'Married', 'Technical-Working-Class', ' Husband', ' Asian-Pac-Islander', ' Male', 'Part-Time-Hours', ' India', ' <=50K.', 'Young-Age', 'Private', 'HS-Graduates', '9', 'Married', 'Other-Service', ' Husband', ' White', ' Male', 'Part-Time-Hours', ' United-States', ' <=50K.', 'Young-Age', 'Private', 'Bachelors', '13', 'Never-married', 'Technical-Working-Class', ' Own-child', ' Black', ' Male', 'Part-Time-Hours', ' United-States', ' <=50K.', 'Young-Age', 'Private', 'HS-Graduates', '9', 'Divorced', 'Other-Service', ' Unmarried', ' White', ' Female', 'Part-Time-Hours', ' United-States', ' <=50K.', 'Young-Age', 'Private', 'HS-Graduates', '9', 'Married', 'Technical-Working-Class', ' Husband', ' White', ' Male', 'Part-Time-Hours', ' United-States', ' >50K.', 'Young-Age', 'Private', 'HS-Graduates', '9', 'Married', 'Technical-Working-Class', ' Husband', ' White', ' Male', 'Part-Time-Hours', ' United-States', ' <=50K.', 'Young-Age', 'Self-Employed', 'HS-Graduates', '10', 'Married', 'Lowwer-Working-Class', ' Husband', ' White', ' Male', 'Part-Time-Hours', ' United-States', ' <=50K.', 'Young-Age', 'Private', 'HS-Graduates', '10', 'Never-married', 'Other-Service', ' Not-in-family', ' White', ' Male', 'Part-Time-Hours', ' United-States', ' <=50K.', 'Old-Age', 'Self-Employed', 'HS-Graduates', '9', 'Married', 'Lowwer-Working-Class', ' Husband', ' White', ' Male', 'Part-Time-Hours', ' United-States', ' <=50K.', 'Young-Age', 'Private', 'HS-Graduates', '9', 'Never-married', 'Other-Service', ' Not-in-family', ' White', ' Female', 'Part-Time-Hours', ' United-States', ' <=50K.', 'Old-Age', 'Self-Employed', 'HS-Graduates', '10', 'Married', 'Lowwer-Working-Class', ' Husband', ' White', ' Male', 'Relaxed-Time-Hours', ' United-States', ' <=50K.', 'Middle-Age', 'Self-Employed', 'Masters', '14', 'Married', 'Other-Service', ' Husband', ' White', ' Male', 'Normal-Hours', ' United-States', ' <=50K.', 'Young-Age', 'Private', 'Bachelors', '13', 'Never-married', 'Other-Service', ' Not-in-family', ' White', ' Male', 'Normal-Hours', ' United-States', ' <=50K.', 'Young-Age', 'Goverment', 'Associates', '12', 'Divorced', 'Exec-managerial', ' Not-in-family', ' Asian-Pac-Islander', ' Female', 'Part-Time-Hours', ' Vietnam', ' <=50K.', 'Old-Age', 'Private', 'Associates', '11', 'Divorced', 'Other-Service', ' Other-relative', ' Asian-Pac-Islander', ' Female', 'Part-Time-Hours', ' Outlying-US(Guam-USVI-etc)', ' <=50K.', 'Old-Age', 'Private', 'Incomplete-Education', '4', 'Married', 'Lowwer-Working-Class', ' Husband', ' White', ' Male', 'Part-Time-Hours', ' United-States', ' >50K.', 'Middle-Age', 'Goverment', 'HS-Graduates', '9', 'Married', 'Other-Service', ' Husband', ' Amer-Indian-Eskimo', ' Male', 'Part-Time-Hours', ' United-States', ' <=50K.', 'Young-Age', 'Private', 'HS-Graduates', '10', 'Never-married', 'Other-Service', ' Other-relative', ' White', ' Female', 'Part-Time-Hours', ' United-States', ' <=50K.', 'Young-Age', 'Private', 'HS-Graduates', '9', 'Married', 'Technical-Working-Class', ' Wife', ' Asian-Pac-Islander', ' Female', 'Normal-Hours', ' United-States', ' >50K.', 'Young-Age', 'Private', 'HS-Graduates', '9', 'Never-married', 'Other-Service', ' Unmarried', ' Black', ' Female', 'Part-Time-Hours', ' United-States', ' <=50K.', 'Middle-Age', 'Goverment', 'Bachelors', '13', 'Divorced', 'Technical-Working-Class', ' Unmarried', ' White', ' Female', 'Normal-Hours', ' United-States', ' <=50K.', 'Young-Age', 'Private', 'HS-Graduates', '10', 'Divorced', 'Other-Service', ' Other-relative', ' White', ' Female', 'Relaxed-Time-Hours', ' United-States', ' <=50K.', 'Middle-Age', 'Private', 'HS-Graduates', '9', 'Never-married', 'Lowwer-Working-Class', ' Own-child', ' Black', ' Male', 'Part-Time-Hours', ' United-States', ' <=50K.', 'Old-Age', 'Private', 'HS-Graduates', '9', 'Divorced', 'Lowwer-Working-Class', ' Unmarried', ' White', ' Female', 'Part-Time-Hours', ' United-States', ' <=50K.', 'Middle-Age', 'Private', 'HS-Graduates', '10', 'Married', 'Exec-managerial', ' Husband', ' White', ' Male', 'Normal-Hours', ' United-States', ' >50K.', 'Young-Age', 'Private', 'HS-Graduates', '9', 'Never-married', 'Exec-managerial', ' Own-child', ' Asian-Pac-Islander', ' Female', 'Relaxed-Time-Hours', ' United-States', ' <=50K.', 'Young-Age', 'Private', 'Incomplete-Education', '7', 'Married', 'Lowwer-Working-Class', ' Husband', ' White', ' Male', 'Normal-Hours', ' United-States', ' <=50K.', 'Young-Age', 'Self-Employed', 'HS-Graduates', '9', 'Divorced', 'Other-Service', ' Unmarried', ' White', ' Male', 'Normal-Hours', ' United-States', ' >50K.', 'Young-Age', 'Private', 'Bachelors', '13', 'Never-married', 'Lowwer-Working-Class', ' Not-in-family', ' White', ' Male', 'Part-Time-Hours', ' United-States', ' <=50K.', 'Old-Age', 'Self-Employed', 'HS-Graduates', '9', 'Married', 'Other-Service', ' Husband', ' White', ' Male', 'Relaxed-Time-Hours', ' United-States', ' <=50K.', 'Old-Age', 'Private', 'Incomplete-Education', '4', 'Married', 'Lowwer-Working-Class', ' Husband', ' White', ' Male', 'Normal-Hours', ' United-States', ' <=50K.', 'Young-Age', 'Private', 'HS-Graduates', '9', 'Never-married', 'Other-Service', ' Own-child', ' White', ' Female', 'Relaxed-Time-Hours', ' United-States', ' <=50K.', 'Young-Age', 'Private', 'HS-Graduates', '9', 'Divorced', 'Other-Service', ' Not-in-family', ' White', ' Female', 'Part-Time-Hours', ' United-States', ' <=50K.', 'Middle-Age', 'Self-Employed', 'Bachelors', '13', 'Divorced', 'Lowwer-Working-Class', ' Not-in-family', ' White', ' Male', 'Relaxed-Time-Hours', ' United-States', ' >50K.', 'Old-Age', 'Private', 'HS-Graduates', '9', 'Married', 'Technical-Working-Class', ' Wife', ' White', ' Female', 'Part-Time-Hours', ' Peru', ' >50K.', 'Old-Age', 'Self-Employed', 'Incomplete-Education', '15', 'Married', 'Technical-Working-Class', ' Husband', ' White', ' Male', 'Relaxed-Time-Hours', ' United-States', ' <=50K.', 'Young-Age', 'Private', 'HS-Graduates', '9', 'Never-married', 'Lowwer-Working-Class', ' Not-in-family', ' White', ' Male', 'Part-Time-Hours', ' United-States', ' <=50K.', 'Young-Age', 'Goverment', 'HS-Graduates', '10', 'Married', 'Lowwer-Working-Class', ' Husband', ' Black', ' Male', 'Part-Time-Hours', ' United-States', ' >50K.', 'Young-Age', 'Private', 'HS-Graduates', '9', 'Married', 'Lowwer-Working-Class', ' Husband', ' White', ' Male', 'Normal-Hours', ' United-States', ' <=50K.', 'Middle-Age', 'Private', 'Incomplete-Education', '4', 'Married', 'Lowwer-Working-Class', ' Husband', ' White', ' Male', 'Part-Time-Hours', ' United-States', ' <=50K.', 'Young-Age', 'Goverment', 'HS-Graduates', '9', 'Married', 'Lowwer-Working-Class', ' Wife', ' White', ' Female', 'Part-Time-Hours', ' United-States', ' >50K.', 'Middle-Age', 'Private', 'HS-Graduates', '9', 'Married', 'Lowwer-Working-Class', ' Husband', ' Black', ' Male', 'Normal-Hours', ' United-States', ' <=50K.', 'Young-Age', 'Goverment', 'HS-Graduates', '9', 'Married', 'Other-Service', ' Husband', ' Black', ' Male', 'Part-Time-Hours', ' United-States', ' <=50K.', 'Young-Age', 'Private', 'HS-Graduates', '10', 'Divorced', 'Other-Service', ' Not-in-family', ' White', ' Female', 'Part-Time-Hours', ' United-States', ' <=50K.', 'Young-Age', 'Private', 'Bachelors', '13', 'Never-married', 'Technical-Working-Class', ' Not-in-family', ' Asian-Pac-Islander', ' Male', 'Normal-Hours', ' Philippines', ' <=50K.', 'Old-Age', 'Private', 'Incomplete-Education', '8', 'Married', 'Lowwer-Working-Class', ' Husband', ' White', ' Male', 'Part-Time-Hours', ' United-States', ' <=50K.', 'Young-Age', 'Private', 'Incomplete-Education', '15', 'Married', 'Technical-Working-Class', ' Husband', ' White', ' Male', 'Over-Time-Hours', ' United-States', ' >50K.', 'Young-Age', 'Private', 'HS-Graduates', '9', 'Never-married', 'Lowwer-Working-Class', ' Own-child', ' White', ' Female', 'Part-Time-Hours', ' United-States', ' <=50K.', 'Old-Age', 'Private', 'HS-Graduates', '10', 'Married', 'Technical-Working-Class', ' Husband', ' White', ' Male', 'Normal-Hours', ' United-States', ' >50K.', 'Old-Age', 'Private', 'Bachelors', '13', 'Divorced', 'Technical-Working-Class', ' Not-in-family', ' White', ' Male', 'Part-Time-Hours', ' United-States', ' <=50K.', 'Middle-Age', 'Goverment', 'Masters', '14', 'Never-married', 'Other-Service', ' Not-in-family', ' White', ' Male', 'Part-Time-Hours', ' United-States', ' <=50K.', 'Middle-Age', 'Private', 'Associates', '11', 'Married', 'Other-Service', ' Husband', ' White', ' Male', 'Normal-Hours', ' United-States', ' <=50K.', 'Young-Age', 'Private', 'Associates', '11', 'Married', 'Other-Service', ' Husband', ' White', ' Male', 'Normal-Hours', ' United-States', ' >50K.', 'Old-Age', 'Self-Employed', 'Bachelors', '13', 'Married', 'Other-Service', ' Husband', ' White', ' Male', 'Part-Time-Hours', ' United-States', ' >50K.', 'Young-Age', 'Private', 'Incomplete-Education', '5', 'Never-married', 'Lowwer-Working-Class', ' Own-child', ' White', ' Male', 'Relaxed-Time-Hours', ' United-States', ' <=50K.', 'Young-Age', 'Private', 'Incomplete-Education', '7', 'Divorced', 'Lowwer-Working-Class', ' Not-in-family', ' White', ' Male', 'Part-Time-Hours', ' Mexico', ' <=50K.', 'Young-Age', 'Private', 'HS-Graduates', '9', 'Divorced', 'Technical-Working-Class', ' Not-in-family', ' Black', ' Male', 'Part-Time-Hours', ' United-States', ' <=50K.', 'Young-Age', 'Private', 'HS-Graduates', '9', 'Never-married', 'Technical-Working-Class', ' Not-in-family', ' White', ' Male', 'Part-Time-Hours', ' United-States', ' <=50K.', 'Middle-Age', 'Self-Employed', 'HS-Graduates', '9', 'Married', 'Exec-managerial', ' Husband', ' White', ' Male', 'Part-Time-Hours', ' Canada', ' >50K.', 'Old-Age', 'Private', 'Associates', '11', 'Married', 'Technical-Working-Class', ' Husband', ' White', ' Male', 'Part-Time-Hours', ' United-States', ' >50K.', 'Middle-Age', 'Private', 'Bachelors', '13', 'Never-married', 'Technical-Working-Class', ' Not-in-family', ' White', ' Female', 'Part-Time-Hours', ' United-States', ' <=50K.', 'Middle-Age', 'Private', 'Masters', '14', 'Married', 'Technical-Working-Class', ' Husband', ' White', ' Male', 'Normal-Hours', ' United-States', ' >50K.', 'Middle-Age', 'Goverment', 'Masters', '14', 'Married', 'Exec-managerial', ' Husband', ' White', ' Male', 'Normal-Hours', ' United-States', ' >50K.', 'Young-Age', 'Private', 'HS-Graduates', '9', 'Never-married', 'Technical-Working-Class', ' Own-child', ' White', ' Male', 'Part-Time-Hours', ' United-States', ' <=50K.', 'Old-Age', 'Self-Employed', 'HS-Graduates', '10', 'Divorced', 'Exec-managerial', ' Not-in-family', ' White', ' Female', 'Part-Time-Hours', ' United-States', ' <=50K.', 'Young-Age', 'Private', 'HS-Graduates', '10', 'Married', 'Other-Service', ' Husband', ' White', ' Male', 'Part-Time-Hours', ' United-States', ' <=50K.', 'Old-Age', 'Private', 'HS-Graduates', '9', 'NO-Spouse', 'Other-Service', ' Other-relative', ' White', ' Female', 'Relaxed-Time-Hours', ' United-States', ' <=50K.', 'Young-Age', 'Private', 'HS-Graduates', '10', 'Never-married', 'Other-Service', ' Not-in-family', ' White', ' Female', 'Normal-Hours', ' United-States', ' <=50K.', 'Middle-Age', 'Private', 'Incomplete-Education', '15', 'Married', 'Technical-Working-Class', ' Husband', ' White', ' Male', 'Normal-Hours', ' United-States', ' >50K.', 'Old-Age', 'Private', 'HS-Graduates', '9', 'Married', 'Lowwer-Working-Class', ' Husband', ' White', ' Male', 'Part-Time-Hours', ' United-States', ' <=50K.', 'Young-Age', 'Private', 'HS-Graduates', '10', 'Never-married', 'Lowwer-Working-Class', ' Own-child', ' White', ' Male', 'Part-Time-Hours', ' United-States', ' <=50K.', 'Old-Age', 'Self-Employed', 'HS-Graduates', '9', 'NO-Spouse', 'Lowwer-Working-Class', ' Not-in-family', ' White', ' Male', 'Part-Time-Hours', ' United-States', ' <=50K.', 'Old-Age', 'Private', 'HS-Graduates', '9', 'Divorced', 'Lowwer-Working-Class', ' Not-in-family', ' White', ' Female', 'Part-Time-Hours', ' United-States', ' <=50K.', 'Middle-Age', 'Private', 'Associates', '11', 'Never-married', 'Other-Service', ' Unmarried', ' Black', ' Female', 'Part-Time-Hours', ' United-States', ' <=50K.', 'Old-Age', 'Private', 'Associates', '12', 'Divorced', 'Technical-Working-Class', ' Not-in-family', ' White', ' Male', 'Part-Time-Hours', ' United-States', ' <=50K.', 'Young-Age', 'Private', 'HS-Graduates', '9', 'Married', 'Lowwer-Working-Class', ' Husband', ' White', ' Male', 'Part-Time-Hours', ' United-States', ' <=50K.', 'Middle-Age', 'Private', 'HS-Graduates', '9', 'Married', 'Other-Service', ' Husband', ' White', ' Male', 'Part-Time-Hours', ' United-States', ' <=50K.', 'Old-Age', 'Private', 'HS-Graduates', '9', 'Married', 'Other-Service', ' Husband', ' White', ' Male', 'Normal-Hours', ' United-States', ' <=50K.', 'Young-Age', 'Private', 'HS-Graduates', '9', 'Married', 'Lowwer-Working-Class', ' Husband', ' White', ' Male', 'Part-Time-Hours', ' United-States', ' <=50K.', 'Young-Age', 'Private', 'HS-Graduates', '9', 'Never-married', 'Other-Service', ' Own-child', ' White', ' Female', 'Part-Time-Hours', ' United-States', ' <=50K.', 'Middle-Age', 'Goverment', 'Masters', '14', 'Divorced', 'Other-Service', ' Not-in-family', ' White', ' Male', 'Part-Time-Hours', ' United-States', ' <=50K.', 'Young-Age', 'Private', 'Bachelors', '13', 'Never-married', 'Technical-Working-Class', ' Own-child', ' White', ' Male', 'Part-Time-Hours', ' United-States', ' <=50K.', 'Middle-Age', 'Private', 'Bachelors', '13', 'Divorced', 'Technical-Working-Class', ' Not-in-family', ' White', ' Female', 'Part-Time-Hours', ' United-States', ' <=50K.', 'Middle-Age', 'Private', 'Bachelors', '13', 'Married', 'Technical-Working-Class', ' Husband', ' White', ' Male', 'Normal-Hours', ' United-States', ' <=50K.', 'Middle-Age', 'Private', 'Bachelors', '13', 'Divorced', 'Other-Service', ' Own-child', ' Asian-Pac-Islander', ' Male', 'Part-Time-Hours', ' United-States', ' <=50K.', 'Young-Age', 'Self-Employed', 'Bachelors', '13', 'Married', 'Exec-managerial', ' Husband', ' White', ' Male', 'Normal-Hours', ' United-States', ' >50K.']\n"
     ]
    }
   ],
   "source": [
    "## Whole lines in single array \n",
    "wlitems = file.flatMap(lambda line:line.split(','))\n",
    "\n",
    "print(wlitems.collect())"
   ]
  },
  {
   "cell_type": "code",
   "execution_count": 6,
   "metadata": {},
   "outputs": [],
   "source": [
    "#### As you can see from the result; All our transaction items are in a single array. Now we can calculate each unique item’s frequency. Do not forget that these frequencies will be our first supports values. If we would be working on a “NumPy” array, finding frequencies would be easy. But, we work on RDDs and that’s why we need to find a way to obtain frequencies by considering the “MapReduce” approach. Solution; First we can convert every item to a “tuple” object and add “1” as a second item of “tuple”. We can sum these values by using the “reduceByKey” (It is like the groupby method in SQL) method. By summing tuple’s second numbers we can get every unique item’s frequency (how many time occurs on customers’ transactions). We will also need to list unique items in the feature sections. So, we can also obtain unique items by using the “distinct” method."
   ]
  },
  {
   "cell_type": "code",
   "execution_count": 5,
   "metadata": {},
   "outputs": [],
   "source": [
    "## Unique frequent items in dataset\n",
    "uniqueItems = wlitems.distinct()\n",
    "\n",
    "# Add 1 as Tuple\n",
    "supportRdd = wlitems.map(lambda item: (item , 1))\n",
    "\n",
    "# Method for sum in reduceByKey method\n",
    "def sumOparator(x,y):\n",
    "    return x+y\n",
    "\n",
    "# Sum of values by key\n",
    "supportRdd = supportRdd.reduceByKey(sumOparator)\n",
    "\n",
    "# print(supportRdd.collect()) # Retruns following array \n",
    "# [('Apple', 12), ('Mango', 10), ('Banana', 9), ('Coconut', 3), \n",
    "#  ('Strawberry', 4), ('Grapes', 2), ('Lemon', 1), ('Raspberry', 9), ('Rassberry', 1)]\n",
    "\n",
    "\n",
    "# First support values\n",
    "supports = supportRdd.map(lambda item: item[1]) # Return only support values"
   ]
  },
  {
   "source": [
    "#### If you run “supportRdd.collect()” after the above code snippet, you get the first item -support tuples (assume as Table A). As you can see from support values, “Apple” has more frequency than the others. It means the probability of “Apple” purchases is greater than the others. These support values are gotten by considering each item separately. We also need to consider how they occur together in transactions. Thanks to that we can calculate confidence values over the Apriori algorithm. We will see these steps in the next sessions."
   ],
   "cell_type": "markdown",
   "metadata": {}
  },
  {
   "source": [
    "##### Min Support Value In order to decide which item-sets will stay in the support tables, we need to define a min support value. We can choose min support value as the minimum frequency that is in the first support values array (table). If any support values in item set arrays are less than min support value, we should remove that item set from that array. If our data hasn’t got many records, min support might be 1. In such cases, we can define min support as 2 or any value more than 1."
   ],
   "cell_type": "markdown",
   "metadata": {}
  },
  {
   "cell_type": "code",
   "execution_count": 8,
   "metadata": {},
   "outputs": [
    {
     "output_type": "stream",
     "name": "stdout",
     "text": [
      "1 . Table has crated...\n"
     ]
    }
   ],
   "source": [
    "# Define minimum support value \n",
    "minSupport = supports.min()\n",
    "\n",
    "# If mininmum support is 1 then replace it with 2 \n",
    "minSupport = 2 if minSupport == 1 else minSupport\n",
    "\n",
    "## Filter first supportRdd with minimum support \n",
    "supportRdd = supportRdd.filter(lambda item: item[1] >= minSupport )\n",
    "\n",
    "## Craete base RDD with will be updated every iteration\n",
    "baseRdd = supportRdd.map(lambda item: ([item[0]] , item[1])) \n",
    "print('1 . Table has crated...') \n",
    "\n",
    "supportRdd = supportRdd.map(lambda item: item[0])\n",
    "supportRddCart = supportRdd"
   ]
  },
  {
   "source": [
    "#### In this example, we have a minimum support value that has been found as 1. To get a more consistent result we can set min support as 2. It means that if any item or item set occurs in a transaction less than 2 times we won’t take it into account. As you can see from line 8 we filtered our first item set table (which is single item support values) according to min support value. We also created a “baseRdd” object. “baseRdd” represents our first support values for every single item. This object will be updated with upcoming support values of combinations. We also need to define “supportRdd” that shows only items without support values. We will use it in the next sections in order to create combinations of items.\n",
    "Getting into the Apriori Algorithm\n",
    "We only found each item’s support value (frequencies) until this section. Now, we will create an algorithm that generates combinations of items in a while loop. There will be different support tables that will be created in every loop. This while loop will end when there isn’t any combination whose support value more than min support value. This algorithm will control how many times these combinations of items occur together in transaction data-set in every loop and save it in an RDD.\n",
    "We already created a “supportRdd” object which only includes the first table’s item set without support values (which only have one item in each row). Now, we will use this RDD in a while loop to combine it with unique items in order to create other support tables. However, this RDD will be updated after every loop. For example;\n",
    "# Fitst supportRDD\n",
    "([Apple] , [Mango] , [Banana] , [Grapes])\n",
    "# After first loop = supportRDD \n",
    "([Apple,Mango],[Mango,Banana],[Apple,Banana],[Apple,Grapes] ......)\n",
    "# After second loop = supportRDD\n",
    "([Apple,Mango,Grapes] , [Apple,Banana,Grapes] ........ )\n",
    "The algorithm will filter every combination table according to min support value. When there is no item set while loop will end. Besides, we also need to define a function that can find replications inside the combined item set. As mentioned before; sets of (Apple, Mango) and (Mango, Apple) are the same thing for the Apriori algorithm. Because of that, we need to find such patterns and remove one of them. As you can see from the below code snippet, there is a function called “removeReplica”. This function removes such duplicated items after a combination and returns only one of them."
   ],
   "cell_type": "markdown",
   "metadata": {}
  },
  {
   "cell_type": "code",
   "execution_count": 9,
   "metadata": {},
   "outputs": [],
   "source": [
    "def removeReplica(record):\n",
    "\n",
    "    if(isinstance(record[0], tuple)):\n",
    "        x1 = record[0]\n",
    "        x2 = record[1]\n",
    "    else:\n",
    "        x1 = [record[0]]\n",
    "        x2 = record[1]\n",
    "\n",
    "    if(any(x == x2 for x in x1) == False):\n",
    "        a = list(x1)\n",
    "        a.append(x2)\n",
    "        a.sort()\n",
    "        result = tuple(a)\n",
    "        return result \n",
    "    else:\n",
    "        return x1"
   ]
  },
  {
   "source": [
    "### Yeap! We are ready to create our while loop. First, we need to define a variable that we can control item-set length in each loop. It is represented as “c” in the above code snippet. This “c” variable starts from 2. Why? Remember that we already created our first support table as “supportRdd”. So, in the while loop support table will start from c=2. It means the first support table that is going to be created in while loop will have item-sets which has 2 items. In order to create combinations of items, we can use the “cartesian” function that comes with PySpark (at line 6). It is created we will remove duplicated items (at line 7). We will use the “c” variable in order to filter combined items more than the “c” variable (at line 9). However, we also use the “distinct” method to get a unique item-set just in case."
   ],
   "cell_type": "markdown",
   "metadata": {}
  },
  {
   "cell_type": "code",
   "execution_count": null,
   "metadata": {},
   "outputs": [],
   "source": [
    "c = 2 # Combination length \n",
    "\n",
    "while(supportRdd.isEmpty() == False):\n",
    "\n",
    "    combined = supportRdd.cartesian(uniqueItems)\n",
    "    combined = combined.map(lambda item: removeReplica(item))\n",
    "  \n",
    "    combined = combined.filter(lambda item: len(item) == c)\n",
    "    combined = combined.distinct()\n",
    "\n",
    "    \n",
    "    combined_2 = combined.cartesian(lblitems)\n",
    "    combined_2 = combined_2.filter(lambda item: all(x in item[1] for x in item[0]))\n",
    "    \n",
    "    combined_2 = combined_2.map(lambda item: item[0])\n",
    "    combined_2 = combined_2.map(lambda item: (item , 1))\n",
    "    combined_2 = combined_2.reduceByKey(sumOparator)\n",
    "    combined_2 = combined_2.filter(lambda item: item[1] >= minSupport)\n",
    "\n",
    "    baseRdd = baseRdd.union(combined_2)\n",
    "    \n",
    "    combined_2 = combined_2.map(lambda item: item[0])\n",
    "    supportRdd = combined_2\n",
    "    print(c ,'. Table has crated... ')\n",
    "    c = c+1"
   ]
  },
  {
   "source": [
    "##### As you can see there are two objects created in each loop as “combined” and “combined_2”. Combined already explained above. “Combined_2”, on the other hand, is a combination of the “combined” variable and each line of the whole data set (each transaction). As you can see from line 14, there is a filtering process that controls each item-set whether item-sets of “combined” are in the data-set. If there is not any such item-set in the data-set it removes that item-set. After all, we also get frequencies by using the “reduceByKey” method and filter them according to min support value. At line 21, we add the final support table to “baseRDD” which has our all support values with item-sets (in theory it is called table). However, we also need to update the “supportRdd” variable with “combined_2” without support values. This process will go on until there isn’t left any item-set in “supportRdd”.\n",
    "Finally, we can calculate the confidence values. You can use the below codes for calculating confidence values for each combination of baseRdd (whole item-set combinations). There is a “Filter” class that can filter data according to confidence calculation. It also includes the method as “calculateConfidence” that calculates confidences.\n"
   ],
   "cell_type": "markdown",
   "metadata": {}
  },
  {
   "cell_type": "code",
   "execution_count": null,
   "metadata": {},
   "outputs": [],
   "source": [
    "\n",
    "class Filter():\n",
    "\n",
    "    def __init__(self):\n",
    "        \n",
    "        self.stages = 1\n",
    "\n",
    "\n",
    "    def filterForConf(self, item , total):\n",
    "        \n",
    "        if(len(item[0][0]) > len(item[1][0])  ):\n",
    "            if(self.checkItemSets(item[0][0] , item[1][0]) == False):\n",
    "                pass\n",
    "            else:\n",
    "                return (item)       \n",
    "        else:\n",
    "            pass  \n",
    "        self.stages = self.stages + 1\n",
    "\n",
    "    # Check Items sets includes at least one comman item // Example command: # any(l == k for k in z for l in x )\n",
    "    def checkItemSets(self, item_1 , item_2):\n",
    "\n",
    "        if(len(item_1) > len(item_2)):\n",
    "            return all(any(k == l for k in item_1 ) for l in item_2)\n",
    "        else:\n",
    "            return all(any(k == l for k in item_2 ) for l in item_1)\n",
    "\n",
    "\n",
    "    def calculateConfidence(self, item):\n",
    "\n",
    "        # Parent item list\n",
    "        parent = set(item[0][0])\n",
    "        \n",
    "        # Child item list\n",
    "        if(isinstance(item[1][0] , str)):\n",
    "            child  = set([item[1][0]])\n",
    "        else:\n",
    "            child  = set(item[1][0])\n",
    "        # Parent and Child support values\n",
    "        parentSupport = item[0][1]\n",
    "        childSupport = item[1][1]\n",
    "        # Finds the item set confidence is going to be found\n",
    "\n",
    "        support = (parentSupport / childSupport)*100\n",
    "\n",
    "        return list([ list(child) ,  list(parent.difference(child)) , support ])\n",
    "\n",
    "        \n",
    "# Example ((('x10', 'x3', 'x6', 'x7', 'x9'), 1), (('x10', 'x3', 'x7'), 1))\n",
    "calcuItems = baseRdd.cartesian(baseRdd)\n",
    "\n",
    "# Create Filter Object\n",
    "ff = Filter()\n",
    "\n",
    "#deneme = calcuItems.map(lambda item: lens(item)) \n",
    "total = calcuItems.count()\n",
    "\n",
    "print('# : Aggregated support values preparing for the confidence calculatations')\n",
    "baseRddConfidence = calcuItems.filter(lambda item: ff.filterForConf(item , total))\n",
    "print('# : Aggregated support values are ready !')\n",
    "baseRddConfidence = baseRddConfidence.map(lambda item: ff.calculateConfidence(item))\n",
    "\n",
    "  \n",
    "print(baseRddConfidence.collect())"
   ]
  },
  {
   "source": [
    "# If you run baseRddConfidence.collect() you can get all confidence values. You can also filter the result which is greater than certain confidence. A few examples from the result is shown below;\n",
    "[\n",
    "[['Apple'], ['Mango'], 58.333333333333336], \n",
    " [['Mango'], ['Apple'], 70.0], \n",
    " [['Apple'], ['Banana'], 41.66666666666667], \n",
    " [['Apple'], ['Mango', 'Banana'], 33.33333333333333], \n",
    " [['Mango', 'Apple'], ['Banana'], 57.14285714285714], \n",
    " [['Apple', 'Banana'], ['Mango'], 80.0], \n",
    " [['Mango', 'Banana'], ['Apple'], 66.66666666666666], \n",
    " [['Mango', 'Apple'], ['Raspberry'], 28.57142857142857\n",
    " [['Raspberry', 'Apple'], ['Mango'], 50.0], \n",
    " [['Mango', 'Raspberry'], ['Apple'], 50.0], \n",
    " [['Mango', 'Banana'], ['Raspberry'], 33.33333333333333], \n",
    " [['Mango', 'Raspberry'], ['Banana'], 50.0], \n",
    " [['Raspberry', 'Banana'], ['Mango'], 50.0]\n",
    "]\n",
    "The first item-set in arrays shows the products that customers bought and the second shows customers might buy if they bought products in the first item-set. The last element of the array shows the confidence value for that pattern. For example, a customer who buys Mango might buy Apple with %58 confidence. Another example; customer who buys Mango and Banana might buy Apple with 66.6% confidence. If you look carefully at the first two arrays [“Mango”, “Apple” ] and [“Apple”, “Mango”] have different confidence values. Let’s write the support formula for [“Mango” => “Apple”] (confidence of buying Apple after Mango)\n",
    "( support([\"Mango\" , \"Apple\"]) / support([\"Mango\"]) ) * 100 = 70\n",
    "and formula of [“Apple” => “Mango”]\n",
    "( support([\"Mango\" , \"Apple\"]) / support([\"Apple\"]) ) * 100 = 58\n",
    "Support of [“Mango”, “Apple”] is 7, support of [“Mango”] is 10, and support of [“Apple”] is 12. Although the frequency (support) of [“Apple” “Mango”] is the same in both calculations, they have different confidence values ​​because the frequency of “Apple” and the frequency of “Mango” are different.\n",
    "You can also convert the result pandas data-frame by using the below codes;"
   ],
   "cell_type": "markdown",
   "metadata": {}
  },
  {
   "cell_type": "code",
   "execution_count": null,
   "metadata": {},
   "outputs": [],
   "source": [
    "## Import pandas modules\n",
    "import pandas as pd\n",
    "\n",
    "## Create an array with collected baseRddConfidence results\n",
    "result = baseRddConfidence.collect()\n",
    "\n",
    "## Create Data Frame\n",
    "confidenceTable = pd.DataFrame(data = result , columns=[\"Before\", \"After\" , \"Confidence\"])\n",
    "\n",
    "## Show data frame\n",
    "print(confidenceTable)"
   ]
  },
  {
   "source": [
    "### Conclusion\n",
    "In this article, we learned what is Frequent Pattern Mining and how to apply it over the Apriori algorithm. We took an example case with a data-set and applied the Apriori algorithm on PySpark from scratch. There are also other FPM methods that you can check out such as FPGrowth, Eclat, and so on. After understanding Apriori you can easily understand how other methods work. If you have any questions please feel free to ask.\n",
    "Hope it was helpful…"
   ],
   "cell_type": "markdown",
   "metadata": {}
  }
 ]
}