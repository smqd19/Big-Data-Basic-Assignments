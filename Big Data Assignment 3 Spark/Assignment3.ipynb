{
 "metadata": {
  "language_info": {
   "codemirror_mode": {
    "name": "ipython",
    "version": 3
   },
   "file_extension": ".py",
   "mimetype": "text/x-python",
   "name": "python",
   "nbconvert_exporter": "python",
   "pygments_lexer": "ipython3",
   "version": "3.8.5"
  },
  "orig_nbformat": 2,
  "kernelspec": {
   "name": "python385jvsc74a57bd0b3ba2566441a7c06988d0923437866b63cedc61552a5af99d1f4fb67d367b25f",
   "display_name": "Python 3.8.5 64-bit (conda)"
  }
 },
 "nbformat": 4,
 "nbformat_minor": 2,
 "cells": [
  {
   "cell_type": "code",
   "execution_count": 1,
   "metadata": {},
   "outputs": [],
   "source": [
    "import findspark\n",
    "findspark.init()\n",
    "import pyspark\n",
    "\n",
    "from pyspark import SparkContext, SparkConf\n",
    "from pyspark.sql import SparkSession"
   ]
  },
  {
   "cell_type": "code",
   "execution_count": 2,
   "metadata": {},
   "outputs": [],
   "source": [
    "spark=SparkSession.builder.appName('Assignment_3').getOrCreate()"
   ]
  },
  {
   "cell_type": "code",
   "execution_count": 3,
   "metadata": {},
   "outputs": [],
   "source": [
    "#READING DATASET \n",
    "data=(spark.read.option('header','true').csv('MoviesA3.csv', sep=\";\" , inferSchema=True)).persist()"
   ]
  },
  {
   "cell_type": "code",
   "execution_count": 4,
   "metadata": {},
   "outputs": [
    {
     "output_type": "stream",
     "name": "stdout",
     "text": [
      "root\n |-- Year: integer (nullable = true)\n |-- Length: integer (nullable = true)\n |-- Title: string (nullable = true)\n |-- Genre: string (nullable = true)\n |-- Actor: string (nullable = true)\n |-- Actress: string (nullable = true)\n |-- Director: string (nullable = true)\n |-- Popularity: integer (nullable = true)\n |-- Awards: string (nullable = true)\n |-- Image: string (nullable = true)\n\n"
     ]
    }
   ],
   "source": [
    "data.printSchema()"
   ]
  },
  {
   "cell_type": "code",
   "execution_count": 5,
   "metadata": {},
   "outputs": [
    {
     "output_type": "execute_result",
     "data": {
      "text/plain": [
       "['Year',\n",
       " 'Length',\n",
       " 'Title',\n",
       " 'Genre',\n",
       " 'Actor',\n",
       " 'Actress',\n",
       " 'Director',\n",
       " 'Popularity',\n",
       " 'Awards',\n",
       " 'Image']"
      ]
     },
     "metadata": {},
     "execution_count": 5
    }
   ],
   "source": [
    "data.columns"
   ]
  },
  {
   "source": [
    "#  <font color='green'>Assignment 3 - Spark Data Frames and Clustering</font>"
   ],
   "cell_type": "markdown",
   "metadata": {}
  },
  {
   "source": [
    "### Question # 1: Find the title, year and director of action films that won an award."
   ],
   "cell_type": "markdown",
   "metadata": {}
  },
  {
   "cell_type": "code",
   "execution_count": 6,
   "metadata": {},
   "outputs": [
    {
     "output_type": "stream",
     "name": "stdout",
     "text": [
      "+------+\n| Genre|\n+------+\n|Comedy|\n|Comedy|\n|Horror|\n|Action|\n| Drama|\n+------+\nonly showing top 5 rows\n\n"
     ]
    }
   ],
   "source": [
    "data.select('Genre').show(5)"
   ]
  },
  {
   "cell_type": "code",
   "execution_count": 7,
   "metadata": {},
   "outputs": [
    {
     "output_type": "stream",
     "name": "stdout",
     "text": [
      "+-----+----+--------+\n|Title|Year|Director|\n+-----+----+--------+\n+-----+----+--------+\n\n"
     ]
    }
   ],
   "source": [
    "data.select('Title','Year','Director').filter((data.Genre=='Action') & (data.Awards=='Yes')).show()"
   ]
  },
  {
   "source": [
    "### Question # 2: For each award-winning actor, find the movies he acted it. Print the names of the movies and the director of the movie."
   ],
   "cell_type": "markdown",
   "metadata": {}
  },
  {
   "cell_type": "code",
   "execution_count": 8,
   "metadata": {},
   "outputs": [
    {
     "output_type": "stream",
     "name": "stdout",
     "text": [
      "+--------------------+--------------------+\n|               Title|            Director|\n+--------------------+--------------------+\n|Tie Me Up! Tie Me...|    Almod�var, Pedro|\n|          High Heels|    Almod�var, Pedro|\n|      Dead Zone, The|   Cronenberg, David|\n|                Cuba|     Lester, Richard|\n|      Days of Heaven|    Malick, Terrence|\n|           Octopussy|          Glen, John|\n|        Target Eagle|Loma, Jos� Antoni...|\n|American Angels: ...|  Sebastian, Beverly|\n|              Subway|         Besson, Luc|\n|     Camille Claudel|      Nuytten, Bruno|\n| Fanny and Alexander|     Bergman, Ingmar|\n|Tragedy of a Ridi...|Bertolucci, Bernardo|\n|     A Man & a Woman|     Lelouch, Claude|\n|A Man & a Woman: ...|     Lelouch, Claude|\n|Un Hombre y una M...|     Lelouch, Claude|\n| Official Story, The|        Puenzo, Luiz|\n|Lindbergh Kidnapp...|         Kulik, Buzz|\n|           Blackmail|   Hitchcock, Alfred|\n|      Donovan's Reef|          Ford, John|\n|Tucker: The Man &...|Coppola, Francis ...|\n+--------------------+--------------------+\nonly showing top 20 rows\n\n"
     ]
    }
   ],
   "source": [
    "award_winning_actors= data.select('Actor').filter(data.Awards=='Yes')\n",
    "data.select('Title','Director').filter(award_winning_actors.Actor==data.Actor).show()\n",
    "#award_winning_actors.show(10)\n",
    "#data.select('Title','Year','Director').filter((data.Director=='Action') & (data.Awards=='Yes')).show()"
   ]
  },
  {
   "source": [
    "### Question # 3: Find the top 10 most popular movies that did not win an award."
   ],
   "cell_type": "markdown",
   "metadata": {}
  },
  {
   "cell_type": "code",
   "execution_count": 9,
   "metadata": {},
   "outputs": [
    {
     "output_type": "stream",
     "name": "stdout",
     "text": [
      "+--------------------+----------+\n|               Title|Popularity|\n+--------------------+----------+\n|         Let It Ride|        88|\n|     Great Race, The|        88|\n|      New Year's Day|        88|\n|        Final Notice|        88|\n|   Fellini Satyricon|        88|\n| Guilty by Suspicion|        88|\n|   Time Machine, The|        88|\n|           Raw Nerve|        88|\n|Long Voyage Home,...|        88|\n|           Class Act|        88|\n+--------------------+----------+\nonly showing top 10 rows\n\n"
     ]
    }
   ],
   "source": [
    "data.select('Title','Popularity').orderBy((data.Popularity).desc()).filter(data.Awards=='No').show(10)"
   ]
  },
  {
   "source": [
    "### Question # 4: Find the 10 least popular movies that were released before 1980."
   ],
   "cell_type": "markdown",
   "metadata": {}
  },
  {
   "cell_type": "code",
   "execution_count": 10,
   "metadata": {},
   "outputs": [
    {
     "output_type": "stream",
     "name": "stdout",
     "text": [
      "+------------------+----------+\n|             Title|Popularity|\n+------------------+----------+\n|      Desert Rider|      null|\n| Bank on the Stars|      null|\n|   White Lightning|      null|\n|    Drop Kick, The|      null|\n|           Shalako|         0|\n|           Airport|         0|\n|Shout at the Devil|         0|\n|     Anna Christie|         0|\n|      It's My Turn|         0|\n| Tales of Tomorrow|         0|\n+------------------+----------+\nonly showing top 10 rows\n\n"
     ]
    }
   ],
   "source": [
    "data.select('Title','Popularity').orderBy((data.Popularity).asc()).filter(data.Year<='1980').show(10)"
   ]
  },
  {
   "source": [
    "### Question # 5: Find the average length of the movies of each genre."
   ],
   "cell_type": "markdown",
   "metadata": {}
  },
  {
   "cell_type": "code",
   "execution_count": 11,
   "metadata": {},
   "outputs": [
    {
     "output_type": "stream",
     "name": "stdout",
     "text": [
      "+---------------+------------------+\n|          Genre|       avg(Length)|\n+---------------+------------------+\n|          Crime|              66.0|\n|        Romance|             127.0|\n|      Adventure|             119.0|\n|           null|             120.5|\n|          Drama|113.30455259026688|\n|            War|         116.90625|\n|        Fantasy|             102.0|\n|        Mystery|103.00990099009901|\n|          Music|100.48780487804878|\n|Science Fiction|106.47368421052632|\n+---------------+------------------+\nonly showing top 10 rows\n\n"
     ]
    }
   ],
   "source": [
    "data.groupBy(data.Genre).avg('Length').alias('Average Length').show(10) # Can't use Avg sum or any other function before group by just like in sql writing this down to remember next time"
   ]
  },
  {
   "source": [
    "### Question # 6: Find the actor and actress pair who have acted in more than three Comedies together."
   ],
   "cell_type": "markdown",
   "metadata": {}
  },
  {
   "cell_type": "code",
   "execution_count": 12,
   "metadata": {},
   "outputs": [
    {
     "output_type": "stream",
     "name": "stdout",
     "text": [
      "+--------------+------------------+-----+\n|         Actor|           Actress|count|\n+--------------+------------------+-----+\n|  Allen, Woody|     Keaton, Diane|    5|\n|Tracy, Spencer|Hepburn, Katharine|    6|\n+--------------+------------------+-----+\n\n"
     ]
    }
   ],
   "source": [
    "from pyspark.sql.functions import col\n",
    "data.filter(data.Genre=='Comedy').groupBy('Actor','Actress').count().alias('Count').filter((col('count')>3) & (data.Actor.isNotNull() & data.Actress.isNotNull())).show()"
   ]
  },
  {
   "source": [
    "### Question # 7: Find the names of actors who acted in movies of both ‘Comedy’ and ‘Drama’ Genre."
   ],
   "cell_type": "markdown",
   "metadata": {}
  },
  {
   "cell_type": "code",
   "execution_count": 13,
   "metadata": {},
   "outputs": [
    {
     "output_type": "stream",
     "name": "stdout",
     "text": [
      "+--------------------+\n|               Actor|\n+--------------------+\n|      Boyer, Charles|\n|      Taylor, Robert|\n|        Lemmon, Jack|\n|       Aiello, Danny|\n|      Stewart, James|\n|    Malmsten, Birger|\n|         Taylor, Rod|\n|       Russell, Kurt|\n|     Hopkins, Harold|\n|      Beatty, Warren|\n|       Irons, Jeremy|\n|        Fonda, Henry|\n|      Ford, Harrison|\n|   Depardieu, G�rard|\n|     Eastwood, Clint|\n|      Howard, Arliss|\n|        Cleese, John|\n|Lambert, Christopher|\n|        Johnson, Ben|\n|       Connery, Sean|\n+--------------------+\nonly showing top 20 rows\n\n"
     ]
    }
   ],
   "source": [
    "data.select('Actor').filter(data.Genre=='Comedy').distinct().intersect(data.select('Actor').filter(data.Genre=='Drama').distinct()).show()"
   ]
  },
  {
   "source": [
    "### Question # 8: Find the names of actors who acted in movies of both ‘Comedy’ or ‘Drama’ Genre."
   ],
   "cell_type": "markdown",
   "metadata": {}
  },
  {
   "cell_type": "code",
   "execution_count": 14,
   "metadata": {},
   "outputs": [
    {
     "output_type": "stream",
     "name": "stdout",
     "text": [
      "+-----------------+\n|            Actor|\n+-----------------+\n|  Matthau, Walter|\n|Keillor, Garrison|\n|Gauthier, Vincent|\n|   Boyer, Charles|\n|Finneran, Siohban|\n|     Keach, James|\n|Nagase, Masatoshi|\n|   Taylor, Robert|\n|    Mandel, Howie|\n|     Chase, Chevy|\n|   Wilson, George|\n|      Arkin, Alan|\n|     Lemmon, Jack|\n|Banderas, Antonio|\n|     Most, Donald|\n|    Jaglom, Henry|\n|    Rey, Fernando|\n|    Aiello, Danny|\n|     Reiner, Carl|\n|     Cooper, Gary|\n+-----------------+\nonly showing top 20 rows\n\n"
     ]
    }
   ],
   "source": [
    "data.select('Actor').filter(data.Genre=='Comedy').distinct().union(data.select('Actor').filter(data.Genre=='Drama').distinct()).show()"
   ]
  },
  {
   "source": [
    "### Question # 9: Find the names of actors who did not acted in any ‘Comedy’."
   ],
   "cell_type": "markdown",
   "metadata": {}
  },
  {
   "cell_type": "code",
   "execution_count": 15,
   "metadata": {},
   "outputs": [
    {
     "output_type": "stream",
     "name": "stdout",
     "text": [
      "+--------------------+\n|               Actor|\n+--------------------+\n|      Din, Ayub Khan|\n|        Ferrer, Jose|\n|       Harrison, Rex|\n|      McCleery, Gary|\n|         Busey, Gary|\n|      Boyer, Charles|\n|       Kime, Jeffrey|\n|     McDowall, Roddy|\n|          Race, Hugo|\n|Luckinbill, Laurence|\n|      Taylor, Robert|\n|       Karyo, Tcheky|\n|          Webb, John|\n|         Ganus, Paul|\n|       Longden, John|\n|       Fisher, Eddie|\n|        Keach, Stacy|\n|   Bergen, Robert D.|\n|    Sj�str�m, Victor|\n|         Morrow, Vic|\n+--------------------+\nonly showing top 20 rows\n\n"
     ]
    }
   ],
   "source": [
    "data.select('Actor').filter(data.Genre!='Comedy').distinct().show()"
   ]
  },
  {
   "source": [
    "### Question # 10: Find each actor, find the mean, max, min ranking of his movies."
   ],
   "cell_type": "markdown",
   "metadata": {}
  },
  {
   "cell_type": "code",
   "execution_count": 16,
   "metadata": {},
   "outputs": [
    {
     "output_type": "stream",
     "name": "stdout",
     "text": [
      "+--------------------+-----------------+---------------+---------------+\n|               Actor|  avg(Popularity)|max(Popularity)|min(Popularity)|\n+--------------------+-----------------+---------------+---------------+\n|        Abel, Alfred|             49.0|             49|             49|\n|  Abraham, F. Murray|              6.0|              6|              6|\n|    Adolphson, Edvin|             49.0|             72|             26|\n|       Aherne, Brian|             57.0|             57|             57|\n|     Ahlstedt, B�rje|             81.0|             81|             81|\n|       Aiello, Danny|             12.5|             20|              5|\n|         Akan, Tarik|             53.0|             53|             53|\n|    Albaic�n, Rafael|             55.0|             55|             55|\n|      Albert, Edward|             82.0|             82|             82|\n|          Alda, Alan|             32.5|             53|             12|\n|         Allen, Bill|             75.0|             75|             75|\n|        Allen, Woody|51.27272727272727|             84|              6|\n|     Alterio, Hector|             39.0|             39|             39|\n|         Ameche, Don|             45.0|             45|             45|\n|     Anderson, Kevin|             53.0|             53|             53|\n|   Andersson, Wiktor|             66.0|             66|             66|\n|Anglade, Jean-Hughes|             71.0|             71|             71|\n|       Annese, Frank|             45.0|             45|             45|\n|        Apfel, Oscar|             66.0|             66|             66|\n|     Arestrup, Niels|             74.0|             74|             74|\n+--------------------+-----------------+---------------+---------------+\nonly showing top 20 rows\n\n"
     ]
    }
   ],
   "source": [
    "from pyspark.sql.functions import mean as _mean, col\n",
    "from pyspark.sql import functions as f\n",
    "data.groupBy(\"Actor\").agg(_mean(\"Popularity\") ,f.max(\"Popularity\") ,f.min(\"Popularity\")).filter(data.Actor.isNotNull()).orderBy((data.Actor).asc()).show()"
   ]
  },
  {
   "source": [
    "### Question # 11: List the number of movies released in each decade starting from 1960’s."
   ],
   "cell_type": "markdown",
   "metadata": {}
  },
  {
   "cell_type": "code",
   "execution_count": 17,
   "metadata": {
    "tags": []
   },
   "outputs": [
    {
     "output_type": "stream",
     "name": "stdout",
     "text": [
      "Maximum Year to Determine total Decade is : 1997\n",
      "\n",
      "Number of movies in Decade Between 1960-1969 is :  154\n",
      "Number of movies in Decade Between 1970-1979 is :  244\n",
      "Number of movies in Decade Between 1980-1989 is :  607\n",
      "Number of movies in Decade Between 1990-1999 is :  345\n",
      "\n",
      "To Prove this is correct we check by following:-\n",
      "The sum of all decades =  1350\n",
      "The sum through pyspark query =  1350\n"
     ]
    }
   ],
   "source": [
    "row1 = data.agg({\"Year\": \"max\"}).collect()[0]\n",
    "print('Maximum Year to Determine total Decade is :',max(row1))\n",
    "print(\"\")\n",
    "dataCollect=data.rdd.toLocalIterator()\n",
    "first_decade=0\n",
    "second_decade=0\n",
    "third_decade=0\n",
    "fourth_decade=0\n",
    "\n",
    "for row in dataCollect:\n",
    "    if (row['Year']>=1960 and row['Year']<=1969):\n",
    "        first_decade=first_decade+1\n",
    "    elif (row['Year']>=1970 and row['Year']<=1979):\n",
    "        second_decade=second_decade+1\n",
    "    elif (row['Year']>=1980 and row['Year']<=1989):\n",
    "        third_decade=third_decade+1\n",
    "    elif (row['Year']>=1990 and row['Year']<=1999):\n",
    "        fourth_decade=fourth_decade+1\n",
    "\n",
    "print(\"Number of movies in Decade Between 1960-1969 is : \",first_decade)\n",
    "print(\"Number of movies in Decade Between 1970-1979 is : \",second_decade)\n",
    "print(\"Number of movies in Decade Between 1980-1989 is : \",third_decade)\n",
    "print(\"Number of movies in Decade Between 1990-1999 is : \",fourth_decade)\n",
    "print(\"\")\n",
    "print(\"To Prove this is correct we check by following:-\")\n",
    "print(\"The sum of all decades = \",first_decade+second_decade+third_decade+fourth_decade)\n",
    "print(\"The sum through pyspark query = \",data.filter(data.Year>=1960).count())\n"
   ]
  },
  {
   "source": [
    "### Question # 12: Find the number of movies released in each year."
   ],
   "cell_type": "markdown",
   "metadata": {}
  },
  {
   "cell_type": "code",
   "execution_count": 18,
   "metadata": {},
   "outputs": [
    {
     "output_type": "stream",
     "name": "stdout",
     "text": [
      "+----+-----+\n|Year|count|\n+----+-----+\n|1959|    9|\n|1990|  105|\n|1975|   23|\n|1977|   29|\n|1924|    3|\n|1974|   23|\n|1927|    3|\n|1955|   20|\n|1978|   18|\n|1925|    1|\n|1961|   14|\n|1942|    6|\n|1944|    4|\n|1939|   11|\n|1952|   10|\n|1956|   15|\n|1934|    4|\n|1988|   96|\n|1997|    1|\n|1968|   20|\n+----+-----+\nonly showing top 20 rows\n\n"
     ]
    }
   ],
   "source": [
    "data.groupBy(\"Year\").count().show()"
   ]
  },
  {
   "source": [
    "### Question # 13: Find the number of movies released in each year of each genre. Consider only the movies with length greater than 100 minutes."
   ],
   "cell_type": "markdown",
   "metadata": {}
  },
  {
   "cell_type": "code",
   "execution_count": 19,
   "metadata": {},
   "outputs": [
    {
     "output_type": "stream",
     "name": "stdout",
     "text": [
      "+----+---------------+-----+\n|Year|          Genre|count|\n+----+---------------+-----+\n|1989|         Action|   10|\n|1988|         Comedy|   10|\n|1966|          Drama|    6|\n|1985|         Comedy|    6|\n|1957|        Western|    1|\n|1928|          Drama|    2|\n|1970|        Western|    2|\n|1975|          Drama|    5|\n|1969|         Action|    1|\n|1940|         Action|    1|\n|1939|        Western|    3|\n|1987|         Comedy|   13|\n|1982|Science Fiction|    1|\n|1951|            War|    1|\n|1965|          Music|    1|\n|1939|         Comedy|    1|\n|1964|          Music|    1|\n|1987|            War|    1|\n|1962|         Action|    1|\n|1966|        Mystery|    3|\n+----+---------------+-----+\nonly showing top 20 rows\n\n"
     ]
    }
   ],
   "source": [
    "data.filter(data.Length>100).groupBy(\"Year\",\"Genre\").count().show()"
   ]
  },
  {
   "source": [
    "### Question # 14: Sort the movie’s release before 1990 by the title."
   ],
   "cell_type": "markdown",
   "metadata": {}
  },
  {
   "cell_type": "code",
   "execution_count": 20,
   "metadata": {},
   "outputs": [
    {
     "output_type": "stream",
     "name": "stdout",
     "text": [
      "+--------------------+\n|               Title|\n+--------------------+\n|2001: A Space Ody...|\n|             48 Hrs.|\n|               8 1/2|\n|A Big Hand for th...|\n|  A Child Is Waiting|\n|A Chorus Line, Th...|\n|  A Clockwork Orange|\n|A Coeur Joie, (He...|\n|   A Cry in the Dark|\n|  A Dry White Season|\n|      A Fine Madness|\n| A Fish Called Wanda|\n|A Fistful of Dollars|\n|     A Guy Named Joe|\n|    A Lesson in Love|\n|A Little Night Music|\n|     A Man & a Woman|\n|A Man & a Woman: ...|\n|A Man for All Sea...|\n|    A Matter of Time|\n+--------------------+\nonly showing top 20 rows\n\n"
     ]
    }
   ],
   "source": [
    "data.select('Title').filter(data.Year<1990).sort(data.Title).show()"
   ]
  },
  {
   "source": [
    "### Question # 15: Find the movies with long titles. A movie title is considered long if it is greater than 50 alphabets."
   ],
   "cell_type": "markdown",
   "metadata": {}
  },
  {
   "cell_type": "code",
   "execution_count": 21,
   "metadata": {},
   "outputs": [
    {
     "output_type": "stream",
     "name": "stdout",
     "text": [
      "+--------------------+\n|               Title|\n+--------------------+\n|Fawlty Towers, Go...|\n|Unnamable II, The...|\n|Industrial Sympho...|\n+--------------------+\n\n"
     ]
    }
   ],
   "source": [
    "from pyspark.sql import functions as f\n",
    "data.filter(f.length(data.Title)>50).select('Title').show()"
   ]
  }
 ]
}