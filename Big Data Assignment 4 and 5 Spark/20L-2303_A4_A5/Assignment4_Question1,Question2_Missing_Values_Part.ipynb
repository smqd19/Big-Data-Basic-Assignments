{
 "cells": [
  {
   "cell_type": "code",
   "execution_count": 1,
   "metadata": {},
   "outputs": [],
   "source": [
    "import findspark\n",
    "findspark.init()\n",
    "import pyspark\n",
    "\n",
    "from pyspark import SparkContext, SparkConf\n",
    "from pyspark.sql import SparkSession"
   ]
  },
  {
   "cell_type": "code",
   "execution_count": 2,
   "metadata": {},
   "outputs": [],
   "source": [
    "spark=SparkSession.builder.appName('Assignment_4_and_5').getOrCreate()"
   ]
  },
  {
   "cell_type": "code",
   "execution_count": 3,
   "metadata": {},
   "outputs": [],
   "source": [
    "#READING DATASET \n",
    "dataorg=(spark.read.option('header','true').csv('MoviesA3.csv', sep=\";\" , inferSchema=True)).persist()\n",
    "data = dataorg"
   ]
  },
  {
   "cell_type": "code",
   "execution_count": 4,
   "metadata": {},
   "outputs": [
    {
     "name": "stdout",
     "output_type": "stream",
     "text": [
      "root\n",
      " |-- Year: integer (nullable = true)\n",
      " |-- Length: integer (nullable = true)\n",
      " |-- Title: string (nullable = true)\n",
      " |-- Genre: string (nullable = true)\n",
      " |-- Actor: string (nullable = true)\n",
      " |-- Actress: string (nullable = true)\n",
      " |-- Director: string (nullable = true)\n",
      " |-- Popularity: integer (nullable = true)\n",
      " |-- Awards: string (nullable = true)\n",
      " |-- Image: string (nullable = true)\n",
      "\n"
     ]
    }
   ],
   "source": [
    "data.printSchema()"
   ]
  },
  {
   "cell_type": "code",
   "execution_count": 5,
   "metadata": {},
   "outputs": [
    {
     "data": {
      "text/plain": [
       "['Year',\n",
       " 'Length',\n",
       " 'Title',\n",
       " 'Genre',\n",
       " 'Actor',\n",
       " 'Actress',\n",
       " 'Director',\n",
       " 'Popularity',\n",
       " 'Awards',\n",
       " 'Image']"
      ]
     },
     "execution_count": 5,
     "metadata": {},
     "output_type": "execute_result"
    }
   ],
   "source": [
    "data.columns"
   ]
  },
  {
   "cell_type": "markdown",
   "metadata": {},
   "source": [
    "#  <font color='green'>Assignment 4 and 5 - Spark Data Frames and Clustering</font>"
   ]
  },
  {
   "cell_type": "markdown",
   "metadata": {},
   "source": [
    "### Type of Each Attribute"
   ]
  },
  {
   "cell_type": "code",
   "execution_count": 6,
   "metadata": {},
   "outputs": [
    {
     "data": {
      "text/plain": [
       "[('Year', 'int'),\n",
       " ('Length', 'int'),\n",
       " ('Title', 'string'),\n",
       " ('Genre', 'string'),\n",
       " ('Actor', 'string'),\n",
       " ('Actress', 'string'),\n",
       " ('Director', 'string'),\n",
       " ('Popularity', 'int'),\n",
       " ('Awards', 'string'),\n",
       " ('Image', 'string')]"
      ]
     },
     "execution_count": 6,
     "metadata": {},
     "output_type": "execute_result"
    }
   ],
   "source": [
    "data.dtypes"
   ]
  },
  {
   "cell_type": "markdown",
   "metadata": {},
   "source": [
    "### Nominal data include country, gender, race, hair color etc. of a group of people.\n",
    "### Ordinal data include having a position in class as “First” or “Second”.\n",
    "### An interval scale is one where there is order and the difference between two values is meaningful. Examples of interval variables include: temperature (Farenheit), temperature (Celcius), pH, SAT score (200-800), credit score (300-850).\n",
    "### A ratio variable, has all the properties of an interval variable, and also has a clear definition of 0.0. When the variable equals 0.0, there is none of that variable. Examples of ratio variables include: enzyme activity, dose amount, reaction rate, flow rate, concentration, pulse, weight, length, temperature in Kelvin (0.0 Kelvin really does mean “no heat”), survival time."
   ]
  },
  {
   "cell_type": "markdown",
   "metadata": {},
   "source": [
    "| Attribute | Type | Reason |\n",
    "| ----------|------|--------------------------------------------------------------------------------------------------------- |\n",
    "| Year | Interval  | Since there is a difference between two values is meaningful and hence this attribute lies in the Interval Type and can never be 0 |\n",
    "| Length | Ordinal | Since it is a measurable attribute and hence this attribute lies in the Ordinal Type |\n",
    "| Title | Nominal  | Since the attribute is not ordered and it lies in the category of a group of something and hence this attribute lies in the Nominal Type |\n",
    "| Genre | Nominal  | Since the attribute is not ordered and it lies in the category of a group of something and hence this attribute lies in the Nominal Type |\n",
    "| Actor | Nominal  | Since the attribute is not ordered and it lies in the category of a group of something and hence this attribute lies in the Nominal Type |\n",
    "| Actress | Nominal  | Since the attribute is not ordered and it lies in the category of a group of something and hence this attribute lies in the Nominal Type |\n",
    "| Director | Nominal  | Since the attribute is not ordered and it lies in the category of a group of something and hence this attribute lies in the Nominal Type |\n",
    "| Popularity | Ratio  | Since the attribute has all the properties of an interval variable, and also has a clear definition of 0.0 and hence this attribute lies in the Ratio Type |\n",
    "| Awards | Nominal  | Since the attribute is not ordered and it lies in the category of a group of something and hence this attribute lies in the Nominal Type |\n",
    "Image | Nominal  | Since the attribute is not ordered and it lies in the category of a group of something and hence this attribute lies in the Nominal Type |"
   ]
  },
  {
   "cell_type": "markdown",
   "metadata": {},
   "source": [
    "### Pre-Processing"
   ]
  },
  {
   "cell_type": "code",
   "execution_count": 7,
   "metadata": {},
   "outputs": [
    {
     "name": "stdout",
     "output_type": "stream",
     "text": [
      "+----+------+-----+-----+-----+-------+--------+----------+------+-----+\n",
      "|Year|Length|Title|Genre|Actor|Actress|Director|Popularity|Awards|Image|\n",
      "+----+------+-----+-----+-----+-------+--------+----------+------+-----+\n",
      "+----+------+-----+-----+-----+-------+--------+----------+------+-----+\n",
      "\n"
     ]
    },
    {
     "data": {
      "text/plain": [
       "0"
      ]
     },
     "execution_count": 7,
     "metadata": {},
     "output_type": "execute_result"
    }
   ],
   "source": [
    "data.filter(data.Year.isNull()).show(5)\n",
    "data.filter(data.Year.isNull()).count()"
   ]
  },
  {
   "cell_type": "code",
   "execution_count": 8,
   "metadata": {},
   "outputs": [
    {
     "name": "stdout",
     "output_type": "stream",
     "text": [
      "+----+------+--------------------+-------+---------------+--------------------+--------------------+----------+------+------------------+\n",
      "|Year|Length|               Title|  Genre|          Actor|             Actress|            Director|Popularity|Awards|             Image|\n",
      "+----+------+--------------------+-------+---------------+--------------------+--------------------+----------+------+------------------+\n",
      "|1980|  null|Happy Birthday to Me| Horror|    Ford, Glenn|Anderson, Melissa...|    Thompson, J. Lee|        88|    No|   glennFord.png,,|\n",
      "|1962|  null|              Dr. No| Action|  Connery, Sean|     Andress, Ursula|      Young, Terence|         7|    No| seanConnery.png,,|\n",
      "|1989|  null|             Killjoy|Mystery|   Culp, Robert|       Basinger, Kim|Moxey, John Llewe...|        71|    No|NicholasCage.png,,|\n",
      "|1982|  null|Catch a Rising St...| Comedy|Belzer, Richard|        Benatar, Pat|                null|        18|    No|NicholasCage.png,,|\n",
      "|1989|  null|         Good Fellas|  Drama|De Niro, Robert|    Bracco, Lorraine|    Scorsese, Martin|        15|    No|NicholasCage.png,,|\n",
      "+----+------+--------------------+-------+---------------+--------------------+--------------------+----------+------+------------------+\n",
      "only showing top 5 rows\n",
      "\n"
     ]
    },
    {
     "data": {
      "text/plain": [
       "67"
      ]
     },
     "execution_count": 8,
     "metadata": {},
     "output_type": "execute_result"
    }
   ],
   "source": [
    "data.filter(data.Length.isNull()).show(5)\n",
    "data.filter(data.Length.isNull()).count()"
   ]
  },
  {
   "cell_type": "code",
   "execution_count": 9,
   "metadata": {},
   "outputs": [
    {
     "name": "stdout",
     "output_type": "stream",
     "text": [
      "+----+------+---------------+-----+-----------------+----------------+----------------+----------+------+------------------+\n",
      "|Year|Length|          Title|Genre|            Actor|         Actress|        Director|Popularity|Awards|             Image|\n",
      "+----+------+---------------+-----+-----------------+----------------+----------------+----------+------+------------------+\n",
      "|1953|    61|White Lightning| null|Clements, Stanley|Blondell, Gloria|  Bernds, Edward|      null|    No|NicholasCage.png,,|\n",
      "|1980|   180|     Wild Times| null|     Elliott, Sam|   Peyser, Penny|Compton, Richard|        75|    No|NicholasCage.png,,|\n",
      "+----+------+---------------+-----+-----------------+----------------+----------------+----------+------+------------------+\n",
      "\n"
     ]
    },
    {
     "data": {
      "text/plain": [
       "2"
      ]
     },
     "execution_count": 9,
     "metadata": {},
     "output_type": "execute_result"
    }
   ],
   "source": [
    "data.filter(data.Genre.isNull()).show(5)\n",
    "data.filter(data.Genre.isNull()).count()"
   ]
  },
  {
   "cell_type": "code",
   "execution_count": 10,
   "metadata": {},
   "outputs": [
    {
     "name": "stdout",
     "output_type": "stream",
     "text": [
      "+----+------+--------------------+-----+-----+-------+----------------+----------+------+--------------------+\n",
      "|Year|Length|               Title|Genre|Actor|Actress|        Director|Popularity|Awards|               Image|\n",
      "+----+------+--------------------+-----+-----+-------+----------------+----------+------+--------------------+\n",
      "|1988|   100|Ciao Italia, Mado...|Music| null|Madonna|De Winter, Harry|        74|    No| NicholasCage.png,,,|\n",
      "|1991|   118|Madonna, Truth or...|Music| null|Madonna|Keshishian, Alek|        54|    No| NicholasCage.png,,,|\n",
      "|1990|    60|Immaculate Collec...|Music| null|Madonna|            null|        32|    No|NicholasCage.png,,,,|\n",
      "|1987|    50|Madonna Live, The...|Music| null|Madonna|            null|        75|    No|NicholasCage.png,,,,|\n",
      "|1990|     5|Madonna, Justify ...|Music| null|Madonna|            null|        77|    No|NicholasCage.png,,,,|\n",
      "+----+------+--------------------+-----+-----+-------+----------------+----------+------+--------------------+\n",
      "only showing top 5 rows\n",
      "\n"
     ]
    },
    {
     "data": {
      "text/plain": [
       "8"
      ]
     },
     "execution_count": 10,
     "metadata": {},
     "output_type": "execute_result"
    }
   ],
   "source": [
    "data.filter(data.Actor.isNull()).show(5)\n",
    "data.filter(data.Actor.isNull()).count()"
   ]
  },
  {
   "cell_type": "code",
   "execution_count": 11,
   "metadata": {},
   "outputs": [
    {
     "name": "stdout",
     "output_type": "stream",
     "text": [
      "+----+------+--------------------+-------+---------------+-------+---------------+----------+------+--------------------+\n",
      "|Year|Length|               Title|  Genre|          Actor|Actress|       Director|Popularity|Awards|               Image|\n",
      "+----+------+--------------------+-------+---------------+-------+---------------+----------+------+--------------------+\n",
      "|1953|    94|           Vera Cruz| Action|   Cooper, Gary|   null|Aldrich, Robert|        71|    No| NicholasCage.png,,,|\n",
      "|1954|    91|              Apache|Western|Lancaster, Burt|   null|Aldrich, Robert|        78|    No|burtLancaster.png,,,|\n",
      "|1977|   146|Twilight's Last G...|  Drama|Lancaster, Burt|   null|Aldrich, Robert|        84|    No|burtLancaster.png,,,|\n",
      "|1979|   119|     Frisco Kid, The| Comedy|   Wilder, Gene|   null|Aldrich, Robert|        10|    No|  NicholasCage.png,,|\n",
      "|1954|    30|   Bank on the Stars|  Drama|     Paar, Jack|   null|   Allen, Craig|      null|    No| NicholasCage.png,,,|\n",
      "+----+------+--------------------+-------+---------------+-------+---------------+----------+------+--------------------+\n",
      "only showing top 5 rows\n",
      "\n"
     ]
    },
    {
     "data": {
      "text/plain": [
       "378"
      ]
     },
     "execution_count": 11,
     "metadata": {},
     "output_type": "execute_result"
    }
   ],
   "source": [
    "data.filter(data.Actress.isNull()).show(5)\n",
    "data.filter(data.Actress.isNull()).count()"
   ]
  },
  {
   "cell_type": "code",
   "execution_count": 12,
   "metadata": {},
   "outputs": [
    {
     "name": "stdout",
     "output_type": "stream",
     "text": [
      "+----+------+--------------------+------+---------------+---------------+--------+----------+------+-------------------+\n",
      "|Year|Length|               Title| Genre|          Actor|        Actress|Director|Popularity|Awards|              Image|\n",
      "+----+------+--------------------+------+---------------+---------------+--------+----------+------+-------------------+\n",
      "|1992|    90|           Germicide| Drama|    Taylor, Rod|Andersson, Bibi|    null|        36|    No|NicholasCage.png,,,|\n",
      "|1954|   103|       Elephant Walk| Drama|   Finch, Peter|  Andrews, Dana|    null|        11|    No|NicholasCage.png,,,|\n",
      "|1985|    55|Gonzo Presents Mu...|Comedy|   Cleese, John| Andrews, Julie|    null|        88|    No|NicholasCage.png,,,|\n",
      "|1991|   115|              Bataan|   War| Taylor, Robert|    Arnaz, Desi|    null|        68|    No|NicholasCage.png,,,|\n",
      "|1991|    90|Henry, Portrait o...|Horror|Rooker, Michael|  Arnold, Tracy|    null|        69|    No| NicholasCage.png,,|\n",
      "+----+------+--------------------+------+---------------+---------------+--------+----------+------+-------------------+\n",
      "only showing top 5 rows\n",
      "\n"
     ]
    },
    {
     "data": {
      "text/plain": [
       "253"
      ]
     },
     "execution_count": 12,
     "metadata": {},
     "output_type": "execute_result"
    }
   ],
   "source": [
    "data.filter(data.Director.isNull()).show(5)\n",
    "data.filter(data.Director.isNull()).count()"
   ]
  },
  {
   "cell_type": "code",
   "execution_count": 13,
   "metadata": {},
   "outputs": [
    {
     "name": "stdout",
     "output_type": "stream",
     "text": [
      "+----+------+------------------+-------+--------------------+----------------+-------------------+----------+------+-------------------+\n",
      "|Year|Length|             Title|  Genre|               Actor|         Actress|           Director|Popularity|Awards|              Image|\n",
      "+----+------+------------------+-------+--------------------+----------------+-------------------+----------+------+-------------------+\n",
      "|1953|    61|   White Lightning|   null|   Clements, Stanley|Blondell, Gloria|     Bernds, Edward|      null|    No| NicholasCage.png,,|\n",
      "|1986|    90|Knights & Emeralds|  Drama|    Leadbitter, Bill|  Hills, Beverly|          Emes, Ian|      null|    No| NicholasCage.png,,|\n",
      "|1927|    62|    Drop Kick, The|  Drama|Barthelmess, Richard|   Kent, Barbara|      Webb, Millard|      null|    No|  NicholasCage.png,|\n",
      "|1923|    57|      Desert Rider|Western|         Hoxie, Jack|  Nelson, Evelyn|Bradbury, Robert N.|      null|    No| NicholasCage.png,,|\n",
      "|1954|    30| Bank on the Stars|  Drama|          Paar, Jack|            null|       Allen, Craig|      null|    No|NicholasCage.png,,,|\n",
      "+----+------+------------------+-------+--------------------+----------------+-------------------+----------+------+-------------------+\n",
      "only showing top 5 rows\n",
      "\n"
     ]
    },
    {
     "data": {
      "text/plain": [
       "6"
      ]
     },
     "execution_count": 13,
     "metadata": {},
     "output_type": "execute_result"
    }
   ],
   "source": [
    "data.filter(data.Popularity.isNull()).show(5)\n",
    "data.filter(data.Popularity.isNull()).count()"
   ]
  },
  {
   "cell_type": "code",
   "execution_count": 14,
   "metadata": {},
   "outputs": [
    {
     "name": "stdout",
     "output_type": "stream",
     "text": [
      "+----+------+-----+-----+-----+-------+--------+----------+------+-----+\n",
      "|Year|Length|Title|Genre|Actor|Actress|Director|Popularity|Awards|Image|\n",
      "+----+------+-----+-----+-----+-------+--------+----------+------+-----+\n",
      "+----+------+-----+-----+-----+-------+--------+----------+------+-----+\n",
      "\n"
     ]
    },
    {
     "data": {
      "text/plain": [
       "0"
      ]
     },
     "execution_count": 14,
     "metadata": {},
     "output_type": "execute_result"
    }
   ],
   "source": [
    "data.filter(data.Awards.isNull()).show(5)\n",
    "data.filter(data.Awards.isNull()).count()"
   ]
  },
  {
   "cell_type": "code",
   "execution_count": 15,
   "metadata": {},
   "outputs": [
    {
     "name": "stdout",
     "output_type": "stream",
     "text": [
      "+----+------+-----+-----+-----+-------+--------+----------+------+-----+\n",
      "|Year|Length|Title|Genre|Actor|Actress|Director|Popularity|Awards|Image|\n",
      "+----+------+-----+-----+-----+-------+--------+----------+------+-----+\n",
      "+----+------+-----+-----+-----+-------+--------+----------+------+-----+\n",
      "\n"
     ]
    },
    {
     "data": {
      "text/plain": [
       "0"
      ]
     },
     "execution_count": 15,
     "metadata": {},
     "output_type": "execute_result"
    }
   ],
   "source": [
    "data.filter(data.Image.isNull()).show(5)\n",
    "data.filter(data.Image.isNull()).count()"
   ]
  },
  {
   "cell_type": "markdown",
   "metadata": {},
   "source": [
    "## After checking for NULL values in the dataframe we have found out that \"Length\" has 67 null values, \"Genre\" has 2 null values, \"Actor\" has 8 null values, \"Actress\" has 378 Null values, \"Director\" has 253 Null values and \"Popularity\" has 6 null values, the rest has no null values.\n",
    "## Now I will impute those null values using different techniques"
   ]
  },
  {
   "cell_type": "markdown",
   "metadata": {},
   "source": [
    "1. Length \n",
    "#### Since the movies with the same genre has almost the same length on average, so I have decided to take the mean of length of each Genre and impute the values for the Length Attribute for the Genre it has"
   ]
  },
  {
   "cell_type": "code",
   "execution_count": 16,
   "metadata": {},
   "outputs": [
    {
     "name": "stdout",
     "output_type": "stream",
     "text": [
      "+--------+\n",
      "|   Genre|\n",
      "+--------+\n",
      "|   Drama|\n",
      "|     War|\n",
      "| Mystery|\n",
      "|   Music|\n",
      "|  Horror|\n",
      "| Western|\n",
      "|  Comedy|\n",
      "|  Action|\n",
      "|Westerns|\n",
      "+--------+\n",
      "\n"
     ]
    }
   ],
   "source": [
    "# First step is to check the Genre we need to calculate the mean of the movies length for\n",
    "data.select('Genre').filter(data.Length.isNull()).distinct().show()"
   ]
  },
  {
   "cell_type": "code",
   "execution_count": 17,
   "metadata": {},
   "outputs": [
    {
     "data": {
      "text/plain": [
       "67"
      ]
     },
     "execution_count": 17,
     "metadata": {},
     "output_type": "execute_result"
    }
   ],
   "source": [
    "data.filter(data.Length.isNull()).count()"
   ]
  },
  {
   "cell_type": "code",
   "execution_count": 18,
   "metadata": {},
   "outputs": [
    {
     "data": {
      "text/plain": [
       "113.30455259026688"
      ]
     },
     "execution_count": 18,
     "metadata": {},
     "output_type": "execute_result"
    }
   ],
   "source": [
    "from pyspark.sql.functions import mean as _mean, col\n",
    "\n",
    "drama = data.select(data.Length).filter(data.Genre == 'Drama')\n",
    "\n",
    "df_stats = drama.select(\n",
    "    _mean(col('Length')).alias('mean')\n",
    ").collect()\n",
    "\n",
    "mean_drama = df_stats[0]['mean']\n",
    "mean_drama"
   ]
  },
  {
   "cell_type": "code",
   "execution_count": 19,
   "metadata": {},
   "outputs": [
    {
     "data": {
      "text/plain": [
       "116.90625"
      ]
     },
     "execution_count": 19,
     "metadata": {},
     "output_type": "execute_result"
    }
   ],
   "source": [
    "war = data.select(data.Length).filter(data.Genre == 'War')\n",
    "\n",
    "df_stats = war.select(\n",
    "    _mean(col('Length')).alias('mean')\n",
    ").collect()\n",
    "\n",
    "mean_war = df_stats[0]['mean']\n",
    "mean_war"
   ]
  },
  {
   "cell_type": "code",
   "execution_count": 20,
   "metadata": {},
   "outputs": [
    {
     "data": {
      "text/plain": [
       "103.00990099009901"
      ]
     },
     "execution_count": 20,
     "metadata": {},
     "output_type": "execute_result"
    }
   ],
   "source": [
    "mystery = data.select(data.Length).filter(data.Genre == 'Mystery')\n",
    "\n",
    "df_stats = mystery.select(\n",
    "    _mean(col('Length')).alias('mean')\n",
    ").collect()\n",
    "\n",
    "mean_mystery = df_stats[0]['mean']\n",
    "mean_mystery"
   ]
  },
  {
   "cell_type": "code",
   "execution_count": 21,
   "metadata": {},
   "outputs": [
    {
     "data": {
      "text/plain": [
       "100.48780487804878"
      ]
     },
     "execution_count": 21,
     "metadata": {},
     "output_type": "execute_result"
    }
   ],
   "source": [
    "music = data.select(data.Length).filter(data.Genre == 'Music')\n",
    "\n",
    "df_stats = music.select(\n",
    "    _mean(col('Length')).alias('mean')\n",
    ").collect()\n",
    "\n",
    "mean_music = df_stats[0]['mean']\n",
    "mean_music"
   ]
  },
  {
   "cell_type": "code",
   "execution_count": 22,
   "metadata": {},
   "outputs": [
    {
     "data": {
      "text/plain": [
       "93.92727272727272"
      ]
     },
     "execution_count": 22,
     "metadata": {},
     "output_type": "execute_result"
    }
   ],
   "source": [
    "horror = data.select(data.Length).filter(data.Genre == 'Horror')\n",
    "\n",
    "df_stats = horror.select(\n",
    "    _mean(col('Length')).alias('mean')\n",
    ").collect()\n",
    "\n",
    "mean_horror = df_stats[0]['mean']\n",
    "mean_horror"
   ]
  },
  {
   "cell_type": "code",
   "execution_count": 23,
   "metadata": {},
   "outputs": [
    {
     "data": {
      "text/plain": [
       "93.0091743119266"
      ]
     },
     "execution_count": 23,
     "metadata": {},
     "output_type": "execute_result"
    }
   ],
   "source": [
    "western = data.select(data.Length).filter(data.Genre == 'Western')\n",
    "\n",
    "df_stats = western.select(\n",
    "    _mean(col('Length')).alias('mean')\n",
    ").collect()\n",
    "\n",
    "mean_western = df_stats[0]['mean']\n",
    "mean_western"
   ]
  },
  {
   "cell_type": "code",
   "execution_count": 24,
   "metadata": {},
   "outputs": [
    {
     "data": {
      "text/plain": [
       "96.50540540540541"
      ]
     },
     "execution_count": 24,
     "metadata": {},
     "output_type": "execute_result"
    }
   ],
   "source": [
    "comedy = data.select(data.Length).filter(data.Genre == 'Comedy')\n",
    "\n",
    "df_stats = comedy.select(\n",
    "    _mean(col('Length')).alias('mean')\n",
    ").collect()\n",
    "\n",
    "mean_comedy = df_stats[0]['mean']\n",
    "mean_comedy"
   ]
  },
  {
   "cell_type": "code",
   "execution_count": 25,
   "metadata": {},
   "outputs": [
    {
     "data": {
      "text/plain": [
       "104.5"
      ]
     },
     "execution_count": 25,
     "metadata": {},
     "output_type": "execute_result"
    }
   ],
   "source": [
    "action = data.select(data.Length).filter(data.Genre == 'Action')\n",
    "\n",
    "df_stats = action.select(\n",
    "    _mean(col('Length')).alias('mean')\n",
    ").collect()\n",
    "\n",
    "mean_action = df_stats[0]['mean']\n",
    "mean_action"
   ]
  },
  {
   "cell_type": "code",
   "execution_count": 26,
   "metadata": {},
   "outputs": [
    {
     "data": {
      "text/plain": [
       "124.8"
      ]
     },
     "execution_count": 26,
     "metadata": {},
     "output_type": "execute_result"
    }
   ],
   "source": [
    "westerns = data.select(data.Length).filter(data.Genre == 'Westerns')\n",
    "\n",
    "df_stats = westerns.select(\n",
    "    _mean(col('Length')).alias('mean')\n",
    ").collect()\n",
    "\n",
    "mean_westerns = df_stats[0]['mean']\n",
    "mean_westerns"
   ]
  },
  {
   "cell_type": "code",
   "execution_count": 27,
   "metadata": {},
   "outputs": [
    {
     "name": "stdout",
     "output_type": "stream",
     "text": [
      "+----+------+--------------------+-----+---------------+----------------+----------------+----------+------+-------------------+\n",
      "|Year|Length|               Title|Genre|          Actor|         Actress|        Director|Popularity|Awards|              Image|\n",
      "+----+------+--------------------+-----+---------------+----------------+----------------+----------+------+-------------------+\n",
      "|1989|   113|         Good Fellas|Drama|De Niro, Robert|Bracco, Lorraine|Scorsese, Martin|        15|    No| NicholasCage.png,,|\n",
      "|1943|   113|     A Guy Named Joe|Drama| Tracy, Spencer|    Dunne, Irene| Fleming, Victor|        42|    No| spencerTracy.png,,|\n",
      "|1991|   113|         Coming Home|Drama|    Voight, Jon|     Fonda, Jane|            null|         1|   Yes|NicholasCage.png,,,|\n",
      "|1988|   113|        Five Corners|Drama|   Robbins, Tim|   Foster, Jodie|            null|        88|    No|NicholasCage.png,,,|\n",
      "|1955|   113|Blackboard Jungle...|Drama|    Ford, Glenn|   Francis, Anne| Brooks, Richard|        66|    No|     glennFord.png,|\n",
      "+----+------+--------------------+-----+---------------+----------------+----------------+----------+------+-------------------+\n",
      "only showing top 5 rows\n",
      "\n"
     ]
    }
   ],
   "source": [
    "dt8 = data.filter(data.Length.isNotNull())\n",
    "dt0 = data.filter((data.Length.isNull())&(data.Genre == 'Drama')).na.fill(value = mean_drama,subset=[\"Length\"])\n",
    "dt0.show(5)"
   ]
  },
  {
   "cell_type": "code",
   "execution_count": 28,
   "metadata": {},
   "outputs": [
    {
     "name": "stdout",
     "output_type": "stream",
     "text": [
      "+----+------+--------------------+-----+-----------+-------+--------+----------+------+-----------------+\n",
      "|Year|Length|               Title|Genre|      Actor|Actress|Director|Popularity|Awards|            Image|\n",
      "+----+------+--------------------+-----+-----------+-------+--------+----------+------+-----------------+\n",
      "|1991|   116|John Wayne Collec...|  War|Wayne, John|   null|    null|        49|    No|  johnWayne.png,,|\n",
      "|1992|   116|John Wayne Collec...|  War|Wayne, John|   null|    null|         3|    No|johnWayne.png,,,,|\n",
      "+----+------+--------------------+-----+-----------+-------+--------+----------+------+-----------------+\n",
      "\n"
     ]
    }
   ],
   "source": [
    "dt1 = data.filter((data.Length.isNull())&(data.Genre ==  'War')).na.fill(value = mean_war,subset=[\"Length\"])\n",
    "dt1.show(5)"
   ]
  },
  {
   "cell_type": "code",
   "execution_count": 29,
   "metadata": {},
   "outputs": [
    {
     "name": "stdout",
     "output_type": "stream",
     "text": [
      "+----+------+------------------+-------+-------------+---------------+--------------------+----------+------+-------------------+\n",
      "|Year|Length|             Title|  Genre|        Actor|        Actress|            Director|Popularity|Awards|              Image|\n",
      "+----+------+------------------+-------+-------------+---------------+--------------------+----------+------+-------------------+\n",
      "|1989|   103|           Killjoy|Mystery| Culp, Robert|  Basinger, Kim|Moxey, John Llewe...|        71|    No| NicholasCage.png,,|\n",
      "|1988|   103|  White of the Eye|Mystery| Keith, David|Moriarty, Cathy|     Cammell, Donald|        48|    No| NicholasCage.png,,|\n",
      "|1988|   103|Still of the Night|Mystery|Scheider, Roy|  Streep, Meryl|      Benton, Robert|        42|    No|  merylStreep.png,,|\n",
      "|1992|   103| Mummy's Hand, The|Mystery|  Foran, Dick|           null|                null|        54|    No|NicholasCage.png,,,|\n",
      "|1989|   103|        Saint, The|Mystery| Moore, Roger|           null|                null|        29|    No|NicholasCage.png,,,|\n",
      "+----+------+------------------+-------+-------------+---------------+--------------------+----------+------+-------------------+\n",
      "only showing top 5 rows\n",
      "\n"
     ]
    }
   ],
   "source": [
    "dt2 = data.filter((data.Length.isNull())&(data.Genre == 'Mystery')).na.fill(value = mean_mystery,subset=[\"Length\"])\n",
    "dt2.show(5)"
   ]
  },
  {
   "cell_type": "code",
   "execution_count": 30,
   "metadata": {},
   "outputs": [
    {
     "name": "stdout",
     "output_type": "stream",
     "text": [
      "+----+------+--------------------+-----+----------+-------------+--------+----------+------+-------------------+\n",
      "|Year|Length|               Title|Genre|     Actor|      Actress|Director|Popularity|Awards|              Image|\n",
      "+----+------+--------------------+-----+----------+-------------+--------+----------+------+-------------------+\n",
      "|1984|   100|Gary Numan - Berz...|Music|Webb, John|Taylor, Karen|    null|        60|    No|NicholasCage.png,,,|\n",
      "|1990|   100|Sounds of the Sev...|Music|Jones, Tom|Welch, Raquel|    null|        13|    No|NicholasCage.png,,,|\n",
      "+----+------+--------------------+-----+----------+-------------+--------+----------+------+-------------------+\n",
      "\n"
     ]
    }
   ],
   "source": [
    "dt3 = data.filter((data.Length.isNull())&(data.Genre == 'Music')).na.fill(value = mean_music,subset=[\"Length\"])\n",
    "dt3.show(5)"
   ]
  },
  {
   "cell_type": "code",
   "execution_count": 31,
   "metadata": {},
   "outputs": [
    {
     "name": "stdout",
     "output_type": "stream",
     "text": [
      "+----+------+--------------------+------+--------------+--------------------+----------------+----------+------+-------------------+\n",
      "|Year|Length|               Title| Genre|         Actor|             Actress|        Director|Popularity|Awards|              Image|\n",
      "+----+------+--------------------+------+--------------+--------------------+----------------+----------+------+-------------------+\n",
      "|1980|    93|Happy Birthday to Me|Horror|   Ford, Glenn|Anderson, Melissa...|Thompson, J. Lee|        88|    No|    glennFord.png,,|\n",
      "|1988|    93|  Mama's Dirty Girls|Horror|Currie, Sondra|     Grahame, Gloria|            null|        62|    No|NicholasCage.png,,,|\n",
      "+----+------+--------------------+------+--------------+--------------------+----------------+----------+------+-------------------+\n",
      "\n"
     ]
    }
   ],
   "source": [
    "dt4 = data.filter((data.Length.isNull())&(data.Genre == 'Horror')).na.fill(value = mean_horror,subset=[\"Length\"])\n",
    "dt4.show(5)"
   ]
  },
  {
   "cell_type": "code",
   "execution_count": 32,
   "metadata": {},
   "outputs": [
    {
     "name": "stdout",
     "output_type": "stream",
     "text": [
      "+----+------+--------------------+-------+--------------+--------------+--------------+----------+------+-------------------+\n",
      "|Year|Length|               Title|  Genre|         Actor|       Actress|      Director|Popularity|Awards|              Image|\n",
      "+----+------+--------------------+-------+--------------+--------------+--------------+----------+------+-------------------+\n",
      "|1931|    93|     Range Feud, The|Western|   Wayne, John|Fleming, Susan|Lederman, Ross|        51|    No|     johnWayne.png,|\n",
      "|1989|    93|Death Valley Days...|Western|   Caan, James|          null|          null|         9|    No|NicholasCage.png,,,|\n",
      "|1989|    93|Death Valley Days...|Western|Reagan, Ronald|          null|          null|         1|    No|NicholasCage.png,,,|\n",
      "|1993|    93|Duke, The Films o...|Western|   Wayne, John|          null|          null|        70|    No|   johnWayne.png,,,|\n",
      "|1932|    93|   Hurricane Express|Western|   Wayne, John|          null|          null|         7|    No|  johnWayne.png,,,,|\n",
      "+----+------+--------------------+-------+--------------+--------------+--------------+----------+------+-------------------+\n",
      "only showing top 5 rows\n",
      "\n"
     ]
    }
   ],
   "source": [
    "dt5 = data.filter((data.Length.isNull())&(data.Genre == 'Western')).na.fill(value = mean_western,subset=[\"Length\"])\n",
    "dt5.show(5)"
   ]
  },
  {
   "cell_type": "code",
   "execution_count": 33,
   "metadata": {},
   "outputs": [
    {
     "name": "stdout",
     "output_type": "stream",
     "text": [
      "+----+------+--------------------+------+--------------------+---------------+-----------------+----------+------+-------------------+\n",
      "|Year|Length|               Title| Genre|               Actor|        Actress|         Director|Popularity|Awards|              Image|\n",
      "+----+------+--------------------+------+--------------------+---------------+-----------------+----------+------+-------------------+\n",
      "|1982|    96|Catch a Rising St...|Comedy|     Belzer, Richard|   Benatar, Pat|             null|        18|    No| NicholasCage.png,,|\n",
      "|1987|    96|           Mannequin|Comedy|    McCarthy, Andrew|  Cattrall, Kim|Gottlieb, Michael|        23|    No| NicholasCage.png,,|\n",
      "|1990|    96|          Party, The|Comedy|      Sellers, Peter|Champion, Marge|   Edwards, Blake|        32|    No|  NicholasCage.png,|\n",
      "|1991|    96|             Why Me?|Comedy|Lambert, Christopher|    Greist, Kim|             null|        74|    No|NicholasCage.png,,,|\n",
      "|1990|    96|        Crazy People|Comedy|       Moore, Dudley|  Hannah, Daryl|       Bill, Tony|        61|    No| NicholasCage.png,,|\n",
      "+----+------+--------------------+------+--------------------+---------------+-----------------+----------+------+-------------------+\n",
      "only showing top 5 rows\n",
      "\n"
     ]
    }
   ],
   "source": [
    "dt6 = data.filter((data.Length.isNull())&(data.Genre ==  'Comedy')).na.fill(value = mean_comedy,subset=[\"Length\"])\n",
    "dt6.show(5)"
   ]
  },
  {
   "cell_type": "code",
   "execution_count": 34,
   "metadata": {},
   "outputs": [
    {
     "name": "stdout",
     "output_type": "stream",
     "text": [
      "+----+------+--------------------+--------+---------------+-------+--------+----------+------+--------------------+\n",
      "|Year|Length|               Title|   Genre|          Actor|Actress|Director|Popularity|Awards|               Image|\n",
      "+----+------+--------------------+--------+---------------+-------+--------+----------+------+--------------------+\n",
      "|1991|   124|Clint Eastwood Co...|Westerns|Eastwood, Clint|   null|    null|        11|    No|clintEastwood.png,,,|\n",
      "+----+------+--------------------+--------+---------------+-------+--------+----------+------+--------------------+\n",
      "\n",
      "+----+------+--------------------+------+-----------------+-------------------+--------------------+----------+------+-------------------+\n",
      "|Year|Length|               Title| Genre|            Actor|            Actress|            Director|Popularity|Awards|              Image|\n",
      "+----+------+--------------------+------+-----------------+-------------------+--------------------+----------+------+-------------------+\n",
      "|1962|   104|              Dr. No|Action|    Connery, Sean|    Andress, Ursula|      Young, Terence|         7|    No|  seanConnery.png,,|\n",
      "|1983|   104|Moon in the Gutte...|Action|Depardieu, G�rard|  Kinski, Nastassia|Beineix, Jean-Jac...|        29|    No|  NicholasCage.png,|\n",
      "|1992|   104|     Pleasure Palace|Action|     Sharif, Omar|Principal, Victoria|                null|        45|    No|NicholasCage.png,,,|\n",
      "|1990|   104|Hells Angels on W...|Action|  Nicholson, Jack|    Scharf, Sabrina|                null|         1|    No|NicholasCage.png,,,|\n",
      "|1990|   104|      Live & Let Die|Action|     Moore, Roger|      Seymour, Jane|                null|        62|    No|NicholasCage.png,,,|\n",
      "+----+------+--------------------+------+-----------------+-------------------+--------------------+----------+------+-------------------+\n",
      "only showing top 5 rows\n",
      "\n"
     ]
    }
   ],
   "source": [
    "dt7 = data.filter((data.Length.isNull())&(data.Genre == 'Westerns')).na.fill(value = mean_westerns,subset=[\"Length\"])\n",
    "dt7.show(5)\n",
    "dt9 = data.filter((data.Length.isNull())&(data.Genre == 'Action')).na.fill(value = mean_action,subset=[\"Length\"])\n",
    "dt9.show(5)"
   ]
  },
  {
   "cell_type": "code",
   "execution_count": 35,
   "metadata": {},
   "outputs": [
    {
     "name": "stdout",
     "output_type": "stream",
     "text": [
      "+----+------+--------------------+------+-------------------+---------------+-----------------+----------+------+------------------+\n",
      "|Year|Length|               Title| Genre|              Actor|        Actress|         Director|Popularity|Awards|             Image|\n",
      "+----+------+--------------------+------+-------------------+---------------+-----------------+----------+------+------------------+\n",
      "|1990|   111|Tie Me Up! Tie Me...|Comedy|  Banderas, Antonio|Abril, Victoria| Almod�var, Pedro|        68|    No|NicholasCage.png,,|\n",
      "|1991|   113|          High Heels|Comedy|       Bos�, Miguel|Abril, Victoria| Almod�var, Pedro|        68|    No|NicholasCage.png,,|\n",
      "|1983|   104|      Dead Zone, The|Horror|Walken, Christopher|  Adams, Brooke|Cronenberg, David|        79|    No| NicholasCage.png,|\n",
      "|1979|   122|                Cuba|Action|      Connery, Sean|  Adams, Brooke|  Lester, Richard|         6|    No| seanConnery.png,,|\n",
      "|1978|    94|      Days of Heaven| Drama|      Gere, Richard|  Adams, Brooke| Malick, Terrence|        14|    No|NicholasCage.png,,|\n",
      "+----+------+--------------------+------+-------------------+---------------+-----------------+----------+------+------------------+\n",
      "only showing top 5 rows\n",
      "\n",
      "(1659, 10)\n"
     ]
    }
   ],
   "source": [
    "from functools import reduce\n",
    "from pyspark.sql import DataFrame\n",
    "\n",
    "def unionAll(*dfs):\n",
    "    return reduce(DataFrame.unionAll, dfs)\n",
    "data2 = unionAll(dt8,dt0,dt1,dt2,dt3,dt4,dt5,dt6,dt7,dt9)\n",
    "data2.show(5)\n",
    "print((data2.count(), len(data2.columns)))"
   ]
  },
  {
   "cell_type": "markdown",
   "metadata": {},
   "source": [
    "2. Genre \n",
    "#### Genre has 2 missing values here I will check the Director and mode of the movies he/she directs and put it there"
   ]
  },
  {
   "cell_type": "code",
   "execution_count": 36,
   "metadata": {},
   "outputs": [
    {
     "name": "stdout",
     "output_type": "stream",
     "text": [
      "+----------------+\n",
      "|        Director|\n",
      "+----------------+\n",
      "|Compton, Richard|\n",
      "|  Bernds, Edward|\n",
      "+----------------+\n",
      "\n"
     ]
    }
   ],
   "source": [
    "# First step is to check the Director we need to calculate the mode of the movies Genre for\n",
    "data.select('Director').filter(data.Genre.isNull()).distinct().show()"
   ]
  },
  {
   "cell_type": "code",
   "execution_count": 37,
   "metadata": {},
   "outputs": [
    {
     "name": "stdout",
     "output_type": "stream",
     "text": [
      "+-----+-----+\n",
      "|Genre|count|\n",
      "+-----+-----+\n",
      "| null|    1|\n",
      "+-----+-----+\n",
      "\n",
      "+----+------+----------+-----+------------+-------------+----------------+----------+------+------------------+\n",
      "|Year|Length|     Title|Genre|       Actor|      Actress|        Director|Popularity|Awards|             Image|\n",
      "+----+------+----------+-----+------------+-------------+----------------+----------+------+------------------+\n",
      "|1980|   180|Wild Times| null|Elliott, Sam|Peyser, Penny|Compton, Richard|        75|    No|NicholasCage.png,,|\n",
      "+----+------+----------+-----+------------+-------------+----------------+----------+------+------------------+\n",
      "\n",
      "+-----+-----+\n",
      "|Genre|count|\n",
      "+-----+-----+\n",
      "| null|    1|\n",
      "+-----+-----+\n",
      "\n",
      "+----+------+---------------+-----+-----------------+----------------+--------------+----------+------+------------------+\n",
      "|Year|Length|          Title|Genre|            Actor|         Actress|      Director|Popularity|Awards|             Image|\n",
      "+----+------+---------------+-----+-----------------+----------------+--------------+----------+------+------------------+\n",
      "|1953|    61|White Lightning| null|Clements, Stanley|Blondell, Gloria|Bernds, Edward|      null|    No|NicholasCage.png,,|\n",
      "+----+------+---------------+-----+-----------------+----------------+--------------+----------+------+------------------+\n",
      "\n"
     ]
    }
   ],
   "source": [
    "from pyspark.sql.functions import col\n",
    "\n",
    "cnts = data.filter(data.Director == 'Compton, Richard').groupBy(\"Genre\").count()\n",
    "cnts.show()\n",
    "\n",
    "data.filter(data.Director == 'Compton, Richard').show()\n",
    "cnts = data.filter(data.Director == 'Bernds, Edward').groupBy(\"Genre\").count()\n",
    "cnts.show()\n",
    "data.filter(data.Director == 'Bernds, Edward').show()\n",
    "\n",
    "# Since we only have one value here we can't use Director hence I have decided to drop these two values \n",
    "# as only two values out of 1659 would not affect the dataset "
   ]
  },
  {
   "cell_type": "code",
   "execution_count": 38,
   "metadata": {},
   "outputs": [
    {
     "name": "stdout",
     "output_type": "stream",
     "text": [
      "1657\n"
     ]
    }
   ],
   "source": [
    "# Dropping Null Values\n",
    "print(data2.na.drop(subset=[\"Genre\"]).count())\n",
    "data2 = data2.na.drop(subset=[\"Genre\"])"
   ]
  },
  {
   "cell_type": "markdown",
   "metadata": {},
   "source": [
    "3. Actor\n",
    "#### Actor has 8 missing values here I will check the Genre where the Actor is same and for other values and put it in there"
   ]
  },
  {
   "cell_type": "code",
   "execution_count": 39,
   "metadata": {},
   "outputs": [
    {
     "name": "stdout",
     "output_type": "stream",
     "text": [
      "+----+------+--------------------+-----+-----+-------+----------------+----------+------+--------------------+\n",
      "|Year|Length|               Title|Genre|Actor|Actress|        Director|Popularity|Awards|               Image|\n",
      "+----+------+--------------------+-----+-----+-------+----------------+----------+------+--------------------+\n",
      "|1988|   100|Ciao Italia, Mado...|Music| null|Madonna|De Winter, Harry|        74|    No| NicholasCage.png,,,|\n",
      "|1991|   118|Madonna, Truth or...|Music| null|Madonna|Keshishian, Alek|        54|    No| NicholasCage.png,,,|\n",
      "|1990|    60|Immaculate Collec...|Music| null|Madonna|            null|        32|    No|NicholasCage.png,,,,|\n",
      "|1987|    50|Madonna Live, The...|Music| null|Madonna|            null|        75|    No|NicholasCage.png,,,,|\n",
      "|1990|     5|Madonna, Justify ...|Music| null|Madonna|            null|        77|    No|NicholasCage.png,,,,|\n",
      "+----+------+--------------------+-----+-----+-------+----------------+----------+------+--------------------+\n",
      "only showing top 5 rows\n",
      "\n",
      "+-------------+\n",
      "|        Actor|\n",
      "+-------------+\n",
      "|Harrison, Rex|\n",
      "|   Webb, John|\n",
      "|Astaire, Fred|\n",
      "|   Jones, Tom|\n",
      "|  Majors, Lee|\n",
      "+-------------+\n",
      "only showing top 5 rows\n",
      "\n",
      "+-------------+-----+\n",
      "|        Actor|count|\n",
      "+-------------+-----+\n",
      "|         null|    7|\n",
      "|   Jones, Tom|    1|\n",
      "|Harrison, Rex|    1|\n",
      "|   Cage, John|    1|\n",
      "|  Majors, Lee|    1|\n",
      "+-------------+-----+\n",
      "only showing top 5 rows\n",
      "\n"
     ]
    }
   ],
   "source": [
    "# First step is to check the Director we need to calculate the mode of the movies Genre for\n",
    "data.filter(data.Actor.isNull()).show(5)\n",
    "# Since we have Null values for the Actors working in Music Genre so I am trying to get the mode of the Actor who worked in Music Genre\n",
    "data.select('Actor').filter(data.Genre == 'Music').distinct().show(5)\n",
    "music_actors=data.select('*').filter(data.Genre == 'Music').groupBy('Actor').count().sort((col('count')).desc())\n",
    "music_actors.show(5)"
   ]
  },
  {
   "cell_type": "code",
   "execution_count": 40,
   "metadata": {},
   "outputs": [
    {
     "name": "stdout",
     "output_type": "stream",
     "text": [
      "+---------------+-----+\n",
      "|          Actor|count|\n",
      "+---------------+-----+\n",
      "|    Wayne, John|   81|\n",
      "|Eastwood, Clint|   31|\n",
      "|  Connery, Sean|   30|\n",
      "|   Newman, Paul|   27|\n",
      "| Brando, Marlon|   24|\n",
      "+---------------+-----+\n",
      "only showing top 5 rows\n",
      "\n"
     ]
    }
   ],
   "source": [
    "# Taking mode of Actor with most movies and adding it to the null values\n",
    "actors=data.groupBy('Actor').count().sort((col('count')).desc())\n",
    "actors.show(5)\n",
    "\n",
    "maximum_val=actors.agg({\"count\": \"max\"}).first()[0]\n",
    "\n",
    "actor_with_most_movies=actors.select('Actor').filter((col('count')==maximum_val)).collect()[0][0] # Mode"
   ]
  },
  {
   "cell_type": "code",
   "execution_count": 41,
   "metadata": {},
   "outputs": [
    {
     "name": "stdout",
     "output_type": "stream",
     "text": [
      "Wayne, John\n",
      "+----+------+--------------------+------+-------------------+---------------+-----------------+----------+------+------------------+\n",
      "|Year|Length|               Title| Genre|              Actor|        Actress|         Director|Popularity|Awards|             Image|\n",
      "+----+------+--------------------+------+-------------------+---------------+-----------------+----------+------+------------------+\n",
      "|1990|   111|Tie Me Up! Tie Me...|Comedy|  Banderas, Antonio|Abril, Victoria| Almod�var, Pedro|        68|    No|NicholasCage.png,,|\n",
      "|1991|   113|          High Heels|Comedy|       Bos�, Miguel|Abril, Victoria| Almod�var, Pedro|        68|    No|NicholasCage.png,,|\n",
      "|1983|   104|      Dead Zone, The|Horror|Walken, Christopher|  Adams, Brooke|Cronenberg, David|        79|    No| NicholasCage.png,|\n",
      "|1979|   122|                Cuba|Action|      Connery, Sean|  Adams, Brooke|  Lester, Richard|         6|    No| seanConnery.png,,|\n",
      "|1978|    94|      Days of Heaven| Drama|      Gere, Richard|  Adams, Brooke| Malick, Terrence|        14|    No|NicholasCage.png,,|\n",
      "+----+------+--------------------+------+-------------------+---------------+-----------------+----------+------+------------------+\n",
      "only showing top 5 rows\n",
      "\n",
      "(1657, 10)\n"
     ]
    }
   ],
   "source": [
    "print(actor_with_most_movies)\n",
    "data2 = data2.na.fill(value = actor_with_most_movies,subset=[\"Actor\"])\n",
    "data2.show(5)\n",
    "print((data2.count(), len(data2.columns)))"
   ]
  },
  {
   "cell_type": "markdown",
   "metadata": {},
   "source": [
    "4. Actress\n",
    "#### Actress has 378 missing values here I will check with the same technique as used for Actor and then see what can we do to impute the values first"
   ]
  },
  {
   "cell_type": "code",
   "execution_count": 42,
   "metadata": {},
   "outputs": [
    {
     "name": "stdout",
     "output_type": "stream",
     "text": [
      "+----+------+--------------------+-------+---------------+-------+---------------+----------+------+--------------------+\n",
      "|Year|Length|               Title|  Genre|          Actor|Actress|       Director|Popularity|Awards|               Image|\n",
      "+----+------+--------------------+-------+---------------+-------+---------------+----------+------+--------------------+\n",
      "|1953|    94|           Vera Cruz| Action|   Cooper, Gary|   null|Aldrich, Robert|        71|    No| NicholasCage.png,,,|\n",
      "|1954|    91|              Apache|Western|Lancaster, Burt|   null|Aldrich, Robert|        78|    No|burtLancaster.png,,,|\n",
      "|1977|   146|Twilight's Last G...|  Drama|Lancaster, Burt|   null|Aldrich, Robert|        84|    No|burtLancaster.png,,,|\n",
      "|1979|   119|     Frisco Kid, The| Comedy|   Wilder, Gene|   null|Aldrich, Robert|        10|    No|  NicholasCage.png,,|\n",
      "|1954|    30|   Bank on the Stars|  Drama|     Paar, Jack|   null|   Allen, Craig|      null|    No| NicholasCage.png,,,|\n",
      "+----+------+--------------------+-------+---------------+-------+---------------+----------+------+--------------------+\n",
      "only showing top 5 rows\n",
      "\n",
      "+---------------+\n",
      "|          Genre|\n",
      "+---------------+\n",
      "|          Drama|\n",
      "|            War|\n",
      "|        Mystery|\n",
      "|          Music|\n",
      "|Science Fiction|\n",
      "|         Horror|\n",
      "|        Western|\n",
      "|         Comedy|\n",
      "|         Action|\n",
      "|       Westerns|\n",
      "+---------------+\n",
      "\n"
     ]
    }
   ],
   "source": [
    "# First step is to check the Director we need to calculate the mode of the movies Genre for\n",
    "data2.filter(data2.Actress.isNull()).show(5)\n",
    "# Since we have Null values for the Actors working in Music Genre so I am trying to get the mode of the Actor who worked in Music Genre\n",
    "data2.select('Genre').filter(data2.Actress.isNull()).distinct().show()"
   ]
  },
  {
   "cell_type": "code",
   "execution_count": 43,
   "metadata": {
    "scrolled": false
   },
   "outputs": [],
   "source": [
    "drama_actresses=data2.select('*').filter((data2.Genre == 'Drama') & (data2.Actress.isNotNull())).groupBy('Actress').count().sort((col('count')).desc())\n",
    "war_actresses=data2.select('*').filter((data2.Genre == 'War') & (data2.Actress.isNotNull())).groupBy('Actress').count().sort((col('count')).desc())\n",
    "mystery_actresses=data2.select('*').filter((data2.Genre == 'Mystery') & (data2.Actress.isNotNull())).groupBy('Actress').count().sort((col('count')).desc())\n",
    "music_actresses=data2.select('*').filter((data2.Genre == 'Music') & (data2.Actress.isNotNull())).groupBy('Actress').count().sort((col('count')).desc())\n",
    "sci_fi_actresses=data2.select('*').filter((data2.Genre == 'Science Fiction') & (data2.Actress.isNotNull())).groupBy('Actress').count().sort((col('count')).desc())\n",
    "horror_actresses=data2.select('*').filter((data2.Genre == 'Horror') & (data2.Actress.isNotNull())).groupBy('Actress').count().sort((col('count')).desc())\n",
    "western_actresses=data2.select('*').filter((data2.Genre == 'Western') & (data2.Actress.isNotNull())).groupBy('Actress').count().sort((col('count')).desc())\n",
    "comedy_actresses=data2.select('*').filter((data2.Genre == 'Comedy') & (data2.Actress.isNotNull())).groupBy('Actress').count().sort((col('count')).desc())\n",
    "action_actresses=data2.select('*').filter((data2.Genre == 'Action') & (data2.Actress.isNotNull())).groupBy('Actress').count().sort((col('count')).desc())\n",
    "westerns_actresses=data2.select('*').filter((data2.Genre == 'Westerns') & (data2.Actress.isNotNull())).groupBy('Actress').count().sort((col('count')).desc())"
   ]
  },
  {
   "cell_type": "code",
   "execution_count": 44,
   "metadata": {
    "scrolled": false
   },
   "outputs": [
    {
     "data": {
      "text/plain": [
       "'Bergman, Ingrid'"
      ]
     },
     "execution_count": 44,
     "metadata": {},
     "output_type": "execute_result"
    }
   ],
   "source": [
    "dt0 = data2.filter(data2.Actress.isNotNull())\n",
    "# Taking mode of Actress with most movies of a genre and adding it to the corresponding null values\n",
    "actresses=data2.filter((data2.Genre == 'Drama') & (data2.Actress.isNotNull())).groupBy('Actress').count().sort((col('count')).desc())\n",
    "\n",
    "maximum_val=actresses.agg({\"count\": \"max\"}).first()[0]\n",
    "\n",
    "actress_with_most_movies=actresses.select('Actress').filter((col('count')==maximum_val)).collect()[0][0] # Mode\n",
    "dt1 = data2.filter((data2.Genre == 'Drama')&(data2.Actress.isNull())).na.fill(value = actress_with_most_movies,subset=[\"Actress\"])\n",
    "actress_with_most_movies"
   ]
  },
  {
   "cell_type": "code",
   "execution_count": 45,
   "metadata": {},
   "outputs": [
    {
     "data": {
      "text/plain": [
       "'Bow, Clara'"
      ]
     },
     "execution_count": 45,
     "metadata": {},
     "output_type": "execute_result"
    }
   ],
   "source": [
    "war_actresses=data2.select('*').filter((data2.Genre == 'War') & (data2.Actress.isNotNull())).groupBy('Actress').count().sort((col('count')).desc())\n",
    "maximum_val=war_actresses.agg({\"count\": \"max\"}).first()[0]\n",
    "actress_with_most_movies=war_actresses.select('Actress').filter((col('count')==maximum_val)).collect()[0][0] # Mode\n",
    "dt2 = data2.filter((data2.Genre == 'War')&(data2.Actress.isNull())).na.fill(value = actress_with_most_movies,subset=[\"Actress\"])\n",
    "actress_with_most_movies"
   ]
  },
  {
   "cell_type": "code",
   "execution_count": 46,
   "metadata": {},
   "outputs": [
    {
     "data": {
      "text/plain": [
       "'Ford, Maria'"
      ]
     },
     "execution_count": 46,
     "metadata": {},
     "output_type": "execute_result"
    }
   ],
   "source": [
    "mystery_actresses=data2.select('*').filter((data2.Genre == 'Mystery') & (data2.Actress.isNotNull())).groupBy('Actress').count().sort((col('count')).desc())\n",
    "maximum_val=mystery_actresses.agg({\"count\": \"max\"}).first()[0]\n",
    "\n",
    "actress_with_most_movies=mystery_actresses.select('Actress').filter((col('count')==maximum_val)).collect()[0][0] # Mode\n",
    "\n",
    "dt3= data2.filter((data2.Genre == 'Mystery')&(data2.Actress.isNull())).na.fill(value = actress_with_most_movies,subset=[\"Actress\"])\n",
    "actress_with_most_movies"
   ]
  },
  {
   "cell_type": "code",
   "execution_count": 47,
   "metadata": {},
   "outputs": [
    {
     "data": {
      "text/plain": [
       "'Madonna'"
      ]
     },
     "execution_count": 47,
     "metadata": {},
     "output_type": "execute_result"
    }
   ],
   "source": [
    "music_actresses=data2.select('*').filter((data2.Genre == 'Music') & (data2.Actress.isNotNull())).groupBy('Actress').count().sort((col('count')).desc())\n",
    "maximum_val=music_actresses.agg({\"count\": \"max\"}).first()[0]\n",
    "\n",
    "actress_with_most_movies=music_actresses.select('Actress').filter((col('count')==maximum_val)).collect()[0][0] # Mode\n",
    "\n",
    "dt4 = data2.filter((data2.Genre == 'Music')&(data2.Actress.isNull())).na.fill(value = actress_with_most_movies,subset=[\"Actress\"])\n",
    "actress_with_most_movies"
   ]
  },
  {
   "cell_type": "code",
   "execution_count": 48,
   "metadata": {},
   "outputs": [
    {
     "data": {
      "text/plain": [
       "'Weaver, Sigourney'"
      ]
     },
     "execution_count": 48,
     "metadata": {},
     "output_type": "execute_result"
    }
   ],
   "source": [
    "sci_fi_actresses=data2.select('*').filter((data2.Genre == 'Science Fiction') & (data2.Actress.isNotNull())).groupBy('Actress').count().sort((col('count')).desc())\n",
    "maximum_val=sci_fi_actresses.agg({\"count\": \"max\"}).first()[0]\n",
    "\n",
    "actress_with_most_movies=sci_fi_actresses.select('Actress').filter((col('count')==maximum_val)).collect()[0][0] # Mode\n",
    "\n",
    "dt5 = data2.filter((data2.Genre == 'Science Fiction')&(data2.Actress.isNull())).na.fill(value = actress_with_most_movies,subset=[\"Actress\"])\n",
    "actress_with_most_movies"
   ]
  },
  {
   "cell_type": "code",
   "execution_count": 49,
   "metadata": {},
   "outputs": [
    {
     "data": {
      "text/plain": [
       "'Carlisle, Mary'"
      ]
     },
     "execution_count": 49,
     "metadata": {},
     "output_type": "execute_result"
    }
   ],
   "source": [
    "horror_actresses=data2.select('*').filter((data2.Genre == 'Horror') & (data2.Actress.isNotNull())).groupBy('Actress').count().sort((col('count')).desc())\n",
    "maximum_val=horror_actresses.agg({\"count\": \"max\"}).first()[0]\n",
    "actress_with_most_movies=horror_actresses.select('Actress').filter((col('count')==maximum_val)).collect()[0][0] # Mode\n",
    "dt6 = data2.filter((data2.Genre == 'Horror')&(data2.Actress.isNull())).na.fill(value = actress_with_most_movies,subset=[\"Actress\"])\n",
    "actress_with_most_movies"
   ]
  },
  {
   "cell_type": "code",
   "execution_count": 50,
   "metadata": {},
   "outputs": [
    {
     "data": {
      "text/plain": [
       "\"O'Day, Nell\""
      ]
     },
     "execution_count": 50,
     "metadata": {},
     "output_type": "execute_result"
    }
   ],
   "source": [
    "western_actresses=data2.select('*').filter((data2.Genre == 'Western') & (data2.Actress.isNotNull())).groupBy('Actress').count().sort((col('count')).desc())\n",
    "maximum_val=western_actresses.agg({\"count\": \"max\"}).first()[0]\n",
    "\n",
    "actress_with_most_movies=western_actresses.select('Actress').filter((col('count')==maximum_val)).collect()[0][0] # Mode\n",
    "\n",
    "dt7 = data2.filter((data2.Genre == 'Western')&(data2.Actress.isNull())).na.fill(value = actress_with_most_movies,subset=[\"Actress\"])\n",
    "actress_with_most_movies"
   ]
  },
  {
   "cell_type": "code",
   "execution_count": 51,
   "metadata": {},
   "outputs": [
    {
     "data": {
      "text/plain": [
       "'Hawn, Goldie'"
      ]
     },
     "execution_count": 51,
     "metadata": {},
     "output_type": "execute_result"
    }
   ],
   "source": [
    "comedy_actresses=data2.select('*').filter((data2.Genre == 'Comedy') & (data2.Actress.isNotNull())).groupBy('Actress').count().sort((col('count')).desc())\n",
    "maximum_val=comedy_actresses.agg({\"count\": \"max\"}).first()[0]\n",
    "\n",
    "actress_with_most_movies=comedy_actresses.select('Actress').filter((col('count')==maximum_val)).collect()[0][0] # Mode\n",
    "\n",
    "dt8 = data2.filter((data2.Genre == 'Comedy')&(data2.Actress.isNull())).na.fill(value = actress_with_most_movies,subset=[\"Actress\"])\n",
    "actress_with_most_movies"
   ]
  },
  {
   "cell_type": "code",
   "execution_count": 52,
   "metadata": {},
   "outputs": [
    {
     "data": {
      "text/plain": [
       "'Loren, Sophia'"
      ]
     },
     "execution_count": 52,
     "metadata": {},
     "output_type": "execute_result"
    }
   ],
   "source": [
    "action_actresses=data2.select('*').filter((data2.Genre == 'Action') & (data2.Actress.isNotNull())).groupBy('Actress').count().sort((col('count')).desc())\n",
    "maximum_val=action_actresses.agg({\"count\": \"max\"}).first()[0]\n",
    "\n",
    "actress_with_most_movies=action_actresses.select('Actress').filter((col('count')==maximum_val)).collect()[0][0] # Mode\n",
    "\n",
    "dt9 = data2.filter((data2.Genre == 'Action')&(data2.Actress.isNull())).na.fill(value = actress_with_most_movies,subset=[\"Actress\"])\n",
    "actress_with_most_movies"
   ]
  },
  {
   "cell_type": "code",
   "execution_count": 53,
   "metadata": {},
   "outputs": [
    {
     "data": {
      "text/plain": [
       "'Bardot, Brigitte'"
      ]
     },
     "execution_count": 53,
     "metadata": {},
     "output_type": "execute_result"
    }
   ],
   "source": [
    "westerns_actresses=data2.select('*').filter((data2.Genre == 'Westerns') & (data2.Actress.isNotNull())).groupBy('Actress').count().sort((col('count')).desc())\n",
    "maximum_val=westerns_actresses.agg({\"count\": \"max\"}).first()[0]\n",
    "\n",
    "actress_with_most_movies=westerns_actresses.select('Actress').filter((col('count')==maximum_val)).collect()[0][0] # Mode\n",
    "\n",
    "dt10 = data2.filter((data2.Genre == 'Westerns')&(data2.Actress.isNull())).na.fill(value = actress_with_most_movies,subset=[\"Actress\"])\n",
    "actress_with_most_movies"
   ]
  },
  {
   "cell_type": "code",
   "execution_count": 54,
   "metadata": {},
   "outputs": [
    {
     "name": "stdout",
     "output_type": "stream",
     "text": [
      "(1657, 10)\n"
     ]
    }
   ],
   "source": [
    "data3 = unionAll(dt0,dt1,dt2,dt3,dt4,dt5,dt6,dt7,dt8,dt9,dt10)\n",
    "print((data3.count(), len(data3.columns)))"
   ]
  },
  {
   "cell_type": "markdown",
   "metadata": {},
   "source": [
    "5. Director\n",
    "#### Director has 253 missing values here I will check with the same technique as used for Actor and then see what can we do to impute the values first"
   ]
  },
  {
   "cell_type": "code",
   "execution_count": 55,
   "metadata": {},
   "outputs": [
    {
     "name": "stdout",
     "output_type": "stream",
     "text": [
      "+----+------+--------------------+------+---------------+---------------+--------+----------+------+-------------------+\n",
      "|Year|Length|               Title| Genre|          Actor|        Actress|Director|Popularity|Awards|              Image|\n",
      "+----+------+--------------------+------+---------------+---------------+--------+----------+------+-------------------+\n",
      "|1992|    90|           Germicide| Drama|    Taylor, Rod|Andersson, Bibi|    null|        36|    No|NicholasCage.png,,,|\n",
      "|1954|   103|       Elephant Walk| Drama|   Finch, Peter|  Andrews, Dana|    null|        11|    No|NicholasCage.png,,,|\n",
      "|1985|    55|Gonzo Presents Mu...|Comedy|   Cleese, John| Andrews, Julie|    null|        88|    No|NicholasCage.png,,,|\n",
      "|1991|   115|              Bataan|   War| Taylor, Robert|    Arnaz, Desi|    null|        68|    No|NicholasCage.png,,,|\n",
      "|1991|    90|Henry, Portrait o...|Horror|Rooker, Michael|  Arnold, Tracy|    null|        69|    No| NicholasCage.png,,|\n",
      "+----+------+--------------------+------+---------------+---------------+--------+----------+------+-------------------+\n",
      "only showing top 5 rows\n",
      "\n",
      "+-------+----------+\n",
      "|  Genre|Popularity|\n",
      "+-------+----------+\n",
      "|  Drama|        88|\n",
      "| Comedy|        88|\n",
      "| Action|        87|\n",
      "|Western|        87|\n",
      "| Comedy|        86|\n",
      "+-------+----------+\n",
      "only showing top 5 rows\n",
      "\n",
      "+---------------+\n",
      "|          Genre|\n",
      "+---------------+\n",
      "|          Drama|\n",
      "|            War|\n",
      "|        Mystery|\n",
      "|          Music|\n",
      "|Science Fiction|\n",
      "|         Horror|\n",
      "|        Western|\n",
      "|         Comedy|\n",
      "|         Action|\n",
      "|       Westerns|\n",
      "+---------------+\n",
      "\n"
     ]
    }
   ],
   "source": [
    "# First step is to check the Director we need to calculate the mode of the movies Genre for\n",
    "data3.filter(data3.Director.isNull()).show(5)\n",
    "# Since we have Null values for the Director working in almost all genre so I am going to take the most popular director in genre and based on the popularity of the movie I will purge the values\n",
    "data3.select('Genre','Popularity').filter(data3.Director.isNull()).distinct().orderBy((data3.Popularity).desc()).show(5)\n",
    "data3.select('Genre').filter(data3.Director.isNull()).distinct().show()"
   ]
  },
  {
   "cell_type": "code",
   "execution_count": 56,
   "metadata": {},
   "outputs": [],
   "source": [
    "dt0 = data3.filter(data3.Director.isNotNull())\n",
    "drama_dt = data3.select('Director','Popularity').filter((data3.Genre == 'Drama') & (data3.Genre.isNotNull())).collect()\n",
    "\n",
    "most_popular_director= ''\n",
    "m = 0\n",
    "\n",
    "for row in drama_dt:\n",
    "    if(row[1] != None):\n",
    "        if(m<row[1]):\n",
    "            most_popular_director = row[0]\n",
    "            m = row[1]\n",
    "            \n",
    "dt1 = data3.filter((data3.Genre == 'Drama')&(data3.Director.isNull())).na.fill(value = most_popular_director,subset=[\"Director\"])\n",
    "drama_dt = data3.select('Director','Popularity').filter((data3.Genre == 'War') & (data3.Genre.isNotNull())).collect()\n",
    "\n",
    "most_popular_director= ''\n",
    "m = 0\n",
    "\n",
    "for row in drama_dt:\n",
    "    if(row[1] != None):\n",
    "        if(m<row[1]):\n",
    "            most_popular_director = row[0]\n",
    "            m = row[1]\n",
    "            \n",
    "dt2 = data3.filter((data3.Genre == 'War')&(data3.Director.isNull())).na.fill(value = most_popular_director,subset=[\"Director\"])\n",
    "drama_dt = data3.select('Director','Popularity').filter((data3.Genre == 'Mystery') & (data3.Genre.isNotNull())).collect()\n",
    "\n",
    "most_popular_director= ''\n",
    "m = 0\n",
    "\n",
    "for row in drama_dt:\n",
    "    if(row[1] != None):\n",
    "        if(m<row[1]):\n",
    "            most_popular_director = row[0]\n",
    "            m = row[1]\n",
    "            \n",
    "dt3 = data3.filter((data3.Genre == 'Mystery')&(data3.Director.isNull())).na.fill(value = most_popular_director,subset=[\"Director\"])\n",
    "drama_dt = data3.select('Director','Popularity').filter((data3.Genre == 'Music') & (data3.Genre.isNotNull())).collect()\n",
    "\n",
    "most_popular_director= ''\n",
    "m = 0\n",
    "\n",
    "for row in drama_dt:\n",
    "    if(row[1] != None):\n",
    "        if(m<row[1]):\n",
    "            most_popular_director = row[0]\n",
    "            m = row[1]\n",
    "            \n",
    "dt4 = data3.filter((data3.Genre == 'Music')&(data3.Director.isNull())).na.fill(value = most_popular_director,subset=[\"Director\"])\n",
    "\n",
    "drama_dt = data3.select('Director','Popularity').filter((data3.Genre == 'Science Fiction') & (data3.Genre.isNotNull())).collect()\n",
    "\n",
    "most_popular_director= ''\n",
    "m = 0\n",
    "\n",
    "for row in drama_dt:\n",
    "    if(row[1] != None):\n",
    "        if(m<row[1]):\n",
    "            most_popular_director = row[0]\n",
    "            m = row[1]\n",
    "            \n",
    "dt5 = data3.filter((data3.Genre == 'Science Fiction')&(data3.Director.isNull())).na.fill(value = most_popular_director,subset=[\"Director\"])\n",
    "drama_dt = data3.select('Director','Popularity').filter((data3.Genre == 'Western') & (data3.Genre.isNotNull())).collect()\n",
    "\n",
    "most_popular_director= ''\n",
    "m = 0\n",
    "\n",
    "for row in drama_dt:\n",
    "    if(row[1] != None):\n",
    "        if(m<row[1]):\n",
    "            most_popular_director = row[0]\n",
    "            m = row[1]\n",
    "            \n",
    "dt6 = data3.filter((data3.Genre == 'Western')&(data3.Director.isNull())).na.fill(value = most_popular_director,subset=[\"Director\"])\n",
    "drama_dt = data3.select('Director','Popularity').filter((data3.Genre == 'Comedy') & (data3.Genre.isNotNull())).collect()\n",
    "most_popular_director= ''\n",
    "m = 0\n",
    "\n",
    "for row in drama_dt:\n",
    "    if(row[1] != None and row[0] !=None):\n",
    "        if(m<row[1]):\n",
    "            most_popular_director = row[0]\n",
    "            m = row[1]\n",
    "dt7 = data3.filter((data3.Genre == 'Comedy')&(data3.Director.isNull())).na.fill(value = most_popular_director,subset=[\"Director\"])\n",
    "drama_dt = data3.select('Director','Popularity').filter((data3.Genre == 'Action') & (data3.Genre.isNotNull())).collect()\n",
    "\n",
    "most_popular_director= ''\n",
    "m = 0\n",
    "\n",
    "for row in drama_dt:\n",
    "    if(row[1] != None):\n",
    "        if(m<row[1]):\n",
    "            most_popular_director = row[0]\n",
    "            m = row[1]\n",
    "            \n",
    "dt8 = data3.filter((data3.Genre == 'Action')&(data3.Director.isNull())).na.fill(value = most_popular_director,subset=[\"Director\"])\n",
    "drama_dt = data3.select('Director','Popularity').filter((data3.Genre == 'Westerns') & (data3.Genre.isNotNull())).collect()\n",
    "\n",
    "most_popular_director= ''\n",
    "m = 0\n",
    "\n",
    "for row in drama_dt:\n",
    "    if(row[0]!=None and row[1] != None):\n",
    "        if(m<row[1]):\n",
    "            most_popular_director = row[0]\n",
    "            m = row[1]\n",
    "            \n",
    "dt9 = data3.filter((data3.Genre == 'Westerns')&(data3.Director.isNull())).na.fill(value = most_popular_director,subset=[\"Director\"])\n",
    "drama_dt = data3.select('Director','Popularity').filter((data3.Genre == 'Horror') & (data3.Genre.isNotNull())).collect()\n",
    "\n",
    "most_popular_director= ''\n",
    "m = 0\n",
    "\n",
    "for row in drama_dt:\n",
    "    if(row[0]!=None and row[1] != None):\n",
    "        if(m<row[1]):\n",
    "            most_popular_director = row[0]\n",
    "            m = row[1]\n",
    "            \n",
    "dt10 = data3.filter((data3.Genre == 'Horror')&(data3.Director.isNull())).na.fill(value = most_popular_director,subset=[\"Director\"])"
   ]
  },
  {
   "cell_type": "code",
   "execution_count": 57,
   "metadata": {},
   "outputs": [
    {
     "name": "stdout",
     "output_type": "stream",
     "text": [
      "(1657, 10)\n"
     ]
    }
   ],
   "source": [
    "data4 = unionAll(dt0,dt1,dt2,dt3,dt4,dt5,dt6,dt7,dt8,dt9,dt10)\n",
    "print((data4.count(), len(data4.columns)))"
   ]
  },
  {
   "cell_type": "markdown",
   "metadata": {},
   "source": [
    "6. Popularity\n",
    "#### Popularity has only 6 missing values so here I will purge the values with the mean of Popularity"
   ]
  },
  {
   "cell_type": "code",
   "execution_count": 58,
   "metadata": {},
   "outputs": [
    {
     "name": "stdout",
     "output_type": "stream",
     "text": [
      "43.11010284331518\n"
     ]
    }
   ],
   "source": [
    "from pyspark.sql.functions import mean as _mean, col\n",
    "m=0\n",
    "m=data.agg(_mean('Popularity')).collect()\n",
    "mea = m[0]['avg(Popularity)']\n",
    "print(mea)"
   ]
  },
  {
   "cell_type": "code",
   "execution_count": 59,
   "metadata": {},
   "outputs": [],
   "source": [
    "data4 = data4.na.fill(value = mea,subset=[\"Popularity\"])"
   ]
  },
  {
   "cell_type": "markdown",
   "metadata": {},
   "source": [
    "# New data has no null values"
   ]
  },
  {
   "cell_type": "code",
   "execution_count": 60,
   "metadata": {},
   "outputs": [
    {
     "name": "stdout",
     "output_type": "stream",
     "text": [
      "+----+------+-----+-----+-----+-------+--------+----------+------+-----+\n",
      "|Year|Length|Title|Genre|Actor|Actress|Director|Popularity|Awards|Image|\n",
      "+----+------+-----+-----+-----+-------+--------+----------+------+-----+\n",
      "|   0|    67|    0|    2|    8|    378|     253|         6|     0|    0|\n",
      "+----+------+-----+-----+-----+-------+--------+----------+------+-----+\n",
      "\n",
      "+----+------+-----+-----+-----+-------+--------+----------+------+-----+\n",
      "|Year|Length|Title|Genre|Actor|Actress|Director|Popularity|Awards|Image|\n",
      "+----+------+-----+-----+-----+-------+--------+----------+------+-----+\n",
      "|   0|     0|    0|    0|    0|      0|       0|         0|     0|    0|\n",
      "+----+------+-----+-----+-----+-------+--------+----------+------+-----+\n",
      "\n"
     ]
    }
   ],
   "source": [
    "from pyspark.sql.functions import isnull, when ,count,col\n",
    "# Original Dataset\n",
    "dataorg.select([count(when(isnull(x), x)).alias(x) for x in dataorg.columns]).show()\n",
    "# Dataset After Pre Processing\n",
    "data4.select([count(when(isnull(x), x)).alias(x) for x in data4.columns]).show()"
   ]
  },
  {
   "cell_type": "code",
   "execution_count": 61,
   "metadata": {},
   "outputs": [],
   "source": [
    "data4.toPandas().to_csv('Pre_Processed_Data.csv')"
   ]
  },
  {
   "cell_type": "markdown",
   "metadata": {},
   "source": [
    "# I am using too many partitions. Hence, I am going do the remaining parts on the Pre Processed dataset on a new Session and will read it in a separate python notebook"
   ]
  }
 ],
 "metadata": {
  "kernelspec": {
   "display_name": "Python 3",
   "language": "python",
   "name": "python3"
  },
  "language_info": {
   "codemirror_mode": {
    "name": "ipython",
    "version": 3
   },
   "file_extension": ".py",
   "mimetype": "text/x-python",
   "name": "python",
   "nbconvert_exporter": "python",
   "pygments_lexer": "ipython3",
   "version": "3.8.3"
  }
 },
 "nbformat": 4,
 "nbformat_minor": 2
}
