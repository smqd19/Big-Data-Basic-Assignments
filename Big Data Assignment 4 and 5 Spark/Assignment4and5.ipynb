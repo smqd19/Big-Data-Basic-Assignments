{
 "cells": [
  {
   "cell_type": "code",
   "execution_count": 62,
   "metadata": {},
   "outputs": [],
   "source": [
    "import findspark\n",
    "findspark.init()\n",
    "import pyspark\n",
    "\n",
    "from pyspark import SparkContext, SparkConf\n",
    "from pyspark.sql import SparkSession"
   ]
  },
  {
   "cell_type": "code",
   "execution_count": 63,
   "metadata": {},
   "outputs": [],
   "source": [
    "spark=SparkSession.builder.appName('Assignment_4_and_5').getOrCreate()"
   ]
  },
  {
   "cell_type": "code",
   "execution_count": 64,
   "metadata": {},
   "outputs": [],
   "source": [
    "#READING DATASET \n",
    "data=(spark.read.option('header','true').csv('MoviesA3.csv', sep=\";\" , inferSchema=True)).persist()"
   ]
  },
  {
   "cell_type": "code",
   "execution_count": 65,
   "metadata": {},
   "outputs": [
    {
     "output_type": "stream",
     "name": "stdout",
     "text": [
      "root\n |-- Year: integer (nullable = true)\n |-- Length: integer (nullable = true)\n |-- Title: string (nullable = true)\n |-- Genre: string (nullable = true)\n |-- Actor: string (nullable = true)\n |-- Actress: string (nullable = true)\n |-- Director: string (nullable = true)\n |-- Popularity: integer (nullable = true)\n |-- Awards: string (nullable = true)\n |-- Image: string (nullable = true)\n\n"
     ]
    }
   ],
   "source": [
    "data.printSchema()"
   ]
  },
  {
   "cell_type": "code",
   "execution_count": 66,
   "metadata": {},
   "outputs": [
    {
     "output_type": "execute_result",
     "data": {
      "text/plain": [
       "['Year',\n",
       " 'Length',\n",
       " 'Title',\n",
       " 'Genre',\n",
       " 'Actor',\n",
       " 'Actress',\n",
       " 'Director',\n",
       " 'Popularity',\n",
       " 'Awards',\n",
       " 'Image']"
      ]
     },
     "metadata": {},
     "execution_count": 66
    }
   ],
   "source": [
    "data.columns"
   ]
  },
  {
   "cell_type": "markdown",
   "metadata": {},
   "source": [
    "#  <font color='green'>Assignment 4 and 5 - Spark Data Frames and Clustering</font>"
   ]
  },
  {
   "cell_type": "markdown",
   "metadata": {},
   "source": [
    "### Type of Each Attribute"
   ]
  },
  {
   "cell_type": "code",
   "execution_count": 67,
   "metadata": {},
   "outputs": [
    {
     "output_type": "execute_result",
     "data": {
      "text/plain": [
       "[('Year', 'int'),\n",
       " ('Length', 'int'),\n",
       " ('Title', 'string'),\n",
       " ('Genre', 'string'),\n",
       " ('Actor', 'string'),\n",
       " ('Actress', 'string'),\n",
       " ('Director', 'string'),\n",
       " ('Popularity', 'int'),\n",
       " ('Awards', 'string'),\n",
       " ('Image', 'string')]"
      ]
     },
     "metadata": {},
     "execution_count": 67
    }
   ],
   "source": [
    "data.dtypes"
   ]
  },
  {
   "cell_type": "markdown",
   "metadata": {},
   "source": [
    "### Nominal data include country, gender, race, hair color etc. of a group of people.\n",
    "### Ordinal data include having a position in class as “First” or “Second”.\n",
    "### An interval scale is one where there is order and the difference between two values is meaningful. Examples of interval variables include: temperature (Farenheit), temperature (Celcius), pH, SAT score (200-800), credit score (300-850).\n",
    "### A ratio variable, has all the properties of an interval variable, and also has a clear definition of 0.0. When the variable equals 0.0, there is none of that variable. Examples of ratio variables include: enzyme activity, dose amount, reaction rate, flow rate, concentration, pulse, weight, length, temperature in Kelvin (0.0 Kelvin really does mean “no heat”), survival time."
   ]
  },
  {
   "cell_type": "markdown",
   "metadata": {},
   "source": [
    "| Attribute | Type | Reason |\n",
    "| ----------|------|--------------------------------------------------------------------------------------------------------- |\n",
    "| Year | Interval  | Since there is a difference between two values is meaningful and hence this attribute lies in the Interval Type and can never be 0 |\n",
    "| Length | Ordinal | Since it is a measurable attribute and hence this attribute lies in the Ordinal Type |\n",
    "| Title | Nominal  | Since the attribute is not ordered and it lies in the category of a group of something and hence this attribute lies in the Nominal Type |\n",
    "| Genre | Nominal  | Since the attribute is not ordered and it lies in the category of a group of something and hence this attribute lies in the Nominal Type |\n",
    "| Actor | Nominal  | Since the attribute is not ordered and it lies in the category of a group of something and hence this attribute lies in the Nominal Type |\n",
    "| Actress | Nominal  | Since the attribute is not ordered and it lies in the category of a group of something and hence this attribute lies in the Nominal Type |\n",
    "| Director | Nominal  | Since the attribute is not ordered and it lies in the category of a group of something and hence this attribute lies in the Nominal Type |\n",
    "| Popularity | Ratio  | Since the attribute has all the properties of an interval variable, and also has a clear definition of 0.0 and hence this attribute lies in the Ratio Type |\n",
    "| Awards | Nominal  | Since the attribute is not ordered and it lies in the category of a group of something and hence this attribute lies in the Nominal Type |\n",
    "Image | Nominal  | Since the attribute is not ordered and it lies in the category of a group of something and hence this attribute lies in the Nominal Type |"
   ]
  },
  {
   "cell_type": "markdown",
   "metadata": {},
   "source": [
    "### Pre-Processing"
   ]
  },
  {
   "cell_type": "code",
   "execution_count": 68,
   "metadata": {},
   "outputs": [
    {
     "output_type": "stream",
     "name": "stdout",
     "text": [
      "+----+------+-----+-----+-----+-------+--------+----------+------+-----+\n|Year|Length|Title|Genre|Actor|Actress|Director|Popularity|Awards|Image|\n+----+------+-----+-----+-----+-------+--------+----------+------+-----+\n+----+------+-----+-----+-----+-------+--------+----------+------+-----+\n\n"
     ]
    },
    {
     "output_type": "execute_result",
     "data": {
      "text/plain": [
       "0"
      ]
     },
     "metadata": {},
     "execution_count": 68
    }
   ],
   "source": [
    "data.filter(data.Year.isNull()).show()\n",
    "data.filter(data.Year.isNull()).count()"
   ]
  },
  {
   "cell_type": "code",
   "execution_count": 69,
   "metadata": {},
   "outputs": [
    {
     "output_type": "stream",
     "name": "stdout",
     "text": [
      "+----+------+--------------------+-------+--------------------+--------------------+--------------------+----------+------+-------------------+\n|Year|Length|               Title|  Genre|               Actor|             Actress|            Director|Popularity|Awards|              Image|\n+----+------+--------------------+-------+--------------------+--------------------+--------------------+----------+------+-------------------+\n|1980|  null|Happy Birthday to Me| Horror|         Ford, Glenn|Anderson, Melissa...|    Thompson, J. Lee|        88|    No|    glennFord.png,,|\n|1962|  null|              Dr. No| Action|       Connery, Sean|     Andress, Ursula|      Young, Terence|         7|    No|  seanConnery.png,,|\n|1989|  null|             Killjoy|Mystery|        Culp, Robert|       Basinger, Kim|Moxey, John Llewe...|        71|    No| NicholasCage.png,,|\n|1982|  null|Catch a Rising St...| Comedy|     Belzer, Richard|        Benatar, Pat|                null|        18|    No| NicholasCage.png,,|\n|1989|  null|         Good Fellas|  Drama|     De Niro, Robert|    Bracco, Lorraine|    Scorsese, Martin|        15|    No| NicholasCage.png,,|\n|1987|  null|           Mannequin| Comedy|    McCarthy, Andrew|       Cattrall, Kim|   Gottlieb, Michael|        23|    No| NicholasCage.png,,|\n|1990|  null|          Party, The| Comedy|      Sellers, Peter|     Champion, Marge|      Edwards, Blake|        32|    No|  NicholasCage.png,|\n|1943|  null|     A Guy Named Joe|  Drama|      Tracy, Spencer|        Dunne, Irene|     Fleming, Victor|        42|    No| spencerTracy.png,,|\n|1931|  null|     Range Feud, The|Western|         Wayne, John|      Fleming, Susan|      Lederman, Ross|        51|    No|     johnWayne.png,|\n|1991|  null|         Coming Home|  Drama|         Voight, Jon|         Fonda, Jane|                null|         1|   Yes|NicholasCage.png,,,|\n|1988|  null|        Five Corners|  Drama|        Robbins, Tim|       Foster, Jodie|                null|        88|    No|NicholasCage.png,,,|\n|1955|  null|Blackboard Jungle...|  Drama|         Ford, Glenn|       Francis, Anne|     Brooks, Richard|        66|    No|     glennFord.png,|\n|1988|  null|  Mama's Dirty Girls| Horror|      Currie, Sondra|     Grahame, Gloria|                null|        62|    No|NicholasCage.png,,,|\n|1991|  null|             Why Me?| Comedy|Lambert, Christopher|         Greist, Kim|                null|        74|    No|NicholasCage.png,,,|\n|1990|  null|        Crazy People| Comedy|       Moore, Dudley|       Hannah, Daryl|          Bill, Tony|        61|    No| NicholasCage.png,,|\n|1989|  null|        High Spirits| Comedy|      O'Toole, Peter|       Hannah, Daryl|        Jordan, Neil|        53|    No| NicholasCage.png,,|\n|1983|  null|Moon in the Gutte...| Action|   Depardieu, G�rard|   Kinski, Nastassia|Beineix, Jean-Jac...|        29|    No|  NicholasCage.png,|\n|1959|  null|   Black Orchid, The|  Drama|      Quinn, Anthony|       Loren, Sophia|        Ritt, Martin|        54|    No|   sophiaLoren.png,|\n|1990|  null|        Running Away|  Drama|      Loggia, Robert|       Loren, Sophia|                null|         2|    No| sophiaLoren.png,,,|\n|1968|  null|Bliss of Mrs. Blo...| Comedy|        Booth, James|   MacLaine, Shirley|     McGrath, Joseph|        86|    No|  NicholasCage.png,|\n+----+------+--------------------+-------+--------------------+--------------------+--------------------+----------+------+-------------------+\nonly showing top 20 rows\n\n"
     ]
    },
    {
     "output_type": "execute_result",
     "data": {
      "text/plain": [
       "67"
      ]
     },
     "metadata": {},
     "execution_count": 69
    }
   ],
   "source": [
    "data.filter(data.Length.isNull()).show()\n",
    "data.filter(data.Length.isNull()).count()"
   ]
  },
  {
   "cell_type": "code",
   "execution_count": 70,
   "metadata": {},
   "outputs": [
    {
     "output_type": "stream",
     "name": "stdout",
     "text": [
      "+----+------+---------------+-----+-----------------+----------------+----------------+----------+------+------------------+\n|Year|Length|          Title|Genre|            Actor|         Actress|        Director|Popularity|Awards|             Image|\n+----+------+---------------+-----+-----------------+----------------+----------------+----------+------+------------------+\n|1953|    61|White Lightning| null|Clements, Stanley|Blondell, Gloria|  Bernds, Edward|      null|    No|NicholasCage.png,,|\n|1980|   180|     Wild Times| null|     Elliott, Sam|   Peyser, Penny|Compton, Richard|        75|    No|NicholasCage.png,,|\n+----+------+---------------+-----+-----------------+----------------+----------------+----------+------+------------------+\n\n"
     ]
    },
    {
     "output_type": "execute_result",
     "data": {
      "text/plain": [
       "2"
      ]
     },
     "metadata": {},
     "execution_count": 70
    }
   ],
   "source": [
    "data.filter(data.Genre.isNull()).show()\n",
    "data.filter(data.Genre.isNull()).count()"
   ]
  },
  {
   "cell_type": "code",
   "execution_count": 71,
   "metadata": {},
   "outputs": [
    {
     "output_type": "stream",
     "name": "stdout",
     "text": [
      "+----+------+--------------------+------+-----+-------+----------------+----------+------+--------------------+\n|Year|Length|               Title| Genre|Actor|Actress|        Director|Popularity|Awards|               Image|\n+----+------+--------------------+------+-----+-------+----------------+----------+------+--------------------+\n|1988|   100|Ciao Italia, Mado...| Music| null|Madonna|De Winter, Harry|        74|    No| NicholasCage.png,,,|\n|1991|   118|Madonna, Truth or...| Music| null|Madonna|Keshishian, Alek|        54|    No| NicholasCage.png,,,|\n|1990|    60|Immaculate Collec...| Music| null|Madonna|            null|        32|    No|NicholasCage.png,,,,|\n|1987|    50|Madonna Live, The...| Music| null|Madonna|            null|        75|    No|NicholasCage.png,,,,|\n|1990|     5|Madonna, Justify ...| Music| null|Madonna|            null|        77|    No|NicholasCage.png,,,,|\n|1991|    16|Madonna, Like a V...| Music| null|Madonna|            null|        63|    No|NicholasCage.png,,,,|\n|1986|    90|Ninja, the Violen...|Action| null|   null|  Lambert, Bruce|      null|    No| NicholasCage.png,,,|\n|1990|    59| Erasure, Live Wild!| Music| null|   null|   Taylor, Gavin|        48|    No| NicholasCage.png,,,|\n+----+------+--------------------+------+-----+-------+----------------+----------+------+--------------------+\n\n"
     ]
    },
    {
     "output_type": "execute_result",
     "data": {
      "text/plain": [
       "8"
      ]
     },
     "metadata": {},
     "execution_count": 71
    }
   ],
   "source": [
    "data.filter(data.Actor.isNull()).show()\n",
    "data.filter(data.Actor.isNull()).count()"
   ]
  },
  {
   "cell_type": "code",
   "execution_count": 72,
   "metadata": {},
   "outputs": [
    {
     "output_type": "stream",
     "name": "stdout",
     "text": [
      "+----+------+--------------------+-------+--------------------+-------+--------------------+----------+------+--------------------+\n|Year|Length|               Title|  Genre|               Actor|Actress|            Director|Popularity|Awards|               Image|\n+----+------+--------------------+-------+--------------------+-------+--------------------+----------+------+--------------------+\n|1953|    94|           Vera Cruz| Action|        Cooper, Gary|   null|     Aldrich, Robert|        71|    No| NicholasCage.png,,,|\n|1954|    91|              Apache|Western|     Lancaster, Burt|   null|     Aldrich, Robert|        78|    No|burtLancaster.png,,,|\n|1977|   146|Twilight's Last G...|  Drama|     Lancaster, Burt|   null|     Aldrich, Robert|        84|    No|burtLancaster.png,,,|\n|1979|   119|     Frisco Kid, The| Comedy|        Wilder, Gene|   null|     Aldrich, Robert|        10|    No|  NicholasCage.png,,|\n|1954|    30|   Bank on the Stars|  Drama|          Paar, Jack|   null|        Allen, Craig|      null|    No| NicholasCage.png,,,|\n|1987|   100|       Law of Desire|  Drama|       Maura, Carmen|   null|    Almod�var, Pedro|        73|    No| NicholasCage.png,,,|\n|1966|   103|Quiller Memorandu...|Mystery|       Segal, George|   null|   Anderson, Michael|        34|    No|  NicholasCage.png,,|\n|1962|   183|    Longest Day, The|    War|         Wayne, John|   null|        Annakin, Ken|         7|    No|     johnWayne.png,,|\n|1986|   128|Name of the Rose,...|  Drama|       Connery, Sean|   null|Annaud, Jean-Jacques|         8|    No|   seanConnery.png,,|\n|1988|    92|          Bloodsport| Action|Van Damme, Jean-C...|   null|        Arnold, Newt|        78|    No| NicholasCage.png,,,|\n|1986|    85|             Torment| Horror|     Gilbert, Taylor|   null|    Aslanian, Samson|         8|    No| NicholasCage.png,,,|\n|1988|   138| Pelle the Conqueror|  Drama|      Sydow, Max von|   null|       August, Bille|        14|   Yes| NicholasCage.png,,,|\n|1981|   118|                Taps|  Drama|     Hutton, Timothy|   null|      Becker, Harold|        84|    No| NicholasCage.png,,,|\n|1991|   102|       Freshman, The| Comedy|      Brando, Marlon|   null|     Bergman, Andrew|        32|    No|        brando.png,,|\n|1987|   164|   Last Emperor, The|  Drama|          Lone, John|   null|Bertolucci, Bernardo|         1|   Yes|  NicholasCage.png,,|\n|1962|   100|    Grim Reaper, The|  Drama|     Rulu, Francesco|   null|Bertolucci, Bernardo|        35|    No|  NicholasCage.png,,|\n|1983|    90|   Le Dernier Combat|  Drama|     Jolivet, Pierre|   null|         Besson, Luc|        72|    No| NicholasCage.png,,,|\n|1989|    91|Too Beautiful for...|  Drama|   Depardieu, G�rard|   null|     Blier, Bertrand|        35|    No| NicholasCage.png,,,|\n|1991|   105|Fire, Ice & Dynamite| Action|        Moore, Roger|   null|       Bogner, Willy|        72|    No|  NicholasCage.png,,|\n|1963|   113|       Heavens Above| Comedy|      Sellers, Peter|   null|      Boulting, John|        38|    No| NicholasCage.png,,,|\n+----+------+--------------------+-------+--------------------+-------+--------------------+----------+------+--------------------+\nonly showing top 20 rows\n\n"
     ]
    },
    {
     "output_type": "execute_result",
     "data": {
      "text/plain": [
       "378"
      ]
     },
     "metadata": {},
     "execution_count": 72
    }
   ],
   "source": [
    "data.filter(data.Actress.isNull()).show()\n",
    "data.filter(data.Actress.isNull()).count()"
   ]
  },
  {
   "cell_type": "code",
   "execution_count": 73,
   "metadata": {},
   "outputs": [
    {
     "output_type": "stream",
     "name": "stdout",
     "text": [
      "+----+------+--------------------+-------+-------------------+----------------+--------+----------+------+--------------------+\n|Year|Length|               Title|  Genre|              Actor|         Actress|Director|Popularity|Awards|               Image|\n+----+------+--------------------+-------+-------------------+----------------+--------+----------+------+--------------------+\n|1992|    90|           Germicide|  Drama|        Taylor, Rod| Andersson, Bibi|    null|        36|    No| NicholasCage.png,,,|\n|1954|   103|       Elephant Walk|  Drama|       Finch, Peter|   Andrews, Dana|    null|        11|    No| NicholasCage.png,,,|\n|1985|    55|Gonzo Presents Mu...| Comedy|       Cleese, John|  Andrews, Julie|    null|        88|    No| NicholasCage.png,,,|\n|1991|   115|              Bataan|    War|     Taylor, Robert|     Arnaz, Desi|    null|        68|    No| NicholasCage.png,,,|\n|1991|    90|Henry, Portrait o...| Horror|    Rooker, Michael|   Arnold, Tracy|    null|        69|    No|  NicholasCage.png,,|\n|1989|   118|Vincent, Francois...|  Drama|      Montand, Yves|Audran, St�phane|    null|        20|    No|   NicholasCage.png,|\n|1991|    89|           Bloodbath| Horror|     Hopper, Dennis|  Baker, Carroll|    null|        37|    No| NicholasCage.png,,,|\n|1990|   101|       Act of Piracy|Mystery|        Busey, Gary|  Bauer, Belinda|    null|        74|    No| NicholasCage.png,,,|\n|1989|   103|      Vampire's Kiss| Comedy|      Cage, Nicolas| Beals, Jennifer|    null|        49|    No| NicholasCage.png,,,|\n|1982|  null|Catch a Rising St...| Comedy|    Belzer, Richard|    Benatar, Pat|    null|        18|    No|  NicholasCage.png,,|\n|1985|    55|Rowlf's Rhapsodie...| Comedy|      Burns, George|Berenson, Marisa|    null|        79|    No| NicholasCage.png,,,|\n|1989|   105|           Hideaways| Comedy|     Conover, Bruce| Bergman, Ingrid|    null|        16|    No|ingridBergman.png,,,|\n|1990|    90|Twenty Four Hours...|  Drama|          Torn, Rip| Bergman, Ingrid|    null|        16|    No|ingridBergman.png,,,|\n|1983|    60|Best of the Big L...| Comedy|      Murphy, Eddie|Bernhard, Sandra|    null|        20|    No|  NicholasCage.png,,|\n|1993|    60|Bill Cosby, Live ...| Comedy|        Cosby, Bill| Boosler, Elayne|    null|        13|    No|  NicholasCage.png,,|\n|1993|    65|John Cleese on Ho...| Comedy|       Cleese, John|   Booth, Connie|    null|        62|    No| NicholasCage.png,,,|\n|1975|   112|Alice Doesn't Liv...| Comedy|Kristofferson, Kris|  Burstyn, Ellen|    null|        82|   Yes| NicholasCage.png,,,|\n|1986|    71|Paramount Comedy ...| Comedy|      Mahler, Bruce|    Carter, Judy|    null|        40|    No| NicholasCage.png,,,|\n|1970|    26|Bloopers from Sta...| Comedy|     Lawford, Peter| Channing, Carol|    null|        22|    No| NicholasCage.png,,,|\n|1986|    88| Running Out of Luck| Comedy|       Jagger, Mick| Chong, Rae Dawn|    null|        16|    No| NicholasCage.png,,,|\n+----+------+--------------------+-------+-------------------+----------------+--------+----------+------+--------------------+\nonly showing top 20 rows\n\n"
     ]
    },
    {
     "output_type": "execute_result",
     "data": {
      "text/plain": [
       "253"
      ]
     },
     "metadata": {},
     "execution_count": 73
    }
   ],
   "source": [
    "data.filter(data.Director.isNull()).show()\n",
    "data.filter(data.Director.isNull()).count()"
   ]
  },
  {
   "cell_type": "code",
   "execution_count": 74,
   "metadata": {},
   "outputs": [
    {
     "output_type": "stream",
     "name": "stdout",
     "text": [
      "+----+------+--------------------+-------+--------------------+----------------+-------------------+----------+------+-------------------+\n|Year|Length|               Title|  Genre|               Actor|         Actress|           Director|Popularity|Awards|              Image|\n+----+------+--------------------+-------+--------------------+----------------+-------------------+----------+------+-------------------+\n|1953|    61|     White Lightning|   null|   Clements, Stanley|Blondell, Gloria|     Bernds, Edward|      null|    No| NicholasCage.png,,|\n|1986|    90|  Knights & Emeralds|  Drama|    Leadbitter, Bill|  Hills, Beverly|          Emes, Ian|      null|    No| NicholasCage.png,,|\n|1927|    62|      Drop Kick, The|  Drama|Barthelmess, Richard|   Kent, Barbara|      Webb, Millard|      null|    No|  NicholasCage.png,|\n|1923|    57|        Desert Rider|Western|         Hoxie, Jack|  Nelson, Evelyn|Bradbury, Robert N.|      null|    No| NicholasCage.png,,|\n|1954|    30|   Bank on the Stars|  Drama|          Paar, Jack|            null|       Allen, Craig|      null|    No|NicholasCage.png,,,|\n|1986|    90|Ninja, the Violen...| Action|                null|            null|     Lambert, Bruce|      null|    No|NicholasCage.png,,,|\n+----+------+--------------------+-------+--------------------+----------------+-------------------+----------+------+-------------------+\n\n"
     ]
    },
    {
     "output_type": "execute_result",
     "data": {
      "text/plain": [
       "6"
      ]
     },
     "metadata": {},
     "execution_count": 74
    }
   ],
   "source": [
    "data.filter(data.Popularity.isNull()).show()\n",
    "data.filter(data.Popularity.isNull()).count()"
   ]
  },
  {
   "cell_type": "code",
   "execution_count": 75,
   "metadata": {},
   "outputs": [
    {
     "output_type": "stream",
     "name": "stdout",
     "text": [
      "+----+------+-----+-----+-----+-------+--------+----------+------+-----+\n|Year|Length|Title|Genre|Actor|Actress|Director|Popularity|Awards|Image|\n+----+------+-----+-----+-----+-------+--------+----------+------+-----+\n+----+------+-----+-----+-----+-------+--------+----------+------+-----+\n\n"
     ]
    },
    {
     "output_type": "execute_result",
     "data": {
      "text/plain": [
       "0"
      ]
     },
     "metadata": {},
     "execution_count": 75
    }
   ],
   "source": [
    "data.filter(data.Awards.isNull()).show()\n",
    "data.filter(data.Awards.isNull()).count()"
   ]
  },
  {
   "cell_type": "code",
   "execution_count": 76,
   "metadata": {},
   "outputs": [
    {
     "output_type": "stream",
     "name": "stdout",
     "text": [
      "+----+------+-----+-----+-----+-------+--------+----------+------+-----+\n|Year|Length|Title|Genre|Actor|Actress|Director|Popularity|Awards|Image|\n+----+------+-----+-----+-----+-------+--------+----------+------+-----+\n+----+------+-----+-----+-----+-------+--------+----------+------+-----+\n\n"
     ]
    },
    {
     "output_type": "execute_result",
     "data": {
      "text/plain": [
       "0"
      ]
     },
     "metadata": {},
     "execution_count": 76
    }
   ],
   "source": [
    "data.filter(data.Image.isNull()).show()\n",
    "data.filter(data.Image.isNull()).count()"
   ]
  },
  {
   "source": [
    "## After checking for NULL values in the dataframe we have found out that \"Length\" has 67 null values, \"Genre\" has 2 null values, \"Actor\" has 8 null values, \"Actress\" has 378 Null values, \"Director\" has 253 Null values and \"Popularity\" has 6 null values, the rest has no null values.\n",
    "## Now I will impute those null values using different techniques"
   ],
   "cell_type": "markdown",
   "metadata": {}
  },
  {
   "source": [
    "1. Length \n",
    "#### Since the movies with the same genre has almost the same length on average, so I have decided to take the mean of length of each Genre and impute the values for the Length Attribute for the Genre it has"
   ],
   "cell_type": "markdown",
   "metadata": {}
  },
  {
   "cell_type": "code",
   "execution_count": 77,
   "metadata": {},
   "outputs": [
    {
     "output_type": "stream",
     "name": "stdout",
     "text": [
      "+--------+\n|   Genre|\n+--------+\n|   Drama|\n|     War|\n| Mystery|\n|   Music|\n|  Horror|\n| Western|\n|  Comedy|\n|  Action|\n|Westerns|\n+--------+\n\n"
     ]
    }
   ],
   "source": [
    "# First step is to check the Genre we need to calculate the mean of the movies length for\n",
    "data.select('Genre').filter(data.Length.isNull()).distinct().show()"
   ]
  },
  {
   "cell_type": "code",
   "execution_count": 78,
   "metadata": {},
   "outputs": [
    {
     "output_type": "execute_result",
     "data": {
      "text/plain": [
       "67"
      ]
     },
     "metadata": {},
     "execution_count": 78
    }
   ],
   "source": [
    "data.filter(data.Length.isNull()).count()"
   ]
  },
  {
   "cell_type": "code",
   "execution_count": 79,
   "metadata": {},
   "outputs": [
    {
     "output_type": "execute_result",
     "data": {
      "text/plain": [
       "113.30455259026688"
      ]
     },
     "metadata": {},
     "execution_count": 79
    }
   ],
   "source": [
    "from pyspark.sql.functions import mean as _mean, col\n",
    "\n",
    "drama = data.select(data.Length).filter(data.Genre == 'Drama')\n",
    "\n",
    "df_stats = drama.select(\n",
    "    _mean(col('Length')).alias('mean')\n",
    ").collect()\n",
    "\n",
    "mean_drama = df_stats[0]['mean']\n",
    "mean_drama"
   ]
  },
  {
   "cell_type": "code",
   "execution_count": 80,
   "metadata": {},
   "outputs": [
    {
     "output_type": "execute_result",
     "data": {
      "text/plain": [
       "116.90625"
      ]
     },
     "metadata": {},
     "execution_count": 80
    }
   ],
   "source": [
    "war = data.select(data.Length).filter(data.Genre == 'War')\n",
    "\n",
    "df_stats = war.select(\n",
    "    _mean(col('Length')).alias('mean')\n",
    ").collect()\n",
    "\n",
    "mean_war = df_stats[0]['mean']\n",
    "mean_war"
   ]
  },
  {
   "cell_type": "code",
   "execution_count": 81,
   "metadata": {},
   "outputs": [
    {
     "output_type": "execute_result",
     "data": {
      "text/plain": [
       "103.00990099009901"
      ]
     },
     "metadata": {},
     "execution_count": 81
    }
   ],
   "source": [
    "mystery = data.select(data.Length).filter(data.Genre == 'Mystery')\n",
    "\n",
    "df_stats = mystery.select(\n",
    "    _mean(col('Length')).alias('mean')\n",
    ").collect()\n",
    "\n",
    "mean_mystery = df_stats[0]['mean']\n",
    "mean_mystery"
   ]
  },
  {
   "cell_type": "code",
   "execution_count": 82,
   "metadata": {},
   "outputs": [
    {
     "output_type": "execute_result",
     "data": {
      "text/plain": [
       "100.48780487804878"
      ]
     },
     "metadata": {},
     "execution_count": 82
    }
   ],
   "source": [
    "music = data.select(data.Length).filter(data.Genre == 'Music')\n",
    "\n",
    "df_stats = music.select(\n",
    "    _mean(col('Length')).alias('mean')\n",
    ").collect()\n",
    "\n",
    "mean_music = df_stats[0]['mean']\n",
    "mean_music"
   ]
  },
  {
   "cell_type": "code",
   "execution_count": 83,
   "metadata": {},
   "outputs": [
    {
     "output_type": "execute_result",
     "data": {
      "text/plain": [
       "93.92727272727272"
      ]
     },
     "metadata": {},
     "execution_count": 83
    }
   ],
   "source": [
    "horror = data.select(data.Length).filter(data.Genre == 'Horror')\n",
    "\n",
    "df_stats = horror.select(\n",
    "    _mean(col('Length')).alias('mean')\n",
    ").collect()\n",
    "\n",
    "mean_horror = df_stats[0]['mean']\n",
    "mean_horror"
   ]
  },
  {
   "cell_type": "code",
   "execution_count": 84,
   "metadata": {},
   "outputs": [
    {
     "output_type": "execute_result",
     "data": {
      "text/plain": [
       "93.0091743119266"
      ]
     },
     "metadata": {},
     "execution_count": 84
    }
   ],
   "source": [
    "western = data.select(data.Length).filter(data.Genre == 'Western')\n",
    "\n",
    "df_stats = western.select(\n",
    "    _mean(col('Length')).alias('mean')\n",
    ").collect()\n",
    "\n",
    "mean_western = df_stats[0]['mean']\n",
    "mean_western"
   ]
  },
  {
   "cell_type": "code",
   "execution_count": 85,
   "metadata": {},
   "outputs": [
    {
     "output_type": "execute_result",
     "data": {
      "text/plain": [
       "96.50540540540541"
      ]
     },
     "metadata": {},
     "execution_count": 85
    }
   ],
   "source": [
    "comedy = data.select(data.Length).filter(data.Genre == 'Comedy')\n",
    "\n",
    "df_stats = comedy.select(\n",
    "    _mean(col('Length')).alias('mean')\n",
    ").collect()\n",
    "\n",
    "mean_comedy = df_stats[0]['mean']\n",
    "mean_comedy"
   ]
  },
  {
   "cell_type": "code",
   "execution_count": 86,
   "metadata": {},
   "outputs": [
    {
     "output_type": "execute_result",
     "data": {
      "text/plain": [
       "104.5"
      ]
     },
     "metadata": {},
     "execution_count": 86
    }
   ],
   "source": [
    "action = data.select(data.Length).filter(data.Genre == 'Action')\n",
    "\n",
    "df_stats = action.select(\n",
    "    _mean(col('Length')).alias('mean')\n",
    ").collect()\n",
    "\n",
    "mean_action = df_stats[0]['mean']\n",
    "mean_action"
   ]
  },
  {
   "cell_type": "code",
   "execution_count": 87,
   "metadata": {},
   "outputs": [
    {
     "output_type": "execute_result",
     "data": {
      "text/plain": [
       "124.8"
      ]
     },
     "metadata": {},
     "execution_count": 87
    }
   ],
   "source": [
    "westerns = data.select(data.Length).filter(data.Genre == 'Westerns')\n",
    "\n",
    "df_stats = westerns.select(\n",
    "    _mean(col('Length')).alias('mean')\n",
    ").collect()\n",
    "\n",
    "mean_westerns = df_stats[0]['mean']\n",
    "mean_westerns"
   ]
  },
  {
   "cell_type": "code",
   "execution_count": 88,
   "metadata": {},
   "outputs": [
    {
     "output_type": "execute_result",
     "data": {
      "text/plain": [
       "113.30455259026688"
      ]
     },
     "metadata": {},
     "execution_count": 88
    }
   ],
   "source": [
    "mean_drama"
   ]
  },
  {
   "cell_type": "code",
   "execution_count": 89,
   "metadata": {},
   "outputs": [
    {
     "output_type": "stream",
     "name": "stdout",
     "text": [
      "+----+------+--------------------+-----+--------------------+-----------------+-------------------+----------+------+--------------------+\n|Year|Length|               Title|Genre|               Actor|          Actress|           Director|Popularity|Awards|               Image|\n+----+------+--------------------+-----+--------------------+-----------------+-------------------+----------+------+--------------------+\n|1989|   113|         Good Fellas|Drama|     De Niro, Robert| Bracco, Lorraine|   Scorsese, Martin|        15|    No|  NicholasCage.png,,|\n|1943|   113|     A Guy Named Joe|Drama|      Tracy, Spencer|     Dunne, Irene|    Fleming, Victor|        42|    No|  spencerTracy.png,,|\n|1991|   113|         Coming Home|Drama|         Voight, Jon|      Fonda, Jane|               null|         1|   Yes| NicholasCage.png,,,|\n|1988|   113|        Five Corners|Drama|        Robbins, Tim|    Foster, Jodie|               null|        88|    No| NicholasCage.png,,,|\n|1955|   113|Blackboard Jungle...|Drama|         Ford, Glenn|    Francis, Anne|    Brooks, Richard|        66|    No|      glennFord.png,|\n|1959|   113|   Black Orchid, The|Drama|      Quinn, Anthony|    Loren, Sophia|       Ritt, Martin|        54|    No|    sophiaLoren.png,|\n|1990|   113|        Running Away|Drama|      Loggia, Robert|    Loren, Sophia|               null|         2|    No|  sophiaLoren.png,,,|\n|1979|   113|   Kramer vs. Kramer|Drama|     Hoffman, Dustin|    Streep, Meryl|     Benton, Robert|         8|   Yes|   merylStreep.png,,|\n|1987|   113|       Sicilian, The|Drama|Lambert, Christopher|  Sukowa, Barbara|    Cimino, Michael|        41|    No|   NicholasCage.png,|\n|1991|   113|Elizabeth Taylor ...|Drama|       Fisher, Eddie|Taylor, Elizabeth|               null|        21|    No|elizabethTaylor.p...|\n|1973|   113|Scenes from a Mar...|Drama|   Josephson, Erland|      Ullman, Liv|    Bergman, Ingmar|         3|   Yes|       Bergman.png,,|\n|1973|   113|    Paper Chase, The|Drama|    Bottoms, Timothy|  Wagner, Lindsay|     Bridges, James|         7|   Yes|   NicholasCage.png,|\n|1993|   113|   Mr. & Mrs. Bridge|Drama|        Newman, Paul| Woodward, Joanne|               null|        29|    No|   paulNewman.png,,,|\n|1990|   113| Blood in, Blood Out|Drama|          Penn, Sean|             null|Olmos, Edward James|        88|    No|  NicholasCage.png,,|\n|1991|   113|         Raging Bull|Drama|     De Niro, Robert|             null|   Scorsese, Martin|        25|    No| NicholasCage.png,,,|\n|1991|   113|Tormenta Sobre Ar...|Drama|       Ford, Wallace|             null|               null|        81|    No|NicholasCage.png,,,,|\n|1983|   113|  Shakespeare Series|Drama|       Gielgud, John|             null|               null|        23|    No|NicholasCage.png,,,,|\n|1990|   113|       A Married Man|Drama|    Hopkins, Anthony|             null|               null|        79|    No|AnthonyHopkins.pn...|\n+----+------+--------------------+-----+--------------------+-----------------+-------------------+----------+------+--------------------+\n\n"
     ]
    }
   ],
   "source": [
    "data.filter(data.Length.isNull()).filter(data.Genre == 'Drama').na.fill(value = mean_drama,subset=[\"Length\"]).show()"
   ]
  },
  {
   "cell_type": "code",
   "execution_count": 90,
   "metadata": {},
   "outputs": [
    {
     "output_type": "execute_result",
     "data": {
      "text/plain": [
       "116.90625"
      ]
     },
     "metadata": {},
     "execution_count": 90
    }
   ],
   "source": [
    "mean_war"
   ]
  },
  {
   "cell_type": "code",
   "execution_count": 91,
   "metadata": {},
   "outputs": [
    {
     "output_type": "stream",
     "name": "stdout",
     "text": [
      "+----+------+--------------------+-----+-----------+-------+--------+----------+------+-----------------+\n|Year|Length|               Title|Genre|      Actor|Actress|Director|Popularity|Awards|            Image|\n+----+------+--------------------+-----+-----------+-------+--------+----------+------+-----------------+\n|1991|   116|John Wayne Collec...|  War|Wayne, John|   null|    null|        49|    No|  johnWayne.png,,|\n|1992|   116|John Wayne Collec...|  War|Wayne, John|   null|    null|         3|    No|johnWayne.png,,,,|\n+----+------+--------------------+-----+-----------+-------+--------+----------+------+-----------------+\n\n"
     ]
    }
   ],
   "source": [
    "data.filter(data.Length.isNull()).filter(data.Genre == 'War').na.fill(value = mean_war,subset=[\"Length\"]).show()"
   ]
  },
  {
   "cell_type": "code",
   "execution_count": 92,
   "metadata": {},
   "outputs": [
    {
     "output_type": "execute_result",
     "data": {
      "text/plain": [
       "103.00990099009901"
      ]
     },
     "metadata": {},
     "execution_count": 92
    }
   ],
   "source": [
    "mean_mystery"
   ]
  },
  {
   "source": [
    "data.filter(data.Length.isNull()).filter(data.Genre == 'Mystery').na.fill(value = mean_mystery,subset=[\"Length\"]).show()"
   ],
   "cell_type": "code",
   "metadata": {},
   "execution_count": 93,
   "outputs": [
    {
     "output_type": "stream",
     "name": "stdout",
     "text": [
      "+----+------+------------------+-------+---------------+---------------+--------------------+----------+------+-------------------+\n|Year|Length|             Title|  Genre|          Actor|        Actress|            Director|Popularity|Awards|              Image|\n+----+------+------------------+-------+---------------+---------------+--------------------+----------+------+-------------------+\n|1989|   103|           Killjoy|Mystery|   Culp, Robert|  Basinger, Kim|Moxey, John Llewe...|        71|    No| NicholasCage.png,,|\n|1988|   103|  White of the Eye|Mystery|   Keith, David|Moriarty, Cathy|     Cammell, Donald|        48|    No| NicholasCage.png,,|\n|1988|   103|Still of the Night|Mystery|  Scheider, Roy|  Streep, Meryl|      Benton, Robert|        42|    No|  merylStreep.png,,|\n|1992|   103| Mummy's Hand, The|Mystery|    Foran, Dick|           null|                null|        54|    No|NicholasCage.png,,,|\n|1989|   103|        Saint, The|Mystery|   Moore, Roger|           null|                null|        29|    No|NicholasCage.png,,,|\n|1990|   103|    Two Jakes, The|Mystery|Nicholson, Jack|           null|                null|         3|    No|NicholasCage.png,,,|\n+----+------+------------------+-------+---------------+---------------+--------------------+----------+------+-------------------+\n\n"
     ]
    }
   ]
  },
  {
   "cell_type": "code",
   "execution_count": 94,
   "metadata": {},
   "outputs": [
    {
     "output_type": "execute_result",
     "data": {
      "text/plain": [
       "100.48780487804878"
      ]
     },
     "metadata": {},
     "execution_count": 94
    }
   ],
   "source": [
    "mean_music"
   ]
  },
  {
   "cell_type": "code",
   "execution_count": 95,
   "metadata": {},
   "outputs": [
    {
     "output_type": "stream",
     "name": "stdout",
     "text": [
      "+----+------+--------------------+-----+----------+-------------+--------+----------+------+-------------------+\n|Year|Length|               Title|Genre|     Actor|      Actress|Director|Popularity|Awards|              Image|\n+----+------+--------------------+-----+----------+-------------+--------+----------+------+-------------------+\n|1984|   100|Gary Numan - Berz...|Music|Webb, John|Taylor, Karen|    null|        60|    No|NicholasCage.png,,,|\n|1990|   100|Sounds of the Sev...|Music|Jones, Tom|Welch, Raquel|    null|        13|    No|NicholasCage.png,,,|\n+----+------+--------------------+-----+----------+-------------+--------+----------+------+-------------------+\n\n"
     ]
    }
   ],
   "source": [
    "data.filter(data.Length.isNull()).filter(data.Genre == 'Music').na.fill(value = mean_music,subset=[\"Length\"]).show()"
   ]
  },
  {
   "cell_type": "code",
   "execution_count": 96,
   "metadata": {},
   "outputs": [
    {
     "output_type": "execute_result",
     "data": {
      "text/plain": [
       "93.92727272727272"
      ]
     },
     "metadata": {},
     "execution_count": 96
    }
   ],
   "source": [
    "mean_horror"
   ]
  },
  {
   "cell_type": "code",
   "execution_count": 97,
   "metadata": {},
   "outputs": [
    {
     "output_type": "stream",
     "name": "stdout",
     "text": [
      "+----+------+--------------------+------+--------------+--------------------+----------------+----------+------+-------------------+\n|Year|Length|               Title| Genre|         Actor|             Actress|        Director|Popularity|Awards|              Image|\n+----+------+--------------------+------+--------------+--------------------+----------------+----------+------+-------------------+\n|1980|    93|Happy Birthday to Me|Horror|   Ford, Glenn|Anderson, Melissa...|Thompson, J. Lee|        88|    No|    glennFord.png,,|\n|1988|    93|  Mama's Dirty Girls|Horror|Currie, Sondra|     Grahame, Gloria|            null|        62|    No|NicholasCage.png,,,|\n+----+------+--------------------+------+--------------+--------------------+----------------+----------+------+-------------------+\n\n"
     ]
    }
   ],
   "source": [
    "data.filter(data.Length.isNull()).filter(data.Genre == 'Horror').na.fill(value = mean_horror,subset=[\"Length\"]).show()"
   ]
  },
  {
   "cell_type": "code",
   "execution_count": 98,
   "metadata": {},
   "outputs": [
    {
     "output_type": "execute_result",
     "data": {
      "text/plain": [
       "93.0091743119266"
      ]
     },
     "metadata": {},
     "execution_count": 98
    }
   ],
   "source": [
    "mean_western"
   ]
  },
  {
   "cell_type": "code",
   "execution_count": 99,
   "metadata": {},
   "outputs": [
    {
     "output_type": "stream",
     "name": "stdout",
     "text": [
      "+----+------+--------------------+-------+--------------+--------------+--------------+----------+------+-------------------+\n|Year|Length|               Title|  Genre|         Actor|       Actress|      Director|Popularity|Awards|              Image|\n+----+------+--------------------+-------+--------------+--------------+--------------+----------+------+-------------------+\n|1931|    93|     Range Feud, The|Western|   Wayne, John|Fleming, Susan|Lederman, Ross|        51|    No|     johnWayne.png,|\n|1989|    93|Death Valley Days...|Western|   Caan, James|          null|          null|         9|    No|NicholasCage.png,,,|\n|1989|    93|Death Valley Days...|Western|Reagan, Ronald|          null|          null|         1|    No|NicholasCage.png,,,|\n|1993|    93|Duke, The Films o...|Western|   Wayne, John|          null|          null|        70|    No|   johnWayne.png,,,|\n|1932|    93|   Hurricane Express|Western|   Wayne, John|          null|          null|         7|    No|  johnWayne.png,,,,|\n|1991|    93|John Wayne Four Pack|Western|   Wayne, John|          null|          null|        58|    No|  johnWayne.png,,,,|\n|1990|    93| John Wayne Six Pack|Western|   Wayne, John|          null|          null|        87|    No|  johnWayne.png,,,,|\n|1991|    93|John Wayne Wester...|Western|   Wayne, John|          null|          null|        22|    No|   johnWayne.png,,,|\n|1993|    93| Neath Arizona Skies|Western|   Wayne, John|          null|          null|        73|    No|  johnWayne.png,,,,|\n|1990|    93|     Sagebrush Trail|Western|   Wayne, John|          null|          null|        23|    No|  johnWayne.png,,,,|\n+----+------+--------------------+-------+--------------+--------------+--------------+----------+------+-------------------+\n\n"
     ]
    }
   ],
   "source": [
    "data.filter(data.Length.isNull()).filter(data.Genre == 'Western').na.fill(value = mean_western,subset=[\"Length\"]).show()"
   ]
  },
  {
   "cell_type": "code",
   "execution_count": 100,
   "metadata": {},
   "outputs": [
    {
     "output_type": "execute_result",
     "data": {
      "text/plain": [
       "96.50540540540541"
      ]
     },
     "metadata": {},
     "execution_count": 100
    }
   ],
   "source": [
    "mean_comedy"
   ]
  },
  {
   "cell_type": "code",
   "execution_count": 101,
   "metadata": {},
   "outputs": [
    {
     "output_type": "stream",
     "name": "stdout",
     "text": [
      "+----+------+--------------------+------+--------------------+-----------------+------------------+----------+------+--------------------+\n|Year|Length|               Title| Genre|               Actor|          Actress|          Director|Popularity|Awards|               Image|\n+----+------+--------------------+------+--------------------+-----------------+------------------+----------+------+--------------------+\n|1982|    96|Catch a Rising St...|Comedy|     Belzer, Richard|     Benatar, Pat|              null|        18|    No|  NicholasCage.png,,|\n|1987|    96|           Mannequin|Comedy|    McCarthy, Andrew|    Cattrall, Kim| Gottlieb, Michael|        23|    No|  NicholasCage.png,,|\n|1990|    96|          Party, The|Comedy|      Sellers, Peter|  Champion, Marge|    Edwards, Blake|        32|    No|   NicholasCage.png,|\n|1991|    96|             Why Me?|Comedy|Lambert, Christopher|      Greist, Kim|              null|        74|    No| NicholasCage.png,,,|\n|1990|    96|        Crazy People|Comedy|       Moore, Dudley|    Hannah, Daryl|        Bill, Tony|        61|    No|  NicholasCage.png,,|\n|1989|    96|        High Spirits|Comedy|      O'Toole, Peter|    Hannah, Daryl|      Jordan, Neil|        53|    No|  NicholasCage.png,,|\n|1968|    96|Bliss of Mrs. Blo...|Comedy|        Booth, James|MacLaine, Shirley|   McGrath, Joseph|        86|    No|   NicholasCage.png,|\n|1986|    96|             Matador|Comedy|   Banderas, Antonio|    Maura, Carmen|  Almod�var, Pedro|        34|    No|  NicholasCage.png,,|\n|1983|    96|Hollywood Out-Tak...|Comedy|    Bogart, Humphrey|  Monroe, Marilyn|              null|        27|    No| NicholasCage.png,,,|\n|1950|    96| Father of the Bride|Comedy|         Taylor, Rod|Taylor, Elizabeth|Minnelli, Vincente|        54|    No|elizabethTaylor.p...|\n|1993|    96|       Ginger & Fred|Comedy|Mastroianni, Marc...|             null| Fellini, Federico|        29|    No| NicholasCage.png,,,|\n|1993|    96|       Hot Line, The|Comedy|      Boyer, Charles|             null|   Perier, Etienne|        70|    No|  NicholasCage.png,,|\n|1990|    96|         Valkenvania|Comedy|        Chase, Chevy|             null|              null|        82|    No|NicholasCage.png,,,,|\n|1989|    96|Best of Eddie Mur...|Comedy|       Murphy, Eddie|             null|              null|        56|    No|  NicholasCage.png,,|\n|1968|    96|Secret War of Har...|Comedy|        Newman, Paul|             null|              null|        28|    No|   paulNewman.png,,,|\n+----+------+--------------------+------+--------------------+-----------------+------------------+----------+------+--------------------+\n\n"
     ]
    }
   ],
   "source": [
    "data.filter(data.Length.isNull()).filter(data.Genre == 'Comedy').na.fill(value = mean_comedy,subset=[\"Length\"]).show()"
   ]
  },
  {
   "cell_type": "code",
   "execution_count": 102,
   "metadata": {},
   "outputs": [
    {
     "output_type": "execute_result",
     "data": {
      "text/plain": [
       "104.5"
      ]
     },
     "metadata": {},
     "execution_count": 102
    }
   ],
   "source": [
    "mean_action"
   ]
  },
  {
   "cell_type": "code",
   "execution_count": 103,
   "metadata": {},
   "outputs": [
    {
     "output_type": "stream",
     "name": "stdout",
     "text": [
      "+----+------+--------------------+------+-----------------+-------------------+--------------------+----------+------+--------------------+\n|Year|Length|               Title| Genre|            Actor|            Actress|            Director|Popularity|Awards|               Image|\n+----+------+--------------------+------+-----------------+-------------------+--------------------+----------+------+--------------------+\n|1962|   104|              Dr. No|Action|    Connery, Sean|    Andress, Ursula|      Young, Terence|         7|    No|   seanConnery.png,,|\n|1983|   104|Moon in the Gutte...|Action|Depardieu, G�rard|  Kinski, Nastassia|Beineix, Jean-Jac...|        29|    No|   NicholasCage.png,|\n|1992|   104|     Pleasure Palace|Action|     Sharif, Omar|Principal, Victoria|                null|        45|    No| NicholasCage.png,,,|\n|1990|   104|Hells Angels on W...|Action|  Nicholson, Jack|    Scharf, Sabrina|                null|         1|    No| NicholasCage.png,,,|\n|1990|   104|      Live & Let Die|Action|     Moore, Roger|      Seymour, Jane|                null|        62|    No| NicholasCage.png,,,|\n|1990|   104|Diamonds are Forever|Action|    Connery, Sean|     St. John, Jill|       Hamilton, Guy|         8|    No|   seanConnery.png,,|\n|1964|   104|From Russia with ...|Action|    Connery, Sean|               null|                null|         6|    No| seanConnery.png,,,,|\n|1991|   104|Complete Dirty Ha...|Action|  Eastwood, Clint|               null|                null|        53|    No| clintEastwood.png,,|\n|1993|   104|  Runaway Barge, The|Action|    Matheson, Tim|               null|                null|        38|    No| NicholasCage.png,,,|\n|1989|   104|   Once upon a Wheel|Action|     Newman, Paul|               null|                null|        40|    No|  paulNewman.png,,,,|\n|1992|   104|El Rublo de las D...|Action|   Taylor, Robert|               null|                null|        83|    No|NicholasCage.png,,,,|\n+----+------+--------------------+------+-----------------+-------------------+--------------------+----------+------+--------------------+\n\n"
     ]
    }
   ],
   "source": [
    "data.filter(data.Length.isNull()).filter(data.Genre == 'Action').na.fill(value = mean_action,subset=[\"Length\"]).show()"
   ]
  },
  {
   "cell_type": "code",
   "execution_count": 104,
   "metadata": {},
   "outputs": [
    {
     "output_type": "execute_result",
     "data": {
      "text/plain": [
       "124.8"
      ]
     },
     "metadata": {},
     "execution_count": 104
    }
   ],
   "source": [
    "mean_westerns"
   ]
  },
  {
   "cell_type": "code",
   "execution_count": 105,
   "metadata": {},
   "outputs": [
    {
     "output_type": "stream",
     "name": "stdout",
     "text": [
      "+----+------+--------------------+--------+---------------+-------+--------+----------+------+--------------------+\n|Year|Length|               Title|   Genre|          Actor|Actress|Director|Popularity|Awards|               Image|\n+----+------+--------------------+--------+---------------+-------+--------+----------+------+--------------------+\n|1991|   124|Clint Eastwood Co...|Westerns|Eastwood, Clint|   null|    null|        11|    No|clintEastwood.png,,,|\n+----+------+--------------------+--------+---------------+-------+--------+----------+------+--------------------+\n\n"
     ]
    }
   ],
   "source": [
    "data.filter(data.Length.isNull()).filter(data.Genre == 'Westerns').na.fill(value = mean_westerns,subset=[\"Length\"]).show()"
   ]
  },
  {
   "source": [
    "2. Genre \n",
    "#### Genre has 2 missing values here I will check the Director and mode of the movies he/she directs and put it there"
   ],
   "cell_type": "markdown",
   "metadata": {}
  },
  {
   "cell_type": "code",
   "execution_count": 106,
   "metadata": {},
   "outputs": [
    {
     "output_type": "stream",
     "name": "stdout",
     "text": [
      "+----------------+\n|        Director|\n+----------------+\n|Compton, Richard|\n|  Bernds, Edward|\n+----------------+\n\n"
     ]
    }
   ],
   "source": [
    "# First step is to check the Director we need to calculate the mode of the movies Genre for\n",
    "data.select('Director').filter(data.Genre.isNull()).distinct().show()"
   ]
  },
  {
   "cell_type": "code",
   "execution_count": 124,
   "metadata": {},
   "outputs": [
    {
     "output_type": "stream",
     "name": "stdout",
     "text": [
      "+-----+-----+\n",
      "|Genre|count|\n",
      "+-----+-----+\n",
      "| null|    1|\n",
      "+-----+-----+\n",
      "\n",
      "+----+------+----------+-----+------------+-------------+----------------+----------+------+------------------+\n",
      "|Year|Length|     Title|Genre|       Actor|      Actress|        Director|Popularity|Awards|             Image|\n",
      "+----+------+----------+-----+------------+-------------+----------------+----------+------+------------------+\n",
      "|1980|   180|Wild Times| null|Elliott, Sam|Peyser, Penny|Compton, Richard|        75|    No|NicholasCage.png,,|\n",
      "+----+------+----------+-----+------------+-------------+----------------+----------+------+------------------+\n",
      "\n",
      "+-----+-----+\n",
      "|Genre|count|\n",
      "+-----+-----+\n",
      "| null|    1|\n",
      "+-----+-----+\n",
      "\n",
      "+----+------+---------------+-----+-----------------+----------------+--------------+----------+------+------------------+\n",
      "|Year|Length|          Title|Genre|            Actor|         Actress|      Director|Popularity|Awards|             Image|\n",
      "+----+------+---------------+-----+-----------------+----------------+--------------+----------+------+------------------+\n",
      "|1953|    61|White Lightning| null|Clements, Stanley|Blondell, Gloria|Bernds, Edward|      null|    No|NicholasCage.png,,|\n",
      "+----+------+---------------+-----+-----------------+----------------+--------------+----------+------+------------------+\n",
      "\n"
     ]
    }
   ],
   "source": [
    "from pyspark.sql.functions import col\n",
    "\n",
    "cnts = data.filter(data.Director == 'Compton, Richard').groupBy(\"Genre\").count()\n",
    "cnts.show()\n",
    "\n",
    "data.filter(data.Director == 'Compton, Richard').show()\n",
    "cnts = data.filter(data.Director == 'Bernds, Edward').groupBy(\"Genre\").count()\n",
    "cnts.show()\n",
    "data.filter(data.Director == 'Bernds, Edward').show()\n",
    "\n",
    "#Since we only had one value here we can't use Director hence I have decided to drop these two values as only two values out of 1659 would not affect the dataset "
   ]
  },
  {
   "cell_type": "code",
   "execution_count": 128,
   "metadata": {},
   "outputs": [
    {
     "output_type": "stream",
     "name": "stdout",
     "text": [
      "1657\n"
     ]
    },
    {
     "output_type": "execute_result",
     "data": {
      "text/plain": [
       "0"
      ]
     },
     "metadata": {},
     "execution_count": 128
    }
   ],
   "source": [
    "# Dropping Null Values\n",
    "print(data.na.drop(subset=[\"Genre\"]).count())\n",
    "data.na.drop(subset=[\"Genre\"]).filter(data.Genre.isNull()).count()"
   ]
  },
  {
   "cell_type": "markdown",
   "metadata": {},
   "source": [
    "3. Actor\n",
    "#### Actor has 8 missing values here I will check the Genre where the Actor is same and for other values and put it in there"
   ]
  },
  {
   "cell_type": "code",
   "execution_count": 155,
   "metadata": {},
   "outputs": [
    {
     "output_type": "stream",
     "name": "stdout",
     "text": [
      "+----+------+--------------------+------+-----+-------+----------------+----------+------+--------------------+\n",
      "|Year|Length|               Title| Genre|Actor|Actress|        Director|Popularity|Awards|               Image|\n",
      "+----+------+--------------------+------+-----+-------+----------------+----------+------+--------------------+\n",
      "|1988|   100|Ciao Italia, Mado...| Music| null|Madonna|De Winter, Harry|        74|    No| NicholasCage.png,,,|\n",
      "|1991|   118|Madonna, Truth or...| Music| null|Madonna|Keshishian, Alek|        54|    No| NicholasCage.png,,,|\n",
      "|1990|    60|Immaculate Collec...| Music| null|Madonna|            null|        32|    No|NicholasCage.png,,,,|\n",
      "|1987|    50|Madonna Live, The...| Music| null|Madonna|            null|        75|    No|NicholasCage.png,,,,|\n",
      "|1990|     5|Madonna, Justify ...| Music| null|Madonna|            null|        77|    No|NicholasCage.png,,,,|\n",
      "|1991|    16|Madonna, Like a V...| Music| null|Madonna|            null|        63|    No|NicholasCage.png,,,,|\n",
      "|1986|    90|Ninja, the Violen...|Action| null|   null|  Lambert, Bruce|      null|    No| NicholasCage.png,,,|\n",
      "|1990|    59| Erasure, Live Wild!| Music| null|   null|   Taylor, Gavin|        48|    No| NicholasCage.png,,,|\n",
      "+----+------+--------------------+------+-----+-------+----------------+----------+------+--------------------+\n",
      "\n",
      "+--------------------+\n",
      "|               Actor|\n",
      "+--------------------+\n",
      "|       Harrison, Rex|\n",
      "|          Webb, John|\n",
      "|       Astaire, Fred|\n",
      "|          Jones, Tom|\n",
      "|         Majors, Lee|\n",
      "|     Lamas, Fernando|\n",
      "|          Cage, John|\n",
      "|                null|\n",
      "|       Taylor, Cecil|\n",
      "|       Daltry, Roger|\n",
      "|Plummer, Christopher|\n",
      "|        Savage, John|\n",
      "|        Sharif, Omar|\n",
      "|        White, Vanna|\n",
      "|  Caulfield, Maxwell|\n",
      "|        Morrow, Carl|\n",
      "|        Lynch, David|\n",
      "|    Pattnosh, Jeremy|\n",
      "|        Wilder, Gene|\n",
      "|     Patinkin, Mandy|\n",
      "+--------------------+\n",
      "only showing top 20 rows\n",
      "\n",
      "+--------------------+-----+\n",
      "|               Actor|count|\n",
      "+--------------------+-----+\n",
      "|                null|    7|\n",
      "|     Lamas, Fernando|    1|\n",
      "|       Astaire, Fred|    1|\n",
      "|          Jones, Tom|    1|\n",
      "|          Cage, John|    1|\n",
      "|          Webb, John|    1|\n",
      "|       Harrison, Rex|    1|\n",
      "|         Majors, Lee|    1|\n",
      "|        Lynch, David|    1|\n",
      "|       Taylor, Cecil|    1|\n",
      "|Plummer, Christopher|    1|\n",
      "|        Savage, John|    1|\n",
      "|       Daltry, Roger|    1|\n",
      "|        White, Vanna|    1|\n",
      "|        Sharif, Omar|    1|\n",
      "|        Morrow, Carl|    1|\n",
      "|      O'Toole, Peter|    1|\n",
      "|     Patinkin, Mandy|    1|\n",
      "|    Pattnosh, Jeremy|    1|\n",
      "|        Wilder, Gene|    1|\n",
      "+--------------------+-----+\n",
      "only showing top 20 rows\n",
      "\n"
     ]
    }
   ],
   "source": [
    "# First step is to check the Director we need to calculate the mode of the movies Genre for\n",
    "data.filter(data.Actor.isNull()).show()\n",
    "# Since we have Null values for the Actors working in Music Genre so I am trying to get the mode of the Actor who worked in Music Genre\n",
    "data.select('Actor').filter(data.Genre == 'Music').distinct().show()\n",
    "music_actors=data.select('*').filter(data.Genre == 'Music').groupBy('Actor').count().sort((col('count')).desc())\n",
    "music_actors.show()"
   ]
  },
  {
   "cell_type": "code",
   "execution_count": 158,
   "metadata": {},
   "outputs": [
    {
     "output_type": "stream",
     "name": "stdout",
     "text": [
      "+-----------------+-----+\n",
      "|            Actor|count|\n",
      "+-----------------+-----+\n",
      "|      Wayne, John|   81|\n",
      "|  Eastwood, Clint|   31|\n",
      "|    Connery, Sean|   30|\n",
      "|     Newman, Paul|   27|\n",
      "|  Lancaster, Burt|   24|\n",
      "|   Brando, Marlon|   24|\n",
      "|   Tracy, Spencer|   24|\n",
      "|      Ford, Glenn|   23|\n",
      "|   Sellers, Peter|   23|\n",
      "|Depardieu, G�rard|   18|\n",
      "|  Nicholson, Jack|   17|\n",
      "|Dreyfuss, Richard|   15|\n",
      "|     Moore, Roger|   15|\n",
      "| Douglas, Michael|   15|\n",
      "|    Moore, Dudley|   13|\n",
      "|  De Niro, Robert|   13|\n",
      "| Hopkins, Anthony|   12|\n",
      "|     Cleese, John|   12|\n",
      "|     Allen, Woody|   11|\n",
      "|  Williams, Robin|   11|\n",
      "+-----------------+-----+\n",
      "only showing top 20 rows\n",
      "\n",
      "+----+------+--------------------+------+-----------+-------+----------------+----------+------+--------------------+\n",
      "|Year|Length|               Title| Genre|      Actor|Actress|        Director|Popularity|Awards|               Image|\n",
      "+----+------+--------------------+------+-----------+-------+----------------+----------+------+--------------------+\n",
      "|1988|   100|Ciao Italia, Mado...| Music|Wayne, John|Madonna|De Winter, Harry|        74|    No| NicholasCage.png,,,|\n",
      "|1991|   118|Madonna, Truth or...| Music|Wayne, John|Madonna|Keshishian, Alek|        54|    No| NicholasCage.png,,,|\n",
      "|1990|    60|Immaculate Collec...| Music|Wayne, John|Madonna|            null|        32|    No|NicholasCage.png,,,,|\n",
      "|1987|    50|Madonna Live, The...| Music|Wayne, John|Madonna|            null|        75|    No|NicholasCage.png,,,,|\n",
      "|1990|     5|Madonna, Justify ...| Music|Wayne, John|Madonna|            null|        77|    No|NicholasCage.png,,,,|\n",
      "|1991|    16|Madonna, Like a V...| Music|Wayne, John|Madonna|            null|        63|    No|NicholasCage.png,,,,|\n",
      "|1986|    90|Ninja, the Violen...|Action|Wayne, John|   null|  Lambert, Bruce|      null|    No| NicholasCage.png,,,|\n",
      "|1990|    59| Erasure, Live Wild!| Music|Wayne, John|   null|   Taylor, Gavin|        48|    No| NicholasCage.png,,,|\n",
      "+----+------+--------------------+------+-----------+-------+----------------+----------+------+--------------------+\n",
      "\n"
     ]
    }
   ],
   "source": [
    "# Taking mode of Actor with most movies and adding it to the null values\n",
    "actors=data.groupBy('Actor').count().sort((col('count')).desc())\n",
    "actors.show()\n",
    "\n",
    "maximum_val=actors.agg({\"count\": \"max\"}).first()[0]\n",
    "\n",
    "actor_with_most_movies=actors.select('Actor').filter((col('count')==maximum_val)).collect()[0][0] # Mode\n",
    "\n",
    "data.filter(data.Actor.isNull()).na.fill(value = actor_with_most_movies,subset=[\"Actor\"]).show()"
   ]
  },
  {
   "cell_type": "markdown",
   "metadata": {},
   "source": [
    "4. Actress\n",
    "#### Actress has 378 missing values here I will check with the same technique as used for Actor and then see what can we do to impute the values first"
   ]
  },
  {
   "cell_type": "code",
   "execution_count": 161,
   "metadata": {},
   "outputs": [
    {
     "output_type": "stream",
     "name": "stdout",
     "text": [
      "+----+------+--------------------+-------+--------------------+-------+--------------------+----------+------+--------------------+\n",
      "|Year|Length|               Title|  Genre|               Actor|Actress|            Director|Popularity|Awards|               Image|\n",
      "+----+------+--------------------+-------+--------------------+-------+--------------------+----------+------+--------------------+\n",
      "|1953|    94|           Vera Cruz| Action|        Cooper, Gary|   null|     Aldrich, Robert|        71|    No| NicholasCage.png,,,|\n",
      "|1954|    91|              Apache|Western|     Lancaster, Burt|   null|     Aldrich, Robert|        78|    No|burtLancaster.png,,,|\n",
      "|1977|   146|Twilight's Last G...|  Drama|     Lancaster, Burt|   null|     Aldrich, Robert|        84|    No|burtLancaster.png,,,|\n",
      "|1979|   119|     Frisco Kid, The| Comedy|        Wilder, Gene|   null|     Aldrich, Robert|        10|    No|  NicholasCage.png,,|\n",
      "|1954|    30|   Bank on the Stars|  Drama|          Paar, Jack|   null|        Allen, Craig|      null|    No| NicholasCage.png,,,|\n",
      "|1987|   100|       Law of Desire|  Drama|       Maura, Carmen|   null|    Almod�var, Pedro|        73|    No| NicholasCage.png,,,|\n",
      "|1966|   103|Quiller Memorandu...|Mystery|       Segal, George|   null|   Anderson, Michael|        34|    No|  NicholasCage.png,,|\n",
      "|1962|   183|    Longest Day, The|    War|         Wayne, John|   null|        Annakin, Ken|         7|    No|     johnWayne.png,,|\n",
      "|1986|   128|Name of the Rose,...|  Drama|       Connery, Sean|   null|Annaud, Jean-Jacques|         8|    No|   seanConnery.png,,|\n",
      "|1988|    92|          Bloodsport| Action|Van Damme, Jean-C...|   null|        Arnold, Newt|        78|    No| NicholasCage.png,,,|\n",
      "|1986|    85|             Torment| Horror|     Gilbert, Taylor|   null|    Aslanian, Samson|         8|    No| NicholasCage.png,,,|\n",
      "|1988|   138| Pelle the Conqueror|  Drama|      Sydow, Max von|   null|       August, Bille|        14|   Yes| NicholasCage.png,,,|\n",
      "|1981|   118|                Taps|  Drama|     Hutton, Timothy|   null|      Becker, Harold|        84|    No| NicholasCage.png,,,|\n",
      "|1991|   102|       Freshman, The| Comedy|      Brando, Marlon|   null|     Bergman, Andrew|        32|    No|        brando.png,,|\n",
      "|1987|   164|   Last Emperor, The|  Drama|          Lone, John|   null|Bertolucci, Bernardo|         1|   Yes|  NicholasCage.png,,|\n",
      "|1962|   100|    Grim Reaper, The|  Drama|     Rulu, Francesco|   null|Bertolucci, Bernardo|        35|    No|  NicholasCage.png,,|\n",
      "|1983|    90|   Le Dernier Combat|  Drama|     Jolivet, Pierre|   null|         Besson, Luc|        72|    No| NicholasCage.png,,,|\n",
      "|1989|    91|Too Beautiful for...|  Drama|   Depardieu, G�rard|   null|     Blier, Bertrand|        35|    No| NicholasCage.png,,,|\n",
      "|1991|   105|Fire, Ice & Dynamite| Action|        Moore, Roger|   null|       Bogner, Willy|        72|    No|  NicholasCage.png,,|\n",
      "|1963|   113|       Heavens Above| Comedy|      Sellers, Peter|   null|      Boulting, John|        38|    No| NicholasCage.png,,,|\n",
      "+----+------+--------------------+-------+--------------------+-------+--------------------+----------+------+--------------------+\n",
      "only showing top 20 rows\n",
      "\n",
      "+---------------+\n",
      "|          Genre|\n",
      "+---------------+\n",
      "|          Drama|\n",
      "|            War|\n",
      "|        Mystery|\n",
      "|          Music|\n",
      "|Science Fiction|\n",
      "|         Horror|\n",
      "|        Western|\n",
      "|         Comedy|\n",
      "|         Action|\n",
      "|       Westerns|\n",
      "+---------------+\n",
      "\n"
     ]
    }
   ],
   "source": [
    "# First step is to check the Director we need to calculate the mode of the movies Genre for\n",
    "data.filter(data.Actress.isNull()).show()\n",
    "# Since we have Null values for the Actors working in Music Genre so I am trying to get the mode of the Actor who worked in Music Genre\n",
    "data.select('Genre').filter(data.Actress.isNull()).distinct().show()"
   ]
  },
  {
   "cell_type": "code",
   "execution_count": 165,
   "metadata": {},
   "outputs": [
    {
     "output_type": "stream",
     "name": "stdout",
     "text": [
      "+------------------+-----+\n",
      "|           Actress|count|\n",
      "+------------------+-----+\n",
      "|   Bergman, Ingrid|   23|\n",
      "|      Garbo, Greta|   17|\n",
      "| Taylor, Elizabeth|   16|\n",
      "|     Loren, Sophia|   13|\n",
      "|     Streep, Meryl|   12|\n",
      "|Hepburn, Katharine|    7|\n",
      "|  Woodward, Joanne|    6|\n",
      "|      Field, Sally|    6|\n",
      "|     Dunaway, Faye|    6|\n",
      "|     Hannah, Daryl|    5|\n",
      "|  Bardot, Brigitte|    5|\n",
      "|   Andersson, Bibi|    5|\n",
      "|       Ullman, Liv|    5|\n",
      "|    Hayworth, Rita|    5|\n",
      "|   McGillis, Kelly|    5|\n",
      "|     Keaton, Diane|    4|\n",
      "|      Hawn, Goldie|    4|\n",
      "|      Aimee, Anouk|    4|\n",
      "|   O'Hara, Maureen|    4|\n",
      "|     Basinger, Kim|    4|\n",
      "+------------------+-----+\n",
      "only showing top 20 rows\n",
      "\n",
      "+------------------+-----+\n",
      "|           Actress|count|\n",
      "+------------------+-----+\n",
      "|    Neal, Patricia|    1|\n",
      "|   Calvet, Corinne|    1|\n",
      "|   Brewster, Diane|    1|\n",
      "|     Mason, Marsha|    1|\n",
      "|  Bardot, Brigitte|    1|\n",
      "|   Kumagai, Denice|    1|\n",
      "|        Bow, Clara|    1|\n",
      "|    Bacall, Lauren|    1|\n",
      "|       Arnaz, Desi|    1|\n",
      "|      Turner, Lana|    1|\n",
      "|     Caron, Leslie|    1|\n",
      "|     Darwell, Jane|    1|\n",
      "|  Turner, Kathleen|    1|\n",
      "|       Mara, Adele|    1|\n",
      "|Deneuve, Catherine|    1|\n",
      "|         Ure, Mary|    1|\n",
      "|      Miles, Sarah|    1|\n",
      "+------------------+-----+\n",
      "\n",
      "+--------------------+-----+\n",
      "|             Actress|count|\n",
      "+--------------------+-----+\n",
      "|         Ford, Maria|    3|\n",
      "|      Bacall, Lauren|    2|\n",
      "|       Welch, Raquel|    2|\n",
      "|      Lange, Jessica|    2|\n",
      "|        Kelly, Grace|    2|\n",
      "|        Rogers, Mimi|    2|\n",
      "|Leigh, Jennifer J...|    1|\n",
      "|      Kidman, Nicole|    1|\n",
      "|       Jeans, Isabel|    1|\n",
      "|   Griffith, Melanie|    1|\n",
      "|      Henner, Marilu|    1|\n",
      "|        Ward, Sophie|    1|\n",
      "|      Andrews, Julie|    1|\n",
      "|        Day, Laraine|    1|\n",
      "|         Fonda, Jane|    1|\n",
      "|       Maynard, Mimi|    1|\n",
      "|          Day, Doris|    1|\n",
      "|       Markham, Kika|    1|\n",
      "|      Salt, Jennifer|    1|\n",
      "|      Bauer, Belinda|    1|\n",
      "+--------------------+-----+\n",
      "only showing top 20 rows\n",
      "\n",
      "+-----------------+-----+\n",
      "|          Actress|count|\n",
      "+-----------------+-----+\n",
      "|          Madonna|    8|\n",
      "|Streisand, Barbra|    3|\n",
      "|    Wood, Natalie|    1|\n",
      "|   Rogers, Ginger|    1|\n",
      "|   Lawson, Twiggy|    1|\n",
      "|  Sarandon, Susan|    1|\n",
      "|    Loren, Sophia|    1|\n",
      "|    Welch, Raquel|    1|\n",
      "|   Andrews, Julie|    1|\n",
      "|         Redd, Vi|    1|\n",
      "|    Holm, Celeste|    1|\n",
      "|    Parton, Dolly|    1|\n",
      "|      Elgart, Les|    1|\n",
      "|  Landers, Audrey|    1|\n",
      "|   Monk, Meredith|    1|\n",
      "|  Hepburn, Audrey|    1|\n",
      "|   Crouch, Sandra|    1|\n",
      "|Taylor, Elizabeth|    1|\n",
      "|    Taylor, Karen|    1|\n",
      "| Taylor, Victoria|    1|\n",
      "+-----------------+-----+\n",
      "only showing top 20 rows\n",
      "\n",
      "+--------------------+-----+\n",
      "|             Actress|count|\n",
      "+--------------------+-----+\n",
      "|   Weaver, Sigourney|    4|\n",
      "|      Fisher, Carrie|    3|\n",
      "|       Hart, Roxanne|    1|\n",
      "|     Mimieux, Yvette|    1|\n",
      "| Rampling, Charlotte|    1|\n",
      "|  Stapleton, Maureen|    1|\n",
      "| Sternhagen, Frances|    1|\n",
      "|   Nichols, Nichelle|    1|\n",
      "|   Bujold, Genevi�ve|    1|\n",
      "|      Barash, Olivia|    1|\n",
      "|Alonso, Maria Con...|    1|\n",
      "|       Capshaw, Kate|    1|\n",
      "|     Zetterling, Mai|    1|\n",
      "|   Crampton, Barbara|    1|\n",
      "|         Ward, Megan|    1|\n",
      "|          Dey, Susan|    1|\n",
      "|     Grahame, Gloria|    1|\n",
      "|        Day, Josette|    1|\n",
      "|        Verrell, Cec|    1|\n",
      "|           Sara, Mia|    1|\n",
      "+--------------------+-----+\n",
      "only showing top 20 rows\n",
      "\n",
      "+--------------------+-----+\n",
      "|             Actress|count|\n",
      "+--------------------+-----+\n",
      "|     Duvall, Shelley|    1|\n",
      "|Van Valkenburgh, ...|    1|\n",
      "|      Crosby, Denise|    1|\n",
      "|       Arnold, Tracy|    1|\n",
      "|       Wiest, Dianne|    1|\n",
      "|   Barbeau, Adrienne|    1|\n",
      "|         Hoak, Clare|    1|\n",
      "|        Blair, Linda|    1|\n",
      "|        Kelly, Nancy|    1|\n",
      "|        Davis, Sammi|    1|\n",
      "|      Carlisle, Mary|    1|\n",
      "|      Grye, Brittain|    1|\n",
      "|  Marcovicci, Andrea|    1|\n",
      "|    Carrera, Barbara|    1|\n",
      "|     Eggar, Samantha|    1|\n",
      "|        Black, Karen|    1|\n",
      "|     Grahame, Gloria|    1|\n",
      "|   O'Neill, Jennifer|    1|\n",
      "|        Lords, Traci|    1|\n",
      "|      Orgolini, Lisa|    1|\n",
      "+--------------------+-----+\n",
      "only showing top 20 rows\n",
      "\n",
      "+------------------+-----+\n",
      "|           Actress|count|\n",
      "+------------------+-----+\n",
      "|       O'Day, Nell|    3|\n",
      "|     Welch, Raquel|    2|\n",
      "|      Olson, Nancy|    2|\n",
      "|Hepburn, Katharine|    2|\n",
      "|       Dru, Joanne|    2|\n",
      "|    Trevor, Claire|    2|\n",
      "|    Fleming, Susan|    1|\n",
      "|       Miles, Vera|    1|\n",
      "|       Dvorak, Ann|    1|\n",
      "|   Hansen, Eleanor|    1|\n",
      "| Robinson, Frances|    1|\n",
      "|    Nelson, Evelyn|    1|\n",
      "|      Bloom, Verna|    1|\n",
      "|    Moreau, Jeanne|    1|\n",
      "|    Windsor, Marie|    1|\n",
      "|     Capshaw, Kate|    1|\n",
      "|Bisset, Jacqueline|    1|\n",
      "|     Darwell, Jane|    1|\n",
      "| Larson, Christine|    1|\n",
      "|   Ross, Katharine|    1|\n",
      "+------------------+-----+\n",
      "only showing top 20 rows\n",
      "\n",
      "+------------------+-----+\n",
      "|           Actress|count|\n",
      "+------------------+-----+\n",
      "|      Hawn, Goldie|    9|\n",
      "|     Keaton, Diane|    7|\n",
      "|  Bardot, Brigitte|    7|\n",
      "|Hepburn, Katharine|    6|\n",
      "| MacLaine, Shirley|    4|\n",
      "|       Moore, Demi|    4|\n",
      "|     Hannah, Daryl|    4|\n",
      "|       Farrow, Mia|    4|\n",
      "|  Turner, Kathleen|    3|\n",
      "|    Andrews, Julie|    3|\n",
      "|   Jackson, Glenda|    3|\n",
      "|    Kahn, Madeline|    3|\n",
      "|     Maura, Carmen|    3|\n",
      "|   Prentiss, Paula|    3|\n",
      "|     Basinger, Kim|    3|\n",
      "|   Bergman, Ingrid|    3|\n",
      "|Peters, Bernadette|    3|\n",
      "|Pfeiffer, Michelle|    3|\n",
      "|     Streep, Meryl|    3|\n",
      "|    Ramsey, Marion|    3|\n",
      "+------------------+-----+\n",
      "only showing top 20 rows\n",
      "\n",
      "+------------------+-----+\n",
      "|           Actress|count|\n",
      "+------------------+-----+\n",
      "|     Loren, Sophia|    4|\n",
      "|     Basinger, Kim|    3|\n",
      "|   Hamilton, Linda|    3|\n",
      "|     Ekland, Britt|    2|\n",
      "|       Speir, Dona|    2|\n",
      "|  Bergman, Sandahl|    2|\n",
      "|   Ross, Katharine|    2|\n",
      "|       Adams, Maud|    2|\n",
      "|      Jones, Grace|    2|\n",
      "|    Kidder, Margot|    2|\n",
      "|     Welch, Raquel|    2|\n",
      "|Delaney, Cassandra|    2|\n",
      "| Nielsen, Brigitte|    2|\n",
      "|  Turner, Kathleen|    2|\n",
      "|     Seymour, Jane|    1|\n",
      "|       Rigg, Diana|    1|\n",
      "|  Tilton, Charlene|    1|\n",
      "|       Rose, Jamie|    1|\n",
      "|      Kelly, Grace|    1|\n",
      "|      Sheedy, Ally|    1|\n",
      "+------------------+-----+\n",
      "only showing top 20 rows\n",
      "\n",
      "+-------------------+-----+\n",
      "|            Actress|count|\n",
      "+-------------------+-----+\n",
      "|Volonte, Gian Maria|    1|\n",
      "|   Bardot, Brigitte|    1|\n",
      "|      Locke, Sondra|    1|\n",
      "+-------------------+-----+\n",
      "\n"
     ]
    }
   ],
   "source": [
    "drama_actresses=data.select('*').filter((data.Genre == 'Drama') & (data.Actress.isNotNull())).groupBy('Actress').count().sort((col('count')).desc())\n",
    "drama_actresses.show()\n",
    "war_actresses=data.select('*').filter((data.Genre == 'War') & (data.Actress.isNotNull())).groupBy('Actress').count().sort((col('count')).desc())\n",
    "war_actresses.show()\n",
    "mystery_actresses=data.select('*').filter((data.Genre == 'Mystery') & (data.Actress.isNotNull())).groupBy('Actress').count().sort((col('count')).desc())\n",
    "mystery_actresses.show()\n",
    "music_actresses=data.select('*').filter((data.Genre == 'Music') & (data.Actress.isNotNull())).groupBy('Actress').count().sort((col('count')).desc())\n",
    "music_actresses.show()\n",
    "sci_fi_actresses=data.select('*').filter((data.Genre == 'Science Fiction') & (data.Actress.isNotNull())).groupBy('Actress').count().sort((col('count')).desc())\n",
    "sci_fi_actresses.show()\n",
    "horror_actresses=data.select('*').filter((data.Genre == 'Horror') & (data.Actress.isNotNull())).groupBy('Actress').count().sort((col('count')).desc())\n",
    "horror_actresses.show()\n",
    "western_actresses=data.select('*').filter((data.Genre == 'Western') & (data.Actress.isNotNull())).groupBy('Actress').count().sort((col('count')).desc())\n",
    "western_actresses.show()\n",
    "comedy_actresses=data.select('*').filter((data.Genre == 'Comedy') & (data.Actress.isNotNull())).groupBy('Actress').count().sort((col('count')).desc())\n",
    "comedy_actresses.show()\n",
    "action_actresses=data.select('*').filter((data.Genre == 'Action') & (data.Actress.isNotNull())).groupBy('Actress').count().sort((col('count')).desc())\n",
    "action_actresses.show()\n",
    "westerns_actresses=data.select('*').filter((data.Genre == 'Westerns') & (data.Actress.isNotNull())).groupBy('Actress').count().sort((col('count')).desc())\n",
    "westerns_actresses.show()"
   ]
  },
  {
   "cell_type": "code",
   "execution_count": null,
   "metadata": {},
   "outputs": [],
   "source": [
    "# Taking mode of Actor with most movies and adding it to the null values\n",
    "actors=data.groupBy('Actress').count().sort((col('count')).desc())\n",
    "actors.show()\n",
    "\n",
    "maximum_val=actors.agg({\"count\": \"max\"}).first()[0]\n",
    "\n",
    "actor_with_most_movies=actors.select('Actor').filter((col('count')==maximum_val)).collect()[0][0] # Mode\n",
    "\n",
    "data.filter(data.Actor.isNull()).na.fill(value = actor_with_most_movies,subset=[\"Actor\"]).show()"
   ]
  },
  {
   "cell_type": "markdown",
   "metadata": {},
   "source": [
    "### Question # 5: Find the average length of the movies of each genre."
   ]
  },
  {
   "cell_type": "code",
   "execution_count": 11,
   "metadata": {},
   "outputs": [
    {
     "name": "stdout",
     "output_type": "stream",
     "text": [
      "+---------------+------------------+\n",
      "|          Genre|       avg(Length)|\n",
      "+---------------+------------------+\n",
      "|          Crime|              66.0|\n",
      "|        Romance|             127.0|\n",
      "|      Adventure|             119.0|\n",
      "|           null|             120.5|\n",
      "|          Drama|113.30455259026688|\n",
      "|            War|         116.90625|\n",
      "|        Fantasy|             102.0|\n",
      "|        Mystery|103.00990099009901|\n",
      "|          Music|100.48780487804878|\n",
      "|Science Fiction|106.47368421052632|\n",
      "+---------------+------------------+\n",
      "only showing top 10 rows\n",
      "\n"
     ]
    }
   ],
   "source": [
    "data.groupBy(data.Genre).avg('Length').alias('Average Length').show(10) # Can't use Avg sum or any other function before group by just like in sql writing this down to remember next time"
   ]
  },
  {
   "cell_type": "markdown",
   "metadata": {},
   "source": [
    "### Question # 6: Find the actor and actress pair who have acted in more than three Comedies together."
   ]
  },
  {
   "cell_type": "code",
   "execution_count": 12,
   "metadata": {},
   "outputs": [
    {
     "name": "stdout",
     "output_type": "stream",
     "text": [
      "+--------------+------------------+-----+\n",
      "|         Actor|           Actress|count|\n",
      "+--------------+------------------+-----+\n",
      "|  Allen, Woody|     Keaton, Diane|    5|\n",
      "|Tracy, Spencer|Hepburn, Katharine|    6|\n",
      "+--------------+------------------+-----+\n",
      "\n"
     ]
    }
   ],
   "source": [
    "from pyspark.sql.functions import col\n",
    "data.filter(data.Genre=='Comedy').groupBy('Actor','Actress').count().alias('Count').filter((col('count')>3) & (data.Actor.isNotNull() & data.Actress.isNotNull())).show()"
   ]
  },
  {
   "cell_type": "markdown",
   "metadata": {},
   "source": [
    "### Question # 7: Find the names of actors who acted in movies of both ‘Comedy’ and ‘Drama’ Genre."
   ]
  },
  {
   "cell_type": "code",
   "execution_count": 13,
   "metadata": {},
   "outputs": [
    {
     "name": "stdout",
     "output_type": "stream",
     "text": [
      "+--------------------+\n",
      "|               Actor|\n",
      "+--------------------+\n",
      "|      Boyer, Charles|\n",
      "|      Taylor, Robert|\n",
      "|        Lemmon, Jack|\n",
      "|       Aiello, Danny|\n",
      "|      Stewart, James|\n",
      "|    Malmsten, Birger|\n",
      "|         Taylor, Rod|\n",
      "|       Russell, Kurt|\n",
      "|     Hopkins, Harold|\n",
      "|      Beatty, Warren|\n",
      "|       Irons, Jeremy|\n",
      "|        Fonda, Henry|\n",
      "|      Ford, Harrison|\n",
      "|   Depardieu, G�rard|\n",
      "|     Eastwood, Clint|\n",
      "|      Howard, Arliss|\n",
      "|        Cleese, John|\n",
      "|Lambert, Christopher|\n",
      "|        Johnson, Ben|\n",
      "|       Connery, Sean|\n",
      "+--------------------+\n",
      "only showing top 20 rows\n",
      "\n"
     ]
    }
   ],
   "source": [
    "data.select('Actor').filter(data.Genre=='Comedy').distinct().intersect(data.select('Actor').filter(data.Genre=='Drama').distinct()).show()"
   ]
  },
  {
   "cell_type": "markdown",
   "metadata": {},
   "source": [
    "### Question # 8: Find the names of actors who acted in movies of both ‘Comedy’ or ‘Drama’ Genre."
   ]
  },
  {
   "cell_type": "code",
   "execution_count": 14,
   "metadata": {},
   "outputs": [
    {
     "name": "stdout",
     "output_type": "stream",
     "text": [
      "+-----------------+\n",
      "|            Actor|\n",
      "+-----------------+\n",
      "|  Matthau, Walter|\n",
      "|Keillor, Garrison|\n",
      "|Gauthier, Vincent|\n",
      "|   Boyer, Charles|\n",
      "|Finneran, Siohban|\n",
      "|     Keach, James|\n",
      "|Nagase, Masatoshi|\n",
      "|   Taylor, Robert|\n",
      "|    Mandel, Howie|\n",
      "|     Chase, Chevy|\n",
      "|   Wilson, George|\n",
      "|      Arkin, Alan|\n",
      "|     Lemmon, Jack|\n",
      "|Banderas, Antonio|\n",
      "|     Most, Donald|\n",
      "|    Jaglom, Henry|\n",
      "|    Rey, Fernando|\n",
      "|    Aiello, Danny|\n",
      "|     Reiner, Carl|\n",
      "|     Cooper, Gary|\n",
      "+-----------------+\n",
      "only showing top 20 rows\n",
      "\n"
     ]
    }
   ],
   "source": [
    "data.select('Actor').filter(data.Genre=='Comedy').distinct().union(data.select('Actor').filter(data.Genre=='Drama').distinct()).show()"
   ]
  },
  {
   "cell_type": "markdown",
   "metadata": {},
   "source": [
    "### Question # 9: Find the names of actors who did not acted in any ‘Comedy’."
   ]
  },
  {
   "cell_type": "code",
   "execution_count": 15,
   "metadata": {},
   "outputs": [
    {
     "name": "stdout",
     "output_type": "stream",
     "text": [
      "+--------------------+\n",
      "|               Actor|\n",
      "+--------------------+\n",
      "|      Din, Ayub Khan|\n",
      "|        Ferrer, Jose|\n",
      "|       Harrison, Rex|\n",
      "|      McCleery, Gary|\n",
      "|         Busey, Gary|\n",
      "|      Boyer, Charles|\n",
      "|       Kime, Jeffrey|\n",
      "|     McDowall, Roddy|\n",
      "|          Race, Hugo|\n",
      "|Luckinbill, Laurence|\n",
      "|      Taylor, Robert|\n",
      "|       Karyo, Tcheky|\n",
      "|          Webb, John|\n",
      "|         Ganus, Paul|\n",
      "|       Longden, John|\n",
      "|       Fisher, Eddie|\n",
      "|        Keach, Stacy|\n",
      "|   Bergen, Robert D.|\n",
      "|    Sj�str�m, Victor|\n",
      "|         Morrow, Vic|\n",
      "+--------------------+\n",
      "only showing top 20 rows\n",
      "\n"
     ]
    }
   ],
   "source": [
    "data.select('Actor').filter(data.Genre!='Comedy').distinct().show()"
   ]
  },
  {
   "cell_type": "markdown",
   "metadata": {},
   "source": [
    "### Question # 10: Find each actor, find the mean, max, min ranking of his movies."
   ]
  },
  {
   "cell_type": "code",
   "execution_count": 16,
   "metadata": {},
   "outputs": [
    {
     "name": "stdout",
     "output_type": "stream",
     "text": [
      "+--------------------+-----------------+---------------+---------------+\n",
      "|               Actor|  avg(Popularity)|max(Popularity)|min(Popularity)|\n",
      "+--------------------+-----------------+---------------+---------------+\n",
      "|        Abel, Alfred|             49.0|             49|             49|\n",
      "|  Abraham, F. Murray|              6.0|              6|              6|\n",
      "|    Adolphson, Edvin|             49.0|             72|             26|\n",
      "|       Aherne, Brian|             57.0|             57|             57|\n",
      "|     Ahlstedt, B�rje|             81.0|             81|             81|\n",
      "|       Aiello, Danny|             12.5|             20|              5|\n",
      "|         Akan, Tarik|             53.0|             53|             53|\n",
      "|    Albaic�n, Rafael|             55.0|             55|             55|\n",
      "|      Albert, Edward|             82.0|             82|             82|\n",
      "|          Alda, Alan|             32.5|             53|             12|\n",
      "|         Allen, Bill|             75.0|             75|             75|\n",
      "|        Allen, Woody|51.27272727272727|             84|              6|\n",
      "|     Alterio, Hector|             39.0|             39|             39|\n",
      "|         Ameche, Don|             45.0|             45|             45|\n",
      "|     Anderson, Kevin|             53.0|             53|             53|\n",
      "|   Andersson, Wiktor|             66.0|             66|             66|\n",
      "|Anglade, Jean-Hughes|             71.0|             71|             71|\n",
      "|       Annese, Frank|             45.0|             45|             45|\n",
      "|        Apfel, Oscar|             66.0|             66|             66|\n",
      "|     Arestrup, Niels|             74.0|             74|             74|\n",
      "+--------------------+-----------------+---------------+---------------+\n",
      "only showing top 20 rows\n",
      "\n"
     ]
    }
   ],
   "source": [
    "from pyspark.sql.functions import mean as _mean, col\n",
    "from pyspark.sql import functions as f\n",
    "data.groupBy(\"Actor\").agg(_mean(\"Popularity\") ,f.max(\"Popularity\") ,f.min(\"Popularity\")).filter(data.Actor.isNotNull()).orderBy((data.Actor).asc()).show()"
   ]
  },
  {
   "cell_type": "markdown",
   "metadata": {},
   "source": [
    "### Question # 11: List the number of movies released in each decade starting from 1960’s."
   ]
  },
  {
   "cell_type": "code",
   "execution_count": 17,
   "metadata": {
    "tags": []
   },
   "outputs": [
    {
     "name": "stdout",
     "output_type": "stream",
     "text": [
      "Maximum Year to Determine total Decade is : 1997\n",
      "\n",
      "Number of movies in Decade Between 1960-1969 is :  154\n",
      "Number of movies in Decade Between 1970-1979 is :  244\n",
      "Number of movies in Decade Between 1980-1989 is :  607\n",
      "Number of movies in Decade Between 1990-1999 is :  345\n",
      "\n",
      "To Prove this is correct we check by following:-\n",
      "The sum of all decades =  1350\n",
      "The sum through pyspark query =  1350\n"
     ]
    }
   ],
   "source": [
    "row1 = data.agg({\"Year\": \"max\"}).collect()[0]\n",
    "print('Maximum Year to Determine total Decade is :',max(row1))\n",
    "print(\"\")\n",
    "dataCollect=data.rdd.toLocalIterator()\n",
    "first_decade=0\n",
    "second_decade=0\n",
    "third_decade=0\n",
    "fourth_decade=0\n",
    "\n",
    "for row in dataCollect:\n",
    "    if (row['Year']>=1960 and row['Year']<=1969):\n",
    "        first_decade=first_decade+1\n",
    "    elif (row['Year']>=1970 and row['Year']<=1979):\n",
    "        second_decade=second_decade+1\n",
    "    elif (row['Year']>=1980 and row['Year']<=1989):\n",
    "        third_decade=third_decade+1\n",
    "    elif (row['Year']>=1990 and row['Year']<=1999):\n",
    "        fourth_decade=fourth_decade+1\n",
    "\n",
    "print(\"Number of movies in Decade Between 1960-1969 is : \",first_decade)\n",
    "print(\"Number of movies in Decade Between 1970-1979 is : \",second_decade)\n",
    "print(\"Number of movies in Decade Between 1980-1989 is : \",third_decade)\n",
    "print(\"Number of movies in Decade Between 1990-1999 is : \",fourth_decade)\n",
    "print(\"\")\n",
    "print(\"To Prove this is correct we check by following:-\")\n",
    "print(\"The sum of all decades = \",first_decade+second_decade+third_decade+fourth_decade)\n",
    "print(\"The sum through pyspark query = \",data.filter(data.Year>=1960).count())\n"
   ]
  },
  {
   "cell_type": "markdown",
   "metadata": {},
   "source": [
    "### Question # 12: Find the number of movies released in each year."
   ]
  },
  {
   "cell_type": "code",
   "execution_count": 18,
   "metadata": {},
   "outputs": [
    {
     "name": "stdout",
     "output_type": "stream",
     "text": [
      "+----+-----+\n",
      "|Year|count|\n",
      "+----+-----+\n",
      "|1959|    9|\n",
      "|1990|  105|\n",
      "|1975|   23|\n",
      "|1977|   29|\n",
      "|1924|    3|\n",
      "|1974|   23|\n",
      "|1927|    3|\n",
      "|1955|   20|\n",
      "|1978|   18|\n",
      "|1925|    1|\n",
      "|1961|   14|\n",
      "|1942|    6|\n",
      "|1944|    4|\n",
      "|1939|   11|\n",
      "|1952|   10|\n",
      "|1956|   15|\n",
      "|1934|    4|\n",
      "|1988|   96|\n",
      "|1997|    1|\n",
      "|1968|   20|\n",
      "+----+-----+\n",
      "only showing top 20 rows\n",
      "\n"
     ]
    }
   ],
   "source": [
    "data.groupBy(\"Year\").count().show()"
   ]
  },
  {
   "cell_type": "markdown",
   "metadata": {},
   "source": [
    "### Question # 13: Find the number of movies released in each year of each genre. Consider only the movies with length greater than 100 minutes."
   ]
  },
  {
   "cell_type": "code",
   "execution_count": 19,
   "metadata": {},
   "outputs": [
    {
     "name": "stdout",
     "output_type": "stream",
     "text": [
      "+----+---------------+-----+\n",
      "|Year|          Genre|count|\n",
      "+----+---------------+-----+\n",
      "|1989|         Action|   10|\n",
      "|1988|         Comedy|   10|\n",
      "|1966|          Drama|    6|\n",
      "|1985|         Comedy|    6|\n",
      "|1957|        Western|    1|\n",
      "|1928|          Drama|    2|\n",
      "|1970|        Western|    2|\n",
      "|1975|          Drama|    5|\n",
      "|1969|         Action|    1|\n",
      "|1940|         Action|    1|\n",
      "|1939|        Western|    3|\n",
      "|1987|         Comedy|   13|\n",
      "|1982|Science Fiction|    1|\n",
      "|1951|            War|    1|\n",
      "|1965|          Music|    1|\n",
      "|1939|         Comedy|    1|\n",
      "|1964|          Music|    1|\n",
      "|1987|            War|    1|\n",
      "|1962|         Action|    1|\n",
      "|1966|        Mystery|    3|\n",
      "+----+---------------+-----+\n",
      "only showing top 20 rows\n",
      "\n"
     ]
    }
   ],
   "source": [
    "data.filter(data.Length>100).groupBy(\"Year\",\"Genre\").count().show()"
   ]
  },
  {
   "cell_type": "markdown",
   "metadata": {},
   "source": [
    "### Question # 14: Sort the movie’s release before 1990 by the title."
   ]
  },
  {
   "cell_type": "code",
   "execution_count": 20,
   "metadata": {},
   "outputs": [
    {
     "name": "stdout",
     "output_type": "stream",
     "text": [
      "+--------------------+\n",
      "|               Title|\n",
      "+--------------------+\n",
      "|2001: A Space Ody...|\n",
      "|             48 Hrs.|\n",
      "|               8 1/2|\n",
      "|A Big Hand for th...|\n",
      "|  A Child Is Waiting|\n",
      "|A Chorus Line, Th...|\n",
      "|  A Clockwork Orange|\n",
      "|A Coeur Joie, (He...|\n",
      "|   A Cry in the Dark|\n",
      "|  A Dry White Season|\n",
      "|      A Fine Madness|\n",
      "| A Fish Called Wanda|\n",
      "|A Fistful of Dollars|\n",
      "|     A Guy Named Joe|\n",
      "|    A Lesson in Love|\n",
      "|A Little Night Music|\n",
      "|     A Man & a Woman|\n",
      "|A Man & a Woman: ...|\n",
      "|A Man for All Sea...|\n",
      "|    A Matter of Time|\n",
      "+--------------------+\n",
      "only showing top 20 rows\n",
      "\n"
     ]
    }
   ],
   "source": [
    "data.select('Title').filter(data.Year<1990).sort(data.Title).show()"
   ]
  },
  {
   "cell_type": "markdown",
   "metadata": {},
   "source": [
    "### Question # 15: Find the movies with long titles. A movie title is considered long if it is greater than 50 alphabets."
   ]
  },
  {
   "cell_type": "code",
   "execution_count": 21,
   "metadata": {},
   "outputs": [
    {
     "name": "stdout",
     "output_type": "stream",
     "text": [
      "+--------------------+\n",
      "|               Title|\n",
      "+--------------------+\n",
      "|Fawlty Towers, Go...|\n",
      "|Unnamable II, The...|\n",
      "|Industrial Sympho...|\n",
      "+--------------------+\n",
      "\n"
     ]
    }
   ],
   "source": [
    "from pyspark.sql import functions as f\n",
    "data.filter(f.length(data.Title)>50).select('Title').show()"
   ]
  }
 ],
 "metadata": {
  "kernelspec": {
   "name": "python385jvsc74a57bd0b3ba2566441a7c06988d0923437866b63cedc61552a5af99d1f4fb67d367b25f",
   "display_name": "Python 3.8.5 64-bit ('base': conda)"
  },
  "language_info": {
   "codemirror_mode": {
    "name": "ipython",
    "version": 3
   },
   "file_extension": ".py",
   "mimetype": "text/x-python",
   "name": "python",
   "nbconvert_exporter": "python",
   "pygments_lexer": "ipython3",
   "version": "3.8.5"
  }
 },
 "nbformat": 4,
 "nbformat_minor": 2
}